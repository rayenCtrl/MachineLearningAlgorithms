{
 "cells": [
  {
   "cell_type": "code",
   "execution_count": 2,
   "metadata": {},
   "outputs": [
    {
     "name": "stdout",
     "output_type": "stream",
     "text": [
      "otot\n"
     ]
    }
   ],
   "source": [
    "def inverser_nom(nom_inversé):\n",
    "    nom_endroit=''\n",
    "    for i in range(len(nom_inversé)):\n",
    "        nom_endroit+=nom_inversé[len(nom_inversé)-i-1]\n",
    "    return nom_endroit\n",
    "\n",
    "print(inverser_nom('toto'))"
   ]
  },
  {
   "cell_type": "code",
   "execution_count": 3,
   "metadata": {},
   "outputs": [
    {
     "name": "stdout",
     "output_type": "stream",
     "text": [
      "celebration\n",
      "anniversaire\n",
      "anniversaire\n",
      "gateau\n"
     ]
    }
   ],
   "source": [
    "x=4\n",
    "while x>=1:\n",
    "    if x%4==0:\n",
    "        print(\"celebration\")\n",
    "    elif x-2<0:\n",
    "        print(\"gateau\")\n",
    "    elif x/3==0:\n",
    "        print(\"reception\")\n",
    "    else:\n",
    "        print(\"anniversaire\")\n",
    "    x-=1\n",
    "\n",
    "#print the result of print(\"celebration\") 4 times\n",
    "\n"
   ]
  },
  {
   "cell_type": "code",
   "execution_count": 4,
   "metadata": {},
   "outputs": [
    {
     "name": "stdout",
     "output_type": "stream",
     "text": [
      "test1\n",
      "test1test2\n",
      "test1\n"
     ]
    }
   ],
   "source": [
    "a='test1'\n",
    "print(a)\n",
    "b=a\n",
    "a+='test2'\n",
    "print(a)\n",
    "print(b)"
   ]
  },
  {
   "cell_type": "code",
   "execution_count": 8,
   "metadata": {},
   "outputs": [
    {
     "name": "stdout",
     "output_type": "stream",
     "text": [
      "[1, 2, 3, 4, 1, 2, 3, 4, 1, 2, 3, 4]\n"
     ]
    }
   ],
   "source": [
    "l1=[1,2]\n",
    "l2=[3,4]\n",
    "l3=l1+l2\n",
    "l4=l3*3\n",
    "print(l4)"
   ]
  },
  {
   "cell_type": "code",
   "execution_count": 14,
   "metadata": {},
   "outputs": [
    {
     "name": "stdout",
     "output_type": "stream",
     "text": [
      "<class 'str'>\n"
     ]
    }
   ],
   "source": [
    "def verifType(valeur):\n",
    "    typeData=type(valeur)\n",
    "    return typeData\n",
    "print(verifType(\"True\"))"
   ]
  },
  {
   "cell_type": "code",
   "execution_count": null,
   "metadata": {},
   "outputs": [],
   "source": [
    "#chaque ligne du fichier doit etre lue et affichee\n",
    "#si une ligne est vide, elle doit etre igoeree\n",
    "#une fois la lecture terminee, le fichier doit etre ferme\n",
    "\n",
    "inv=open(\"inventaire.txt\",\"r\")\n",
    "fdf=False\n",
    "while fdf==False:\n",
    "    ligne=inv.readline()\n",
    "    if ligne!='':\n",
    "        if ligne!='\\n':\n",
    "            print(ligne.strip())\n",
    "    else:\n",
    "        print(\"fin de fichier\")\n",
    "        fdf=True\n",
    "inv.close()"
   ]
  },
  {
   "cell_type": "code",
   "execution_count": null,
   "metadata": {},
   "outputs": [],
   "source": [
    "#verifier l'éxistance d'un fichier\n",
    "#si le fichier existe, afficher son contenu\n",
    "#si le fichier n'existe pas, creer un fichier sous le nom specifié\n",
    "#ajouter la formule <<fin de liste>> à la fin du fichier\n",
    "\n",
    "import os\n",
    "if os.path.isfile(\"monFichier.txt\"):\n",
    "    fichier=open(\"monFichier.txt\")\n",
    "    print(fichier.read())\n",
    "    fichier.close()\n",
    "fichier=open(\"monFichier.txt\",\"a\") #a pour ajouter\n",
    "fichier.write(\"fin de liste\")\n",
    "fichier.close()"
   ]
  },
  {
   "cell_type": "code",
   "execution_count": 9,
   "metadata": {},
   "outputs": [
    {
     "name": "stdout",
     "output_type": "stream",
     "text": [
      "\"a\",2\n",
      "\"a\",2\n",
      "\"a\",2\n"
     ]
    }
   ],
   "source": [
    "element=input(\"entrez un element\")\n",
    "ventes=input(\"entrez la quantité de vente\")\n",
    "#chaine doit etre miise entre guillemets\n",
    "#les nombres ne doivent pas être mis entre guillemets ou d'autre caractères\n",
    "#les données doivent etre séparées par des virgules\n",
    "print('\"%s\",%s'%(element,ventes))\n",
    "print('\"{0}\",{1}'.format(element,ventes))\n",
    "print('\"'+element+'\",'+ventes)"
   ]
  },
  {
   "cell_type": "code",
   "execution_count": 10,
   "metadata": {},
   "outputs": [
    {
     "name": "stdout",
     "output_type": "stream",
     "text": [
      "April/07/17\n",
      "1,234,567.8900\n"
     ]
    }
   ],
   "source": [
    "import datetime\n",
    "\n",
    "d=datetime.datetime(2017,4,7)\n",
    "print('{:%B/%d/%y}'.format(d))\n",
    "num=1234567.890\n",
    "print('{:,.4f}'.format(num)) #4 chiffres apres la virgule"
   ]
  },
  {
   "cell_type": "code",
   "execution_count": 11,
   "metadata": {},
   "outputs": [
    {
     "name": "stdout",
     "output_type": "stream",
     "text": [
      "5.5\n",
      "6\n",
      "5\n"
     ]
    }
   ],
   "source": [
    "from math import fabs,ceil,floor\n",
    "print(fabs(-5.5))\n",
    "print(ceil(5.5))\n",
    "print(floor(5.5))"
   ]
  },
  {
   "cell_type": "code",
   "execution_count": 12,
   "metadata": {},
   "outputs": [
    {
     "name": "stdout",
     "output_type": "stream",
     "text": [
      "True\n"
     ]
    },
    {
     "data": {
      "text/plain": [
       "['a', 'b', 'c', 'd', 'e']"
      ]
     },
     "execution_count": 12,
     "metadata": {},
     "output_type": "execute_result"
    }
   ],
   "source": [
    "numList = [1,2,3,4,5]\n",
    "alphaList = ['a','b','c','d','e']\n",
    "\n",
    "numList = alphaList\n",
    "print(numList is alphaList) \n",
    "numList"
   ]
  },
  {
   "cell_type": "code",
   "execution_count": 14,
   "metadata": {},
   "outputs": [
    {
     "name": "stdout",
     "output_type": "stream",
     "text": [
      "202020\n"
     ]
    }
   ],
   "source": [
    "x1 = \"20\"\n",
    "y1 = 3\n",
    "a = x1 * y1\n",
    "\n",
    "type(a)\n",
    "print(a)"
   ]
  }
 ],
 "metadata": {
  "kernelspec": {
   "display_name": "Python 3.10.7 64-bit (microsoft store)",
   "language": "python",
   "name": "python3"
  },
  "language_info": {
   "codemirror_mode": {
    "name": "ipython",
    "version": 3
   },
   "file_extension": ".py",
   "mimetype": "text/x-python",
   "name": "python",
   "nbconvert_exporter": "python",
   "pygments_lexer": "ipython3",
   "version": "3.10.7"
  },
  "orig_nbformat": 4,
  "vscode": {
   "interpreter": {
    "hash": "171002ca0d6c473a5ff791bbb5aa7a877aeef24b277cda4853af5f38e9943e22"
   }
  }
 },
 "nbformat": 4,
 "nbformat_minor": 2
}
