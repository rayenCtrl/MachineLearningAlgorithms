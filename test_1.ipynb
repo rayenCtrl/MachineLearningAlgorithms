{
 "cells": [
  {
   "cell_type": "code",
   "execution_count": 2,
   "metadata": {},
   "outputs": [
    {
     "ename": "IndentationError",
     "evalue": "unexpected indent (3970377614.py, line 9)",
     "output_type": "error",
     "traceback": [
      "\u001b[1;36m  Cell \u001b[1;32mIn [2], line 9\u001b[1;36m\u001b[0m\n\u001b[1;33m    if num1=num2:\u001b[0m\n\u001b[1;37m    ^\u001b[0m\n\u001b[1;31mIndentationError\u001b[0m\u001b[1;31m:\u001b[0m unexpected indent\n"
     ]
    }
   ],
   "source": [
    "num1=eval(input(\"Enter the first number: \"))\n",
    "num2=eval(input(\"Enter the second number: \"))\n",
    "if num1==num2:\n",
    "    print(\"The two  numbers are equal\")\n",
    "    if num1<=num2:\n",
    "        print(\"number 1 is less than number 2\")\n",
    "        if num1>num2:\n",
    "            print(\"number 1 is greater than number 2\")\n"
   ]
  },
  {
   "cell_type": "code",
   "execution_count": 5,
   "metadata": {},
   "outputs": [
    {
     "name": "stdout",
     "output_type": "stream",
     "text": [
      "Your name is mixed case\n"
     ]
    }
   ],
   "source": [
    "name = input(\"Enter your name: \")\n",
    "if name.lower() == name:\n",
    "    print(\"Your name is all lowercase\")\n",
    "elif name.upper() == name:\n",
    "    print(\"Your name is all uppercase\")\n",
    "else:\n",
    "    print(\"Your name is mixed case\")\n"
   ]
  },
  {
   "cell_type": "code",
   "execution_count": 11,
   "metadata": {},
   "outputs": [
    {
     "name": "stdout",
     "output_type": "stream",
     "text": [
      "there are: 0 instances of the lettergg\n"
     ]
    }
   ],
   "source": [
    "#17\n",
    "def count_letter(letter, word_list):\n",
    "    count = 0\n",
    "    for word in word_list:#for each word in the list\n",
    "        if letter in word:#if the letter is in the word\n",
    "            count += 1\n",
    "    return count\n",
    "word_list=[]\n",
    "\n",
    "letter = input(\"which letter would you like to count? \")\n",
    "letter_count = count_letter(letter, word_list)\n",
    "print(\"there are:\",letter_count,\"instances of the letter\"+letter)"
   ]
  },
  {
   "cell_type": "code",
   "execution_count": 12,
   "metadata": {},
   "outputs": [
    {
     "name": "stdout",
     "output_type": "stream",
     "text": [
      "30.0\n"
     ]
    }
   ],
   "source": [
    "#18\n",
    "val1=24\n",
    "val2=7\n",
    "val3=17.9\n",
    "\n",
    "answer = (val1%val2*100)//2.0 ** 3.0 - val2\n",
    "print(answer)"
   ]
  },
  {
   "cell_type": "code",
   "execution_count": 13,
   "metadata": {},
   "outputs": [
    {
     "name": "stdout",
     "output_type": "stream",
     "text": [
      "You were born in the year 4\n"
     ]
    }
   ],
   "source": [
    "age = input(\"enter your age: \")\n",
    "year = input(\"enter the four digit year: \")\n",
    "born = eval(year) - eval(age)\n",
    "message = \"You were born in the year \" + str(born)\n",
    "print(message)"
   ]
  },
  {
   "cell_type": "code",
   "execution_count": 14,
   "metadata": {},
   "outputs": [
    {
     "data": {
      "text/plain": [
       "int"
      ]
     },
     "execution_count": 14,
     "metadata": {},
     "output_type": "execute_result"
    }
   ],
   "source": [
    "type(born)"
   ]
  },
  {
   "cell_type": "code",
   "execution_count": 15,
   "metadata": {},
   "outputs": [
    {
     "data": {
      "text/plain": [
       "str"
      ]
     },
     "execution_count": 15,
     "metadata": {},
     "output_type": "execute_result"
    }
   ],
   "source": [
    "type(age)"
   ]
  },
  {
   "cell_type": "code",
   "execution_count": 16,
   "metadata": {},
   "outputs": [
    {
     "data": {
      "text/plain": [
       "str"
      ]
     },
     "execution_count": 16,
     "metadata": {},
     "output_type": "execute_result"
    }
   ],
   "source": [
    "type(message)"
   ]
  },
  {
   "cell_type": "code",
   "execution_count": null,
   "metadata": {},
   "outputs": [],
   "source": [
    "data = input() #get input from user"
   ]
  },
  {
   "cell_type": "code",
   "execution_count": 19,
   "metadata": {},
   "outputs": [],
   "source": [
    "alphabet = \"abcdefghijklmnopqrstuvwxyz\" #alphabet string"
   ]
  },
  {
   "cell_type": "code",
   "execution_count": 20,
   "metadata": {},
   "outputs": [
    {
     "data": {
      "text/plain": [
       "'defghijklmno'"
      ]
     },
     "execution_count": 20,
     "metadata": {},
     "output_type": "execute_result"
    }
   ],
   "source": [
    "alphabet[3:15] #slice the string"
   ]
  },
  {
   "cell_type": "code",
   "execution_count": 21,
   "metadata": {},
   "outputs": [
    {
     "data": {
      "text/plain": [
       "'dgjm'"
      ]
     },
     "execution_count": 21,
     "metadata": {},
     "output_type": "execute_result"
    }
   ],
   "source": [
    "alphabet[3:15:3] "
   ]
  },
  {
   "cell_type": "code",
   "execution_count": 22,
   "metadata": {},
   "outputs": [
    {
     "data": {
      "text/plain": [
       "'pmjg'"
      ]
     },
     "execution_count": 22,
     "metadata": {},
     "output_type": "execute_result"
    }
   ],
   "source": [
    "alphabet[15:3:-3]"
   ]
  },
  {
   "cell_type": "code",
   "execution_count": 23,
   "metadata": {},
   "outputs": [
    {
     "data": {
      "text/plain": [
       "'zwtqnkheb'"
      ]
     },
     "execution_count": 23,
     "metadata": {},
     "output_type": "execute_result"
    }
   ],
   "source": [
    "alphabet[::-3]"
   ]
  },
  {
   "cell_type": "code",
   "execution_count": 25,
   "metadata": {},
   "outputs": [
    {
     "name": "stdout",
     "output_type": "stream",
     "text": [
      "the total pay is 1500\n",
      "The average pay is 1500.0\n",
      "the total pay is 3500\n",
      "The average pay is 1750.0\n",
      "the total pay is 6500\n",
      "The average pay is 2166.6666666666665\n",
      "the total pay is 10500\n",
      "The average pay is 2625.0\n"
     ]
    }
   ],
   "source": [
    "employee_pay=[1500, 2000, 3000, 4000]\n",
    "count=0\n",
    "sum=0\n",
    "\n",
    "for index in range(len(employee_pay)):\n",
    "    sum+=employee_pay[index]\n",
    "    count+=1\n",
    "    average=sum/count\n",
    "    print(\"the total pay is\",sum)\n",
    "    print(\"The average pay is\", average)"
   ]
  },
  {
   "cell_type": "code",
   "execution_count": null,
   "metadata": {},
   "outputs": [],
   "source": [
    "#what is the correct order of operations for the six classes of operation in order of preceddence from first to last?\n",
    "#parentheses, \n",
    "# exponents,\n",
    "# multiplication, \n",
    "# division, \n",
    "# addition, \n",
    "# subtraction,\n",
    "#and  \n"
   ]
  },
  {
   "cell_type": "markdown",
   "metadata": {},
   "source": [
    "Part2"
   ]
  },
  {
   "cell_type": "code",
   "execution_count": 16,
   "metadata": {},
   "outputs": [
    {
     "name": "stdout",
     "output_type": "stream",
     "text": [
      "2\n",
      "3\n"
     ]
    }
   ],
   "source": [
    "p=2\n",
    "is_prime=True\n",
    "while p<=100:\n",
    "    for i in range(2,p):\n",
    "        if p%i==0:\n",
    "            is_prime=False\n",
    "            break\n",
    "    if is_prime:\n",
    "        print(p)\n",
    "    p=p+1"
   ]
  },
  {
   "cell_type": "code",
   "execution_count": 21,
   "metadata": {},
   "outputs": [
    {
     "name": "stdout",
     "output_type": "stream",
     "text": [
      "\"aa\",8\n",
      "aa,8\n",
      "\"aa\",8\n"
     ]
    }
   ],
   "source": [
    "item = input(\"Enter an item: \")\n",
    "sales = input(\"Enter the quantity: \")\n",
    "print('\"{0}\",{1}'.format(item, sales))\n",
    "print(item+','+sales)\n",
    "print('\"'+item+'\",'+sales)"
   ]
  },
  {
   "cell_type": "code",
   "execution_count": 22,
   "metadata": {},
   "outputs": [
    {
     "name": "stdout",
     "output_type": "stream",
     "text": [
      "11\n",
      "2\n",
      "2\n"
     ]
    }
   ],
   "source": [
    "x=\"Hello World\"\n",
    "while x!=\"QUIT\":\n",
    "    num=0\n",
    "    for char in x:\n",
    "        num+=1\n",
    "    print(num)\n",
    "    x=input(\"Enter a string or QUIT to exit: \")"
   ]
  },
  {
   "cell_type": "code",
   "execution_count": null,
   "metadata": {},
   "outputs": [],
   "source": [
    "sum = count = done = 0\n",
    "average = 0.0\n",
    "while done!=-1:\n",
    "    rating = input (\"Enter 1-5 or -1 for done: \")\n",
    "    if rating == \"-1\":\n",
    "        break\n",
    "    sum+=rating\n",
    "    count+=1\n",
    "average=float(sum/count)\n",
    "print(\"The average rating is\",format(average,\".2f\"))"
   ]
  },
  {
   "cell_type": "code",
   "execution_count": 25,
   "metadata": {},
   "outputs": [
    {
     "name": "stdout",
     "output_type": "stream",
     "text": [
      "the result is 216\n"
     ]
    }
   ],
   "source": [
    "def calc_power(a,b):\n",
    "    return a**b\n",
    "base=eval (input(\"Enter the base: \"))  #eval is used to convert the input to a number\n",
    "exponent=eval (input(\"Enter the exponent: \"))\n",
    "result=calc_power(base,exponent)\n",
    "print(\"the result is\",result)"
   ]
  },
  {
   "cell_type": "code",
   "execution_count": 30,
   "metadata": {},
   "outputs": [],
   "source": [
    "#after any parameter is defined with a default value, all subsequent parameters must also have default values\n",
    "def increment_score(score,bonus,points=1):\n",
    "    if bonus==True:\n",
    "        points=points*2\n",
    "    score=score+points\n",
    "    return score\n",
    "points=5\n",
    "score=10\n",
    "new_score=increment_score(score,True,points)"
   ]
  },
  {
   "cell_type": "code",
   "execution_count": 35,
   "metadata": {},
   "outputs": [
    {
     "ename": "TypeError",
     "evalue": "object of type 'int' has no len()",
     "output_type": "error",
     "traceback": [
      "\u001b[1;31m---------------------------------------------------------------------------\u001b[0m",
      "\u001b[1;31mTypeError\u001b[0m                                 Traceback (most recent call last)",
      "Cell \u001b[1;32mIn [35], line 3\u001b[0m\n\u001b[0;32m      1\u001b[0m \u001b[38;5;66;03m#employee making 150000 or more will not got a raise\u001b[39;00m\n\u001b[0;32m      2\u001b[0m salary_list\u001b[38;5;241m=\u001b[39m\u001b[38;5;241m103\u001b[39m\u001b[38;5;241m%\u001b[39m\u001b[38;5;241m+\u001b[39m\u001b[38;5;241m500\u001b[39m\n\u001b[1;32m----> 3\u001b[0m \u001b[38;5;28;01mfor\u001b[39;00m index \u001b[38;5;129;01min\u001b[39;00m \u001b[38;5;28mrange\u001b[39m(\u001b[38;5;28;43mlen\u001b[39;49m\u001b[43m(\u001b[49m\u001b[43msalary_list\u001b[49m\u001b[43m)\u001b[49m):\n\u001b[0;32m      4\u001b[0m     \u001b[38;5;28;01mif\u001b[39;00m salary_list[index]\u001b[38;5;241m>\u001b[39m\u001b[38;5;241m=\u001b[39m\u001b[38;5;241m150000\u001b[39m:\n\u001b[0;32m      5\u001b[0m         \u001b[38;5;28;01mcontinue\u001b[39;00m\n",
      "\u001b[1;31mTypeError\u001b[0m: object of type 'int' has no len()"
     ]
    }
   ],
   "source": [
    "#employee making 150000 or more will not got a raise\n",
    "\n",
    "for index in range(len(salary_list)):\n",
    "    if salary_list[index]>=150000:\n",
    "        continue\n",
    "    salary_list[index]=(salary_list[index]*1.05)+500"
   ]
  },
  {
   "cell_type": "code",
   "execution_count": 36,
   "metadata": {},
   "outputs": [
    {
     "name": "stdout",
     "output_type": "stream",
     "text": [
      "34 burned 10000 calories\n"
     ]
    }
   ],
   "source": [
    "from turtle import distance\n",
    "\n",
    "\n",
    "def get_name():\n",
    "    name=input(\"Enter your name: \")\n",
    "    return name\n",
    "def calc_calories(miles, calories_per_mile):\n",
    "    calories=miles*calories_per_mile\n",
    "    return calories\n",
    "distance=int(input(\"how many miles did you run? \"))\n",
    "burn_rate=50\n",
    "biker=get_name()\n",
    "calories_burned=calc_calories(distance, burn_rate)\n",
    "print(biker,\"burned\",calories_burned,\"calories\")"
   ]
  },
  {
   "cell_type": "code",
   "execution_count": 52,
   "metadata": {},
   "outputs": [
    {
     "name": "stdout",
     "output_type": "stream",
     "text": [
      "apples and bananas and oranges\n"
     ]
    }
   ],
   "source": [
    "x=\"oranges\"\n",
    "y=\"apples\"\n",
    "z=\"bananas\"\n",
    "data=\"{1} and {0} and {2}\" \n",
    "print(data.format(z,y,x)) #apples and oranges and bananas"
   ]
  },
  {
   "cell_type": "code",
   "execution_count": 54,
   "metadata": {},
   "outputs": [
    {
     "name": "stdout",
     "output_type": "stream",
     "text": [
      "10\n",
      "40\n"
     ]
    }
   ],
   "source": [
    "product=2\n",
    "n=5\n",
    "while(n!=0):\n",
    "    product*=n\n",
    "    print(product)\n",
    "    n-=1\n",
    "    if n==3:\n",
    "        break"
   ]
  },
  {
   "cell_type": "code",
   "execution_count": 55,
   "metadata": {},
   "outputs": [],
   "source": [
    "#the calc_power function calculates exponents\n",
    "#x is the base\n",
    "#y is the exponent\n",
    "# the value off x raised to the power of y is returned\n",
    "def calc_power(x,y):\n",
    "    comment=\"#Return the value\"\n",
    "    return x**y #return the value of x raised to the power of y"
   ]
  },
  {
   "cell_type": "code",
   "execution_count": 65,
   "metadata": {},
   "outputs": [
    {
     "data": {
      "text/plain": [
       "1000"
      ]
     },
     "execution_count": 65,
     "metadata": {},
     "output_type": "execute_result"
    }
   ],
   "source": [
    "def grosspay(hours=40, rate=25,pieces=0, piece_rate=0,salary=0):\n",
    "    overtime=0\n",
    "    if pieces>0:\n",
    "        return pieces*piece_rate\n",
    "    if salary>0:\n",
    "        pass\n",
    "    if hours>40:\n",
    "        overtime=(hours-40)*(rate*1.5)\n",
    "        return (40*rate)+overtime\n",
    "    else:\n",
    "        return hours*rate\n",
    "#fuction call of grosspay\n",
    "grosspay(salary=50000)"
   ]
  },
  {
   "cell_type": "code",
   "execution_count": 2,
   "metadata": {},
   "outputs": [
    {
     "name": "stdout",
     "output_type": "stream",
     "text": [
      "Guess an integer between 1 and 10. you will have 3 chances\n",
      "Too low\n",
      "You guessed it!\n"
     ]
    }
   ],
   "source": [
    "from random import randint \n",
    "target = randint(1, 10)\n",
    "chance=1\n",
    "print(\"Guess an integer between 1 and 10. you will have 3 chances\")\n",
    "while chance<=3:\n",
    "    guess = int(input(\"Enter your guess: \"))\n",
    "    if guess>target:\n",
    "        print(\"Too high\")\n",
    "    elif guess<target:\n",
    "        print(\"Too low\")\n",
    "    else:\n",
    "        print(\"You guessed it!\")\n",
    "        break"
   ]
  },
  {
   "cell_type": "code",
   "execution_count": 165,
   "metadata": {},
   "outputs": [
    {
     "name": "stdout",
     "output_type": "stream",
     "text": [
      "15\n",
      "100\n"
     ]
    }
   ],
   "source": [
    "#you need to write a code that generates a random number between 5 and 100 and the number is multiple of 5 \n",
    "\n",
    "from random import randrange\n",
    "print(randrange(5,105,5))\n",
    "\n",
    "from random import randint\n",
    "print(randint(1,20)*5)"
   ]
  },
  {
   "cell_type": "code",
   "execution_count": 172,
   "metadata": {},
   "outputs": [
    {
     "name": "stdout",
     "output_type": "stream",
     "text": [
      "April -07, -17\n"
     ]
    }
   ],
   "source": [
    "import datetime\n",
    "d=datetime.datetime(2017, 4, 7)\n",
    "print('{:%B -%d, -%y}'.format(d))"
   ]
  },
  {
   "cell_type": "code",
   "execution_count": 186,
   "metadata": {},
   "outputs": [],
   "source": [
    "import os\n",
    "def get_first_line(filename,mode):\n",
    "    with open(filename,'r')as file:\n",
    "        if os.path.isfile(filename): #check if the file exists\n",
    "            return file.readline() #return the first line\n",
    "        else:\n",
    "            return None"
   ]
  },
  {
   "cell_type": "code",
   "execution_count": 189,
   "metadata": {},
   "outputs": [],
   "source": [
    "#from genericpath import isfile\n",
    "\n",
    "\n",
    "def read_file(file):\n",
    "    line=None\n",
    "    if os.path.isfile(file):  \n",
    "        data=open(file,'r')\n",
    "        for line in data:\n",
    "            print(line)"
   ]
  },
  {
   "cell_type": "code",
   "execution_count": 201,
   "metadata": {},
   "outputs": [],
   "source": [
    "import os\n",
    "if os.path.isfile('myFile.txt'): #check if the file exists\n",
    "    file=open('myFile.txt') \n",
    "    print(file.read()) #read the entire file\n",
    "    file.close()"
   ]
  },
  {
   "cell_type": "code",
   "execution_count": 202,
   "metadata": {},
   "outputs": [
    {
     "ename": "NameError",
     "evalue": "name 'file_name' is not defined",
     "output_type": "error",
     "traceback": [
      "\u001b[1;31m---------------------------------------------------------------------------\u001b[0m",
      "\u001b[1;31mFileNotFoundError\u001b[0m                         Traceback (most recent call last)",
      "Cell \u001b[1;32mIn [202], line 3\u001b[0m\n\u001b[0;32m      2\u001b[0m \u001b[38;5;28;01mtry\u001b[39;00m:\n\u001b[1;32m----> 3\u001b[0m     file_in\u001b[38;5;241m=\u001b[39m\u001b[38;5;28;43mopen\u001b[39;49m\u001b[43m(\u001b[49m\u001b[38;5;124;43m\"\u001b[39;49m\u001b[38;5;124;43min.txt\u001b[39;49m\u001b[38;5;124;43m\"\u001b[39;49m\u001b[43m,\u001b[49m\u001b[38;5;124;43m'\u001b[39;49m\u001b[38;5;124;43mr\u001b[39;49m\u001b[38;5;124;43m'\u001b[39;49m\u001b[43m)\u001b[49m\n\u001b[0;32m      4\u001b[0m     file_out\u001b[38;5;241m=\u001b[39m\u001b[38;5;28mopen\u001b[39m(\u001b[38;5;124m\"\u001b[39m\u001b[38;5;124mout.txt\u001b[39m\u001b[38;5;124m\"\u001b[39m,\u001b[38;5;124m'\u001b[39m\u001b[38;5;124mw+\u001b[39m\u001b[38;5;124m'\u001b[39m)\n",
      "\u001b[1;31mFileNotFoundError\u001b[0m: [Errno 2] No such file or directory: 'in.txt'",
      "\nDuring handling of the above exception, another exception occurred:\n",
      "\u001b[1;31mNameError\u001b[0m                                 Traceback (most recent call last)",
      "Cell \u001b[1;32mIn [202], line 6\u001b[0m\n\u001b[0;32m      4\u001b[0m     file_out\u001b[38;5;241m=\u001b[39m\u001b[38;5;28mopen\u001b[39m(\u001b[38;5;124m\"\u001b[39m\u001b[38;5;124mout.txt\u001b[39m\u001b[38;5;124m\"\u001b[39m,\u001b[38;5;124m'\u001b[39m\u001b[38;5;124mw+\u001b[39m\u001b[38;5;124m'\u001b[39m)\n\u001b[0;32m      5\u001b[0m \u001b[38;5;28;01mexcept\u001b[39;00m \u001b[38;5;167;01mIOError\u001b[39;00m:\n\u001b[1;32m----> 6\u001b[0m     \u001b[38;5;28mprint\u001b[39m(\u001b[38;5;124m'\u001b[39m\u001b[38;5;124mError opening file\u001b[39m\u001b[38;5;124m'\u001b[39m,\u001b[43mfile_name\u001b[49m)\n\u001b[0;32m      7\u001b[0m \u001b[38;5;28;01melse\u001b[39;00m:\n\u001b[0;32m      8\u001b[0m     i\u001b[38;5;241m=\u001b[39m\u001b[38;5;241m1\u001b[39m\n",
      "\u001b[1;31mNameError\u001b[0m: name 'file_name' is not defined"
     ]
    }
   ],
   "source": [
    "import sys\n",
    "try:\n",
    "    file_in=open(\"in.txt\",'r')\n",
    "    file_out=open(\"out.txt\",'w+')\n",
    "except IOError:\n",
    "    print('Error opening file',file_name)\n",
    "else:\n",
    "    i=1\n",
    "    for line in file_in:\n",
    "        print(line.rstrip())\n",
    "        file_out.write(\"line\"+str(i)+\":\"+line)\n",
    "        i+=1\n",
    "    file_in.close()\n",
    "    file_out.close()"
   ]
  },
  {
   "cell_type": "code",
   "execution_count": 204,
   "metadata": {},
   "outputs": [
    {
     "name": "stdout",
     "output_type": "stream",
     "text": [
      "Welcome to CompanyPro's!\n",
      "rayen, your room number is 7\n",
      "You will meet with the Ropes Group this afternon\n"
     ]
    }
   ],
   "source": [
    "# \n",
    "import random \n",
    "roomsAssigned=[1]\n",
    "room_number=1\n",
    "groopList=[\"Ropes\",\"Rafting\",\"Obstacle\",\"Wellness\"]\n",
    "count=0\n",
    "print(\"Welcome to CompanyPro's!\")\n",
    "name=input(\"Enter your name (q to quit)? \")\n",
    "while name!=\"q\" and count<50:\n",
    "    while room_number in roomsAssigned: #check if the room is already assigned\n",
    "        room_number=random.randint(1,50) #generate a random number between 1 and 50\n",
    "    print(f\"{name}, your room number is {room_number}\") \n",
    "    roomsAssigned.append(room_number)\n",
    "    group=random.choice(groopList) #select a random group\n",
    "    print(f\"You will meet with the {group} Group this afternon\")\n",
    "    count+=1\n",
    "    name=input(\"Enter your name (q to quit)? \")"
   ]
  }
 ],
 "metadata": {
  "kernelspec": {
   "display_name": "Python 3.10.4 64-bit",
   "language": "python",
   "name": "python3"
  },
  "language_info": {
   "codemirror_mode": {
    "name": "ipython",
    "version": 3
   },
   "file_extension": ".py",
   "mimetype": "text/x-python",
   "name": "python",
   "nbconvert_exporter": "python",
   "pygments_lexer": "ipython3",
   "version": "3.10.4"
  },
  "orig_nbformat": 4,
  "vscode": {
   "interpreter": {
    "hash": "b63e0d81c14a359c8c1136163d2e9dd534b37c74c9ecaed1a312a9f148c51841"
   }
  }
 },
 "nbformat": 4,
 "nbformat_minor": 2
}
