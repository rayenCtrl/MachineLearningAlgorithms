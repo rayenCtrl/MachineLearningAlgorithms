{
 "cells": [
  {
   "cell_type": "code",
   "execution_count": 3,
   "metadata": {},
   "outputs": [
    {
     "name": "stdout",
     "output_type": "stream",
     "text": [
      "13.5\n"
     ]
    }
   ],
   "source": [
    "\n",
    "distance=7425\n",
    "avg_speed=550\n",
    "total_flight_hour=float(distance/avg_speed)\n",
    "print(total_flight_hour)"
   ]
  },
  {
   "cell_type": "code",
   "execution_count": 3,
   "metadata": {},
   "outputs": [
    {
     "name": "stdout",
     "output_type": "stream",
     "text": [
      "8\n"
     ]
    }
   ],
   "source": [
    "things = [6, 0, [1, 2, 8], 4.56]\n",
    "print(things[2][2])"
   ]
  },
  {
   "cell_type": "code",
   "execution_count": 4,
   "metadata": {},
   "outputs": [
    {
     "name": "stdout",
     "output_type": "stream",
     "text": [
      "4\n"
     ]
    }
   ],
   "source": [
    "x = [2, 4]\n",
    "x = x * 3\n",
    "print(x[3])"
   ]
  },
  {
   "cell_type": "code",
   "execution_count": null,
   "metadata": {},
   "outputs": [],
   "source": [
    "x = [42, 8, 7, 1, 0, 124, 8897, 555, 3, 67, 99]\n",
    "# calculate the sum using for loop and print the result\n",
    "sum=0\n",
    "for i in x:\n",
    "    sum=sum+i\n",
    "print(sum)\n"
   ]
  },
  {
   "cell_type": "code",
   "execution_count": 8,
   "metadata": {},
   "outputs": [
    {
     "name": "stdout",
     "output_type": "stream",
     "text": [
      "[20, 21, 22, 23, 24, 25, 26, 27, 28, 29, 30]\n"
     ]
    }
   ],
   "source": [
    "#Write a program that takes two integers as input and outputs the range of numbers between the two inputs as a list.\n",
    "#For example, if the input is 5 and 10, the output should be [5, 6, 7, 8, 9, 10].\n",
    "\n",
    "a = int(input())\n",
    "b = int(input())\n",
    "x = []\n",
    "for i in range(a,b+1):\n",
    "    x.append(i) #one similer way is x = list(range(a,b+1))\n",
    "print(x)\n"
   ]
  },
  {
   "cell_type": "code",
   "execution_count": 1,
   "metadata": {},
   "outputs": [
    {
     "name": "stdout",
     "output_type": "stream",
     "text": [
      "[1, 25, 81]\n"
     ]
    }
   ],
   "source": [
    "sqs = [0, 1, 4, 9, 16, 25, 36, 49, 64, 81]\n",
    "print(sqs[1::4])"
   ]
  },
  {
   "cell_type": "code",
   "execution_count": 3,
   "metadata": {},
   "outputs": [
    {
     "data": {
      "text/plain": [
       "['Bob', 'Charlie', 'Debbie']"
      ]
     },
     "execution_count": 3,
     "metadata": {},
     "output_type": "execute_result"
    }
   ],
   "source": [
    "names=['Alice','Bob','Charlie','Debbie','Ellen']\n",
    "names[1:-1] \n"
   ]
  },
  {
   "cell_type": "code",
   "execution_count": 5,
   "metadata": {},
   "outputs": [
    {
     "name": "stdout",
     "output_type": "stream",
     "text": [
      "8\n"
     ]
    }
   ],
   "source": [
    "list=[1,1,2,3,5,8,13]\n",
    "print(list[list[4]]) "
   ]
  },
  {
   "cell_type": "code",
   "execution_count": 6,
   "metadata": {},
   "outputs": [
    {
     "name": "stdout",
     "output_type": "stream",
     "text": [
      "2\n",
      "4\n",
      "6\n",
      "8\n",
      "10\n"
     ]
    }
   ],
   "source": [
    "#wha are the odd numbers  from 1 to 10\n",
    "for i in range(10):\n",
    "  if not i % 2 == 0: \n",
    "    print(i+1)"
   ]
  },
  {
   "cell_type": "code",
   "execution_count": 7,
   "metadata": {},
   "outputs": [
    {
     "name": "stdout",
     "output_type": "stream",
     "text": [
      "13\n"
     ]
    }
   ],
   "source": [
    "x = [6, 4, 2, 9]\n",
    "x = x[::-1]  \n",
    "print(x[0]+x[2])     "
   ]
  },
  {
   "cell_type": "code",
   "execution_count": 8,
   "metadata": {},
   "outputs": [
    {
     "name": "stdout",
     "output_type": "stream",
     "text": [
      "6\n"
     ]
    }
   ],
   "source": [
    "x =\"abc\"\n",
    "x *= 2\n",
    "print(len(x))"
   ]
  },
  {
   "cell_type": "code",
   "execution_count": 9,
   "metadata": {},
   "outputs": [
    {
     "name": "stdout",
     "output_type": "stream",
     "text": [
      "7\n"
     ]
    }
   ],
   "source": [
    "nums = [9, 8, 7, 6, 5]\n",
    "nums.append(4)\n",
    "nums.insert(2, 11) #insert 11 at index 2\n",
    "print(len(nums))"
   ]
  },
  {
   "cell_type": "code",
   "execution_count": 10,
   "metadata": {},
   "outputs": [
    {
     "name": "stdout",
     "output_type": "stream",
     "text": [
      "6\n"
     ]
    }
   ],
   "source": [
    "nums = [1, 3, 5, 2, 4]\n",
    "res = min(nums) + max(nums)\n",
    "print(res)"
   ]
  },
  {
   "cell_type": "code",
   "execution_count": 12,
   "metadata": {},
   "outputs": [
    {
     "name": "stdout",
     "output_type": "stream",
     "text": [
      "4\n"
     ]
    }
   ],
   "source": [
    "nums = [2,4,8,9,5]\n",
    "\n",
    "nums.insert(1, 3) #print the list after inserting 3 at index 1 \n",
    "nums.remove(9)\n",
    "nums.insert(0, nums.count(8))\n",
    "print(nums[3])"
   ]
  },
  {
   "cell_type": "code",
   "execution_count": 13,
   "metadata": {},
   "outputs": [
    {
     "name": "stdout",
     "output_type": "stream",
     "text": [
      "o\n"
     ]
    }
   ],
   "source": [
    "txt = \"hello\"\n",
    "print(max(txt))"
   ]
  },
  {
   "cell_type": "code",
   "execution_count": 15,
   "metadata": {},
   "outputs": [],
   "source": [
    "def print_numbers():\n",
    "  print(1)\n",
    "  print(2)\n",
    "  return\n",
    "  print(4)\n",
    "  print(6)"
   ]
  },
  {
   "cell_type": "code",
   "execution_count": 16,
   "metadata": {},
   "outputs": [
    {
     "name": "stdout",
     "output_type": "stream",
     "text": [
      "6\n"
     ]
    }
   ],
   "source": [
    "def sum(x):\n",
    "    res = 0\n",
    "    for i in range(x):  #x=4  \n",
    "        res+=i  #\n",
    "    return res  #\n",
    "    \n",
    "print(sum(4))  \n"
   ]
  },
  {
   "cell_type": "code",
   "execution_count": 17,
   "metadata": {},
   "outputs": [
    {
     "name": "stdout",
     "output_type": "stream",
     "text": [
      "0\n"
     ]
    }
   ],
   "source": [
    "def print_nums(x):\n",
    "  for i in range(x):\n",
    "    print(i)\n",
    "    return\n",
    "print_nums(10)"
   ]
  },
  {
   "cell_type": "code",
   "execution_count": 19,
   "metadata": {},
   "outputs": [
    {
     "name": "stdout",
     "output_type": "stream",
     "text": [
      "3\n"
     ]
    }
   ],
   "source": [
    "def func(x):\n",
    "  res = 0\n",
    "  for i in range(x): #x=4  \n",
    "     res += i #res=0+0=0, res=0+1=1, res=1+2=3, res=3+3=6\n",
    "  return res #return 6\n",
    "\n",
    "print(func(3)) #print 6 "
   ]
  },
  {
   "cell_type": "code",
   "execution_count": null,
   "metadata": {},
   "outputs": [],
   "source": [
    "text = input()\n",
    "word = input()\n",
    "\n",
    "def search(text,word):\n",
    "    if word in text: #give me one similer way to do this \n",
    "        return True\n",
    "    else:\n",
    "        return False\n",
    "\n",
    "        print(\"Word found\") #print word found\n",
    "    else: #if word is not in text\n",
    "        print(\"Word not found\") #print word not found\n",
    "\n",
    "print(search(text, word)) #print the result"
   ]
  },
  {
   "cell_type": "code",
   "execution_count": 27,
   "metadata": {},
   "outputs": [
    {
     "name": "stdout",
     "output_type": "stream",
     "text": [
      "Word found\n"
     ]
    }
   ],
   "source": [
    "#The given code takes a text and a word as input and passes them to a function called search().\n",
    "#The search() function should return \"Word found\" if the word is present in the text, or \"Word not found\", if it’s not.\n",
    "#Complete the code to make it work.\n",
    "\n",
    "text = input()\n",
    "word = input()\n",
    "\n",
    "def search(text,word):\n",
    "    if word in text: #give me one similer way to do this \n",
    "        return True\n",
    "    else:\n",
    "        return False\n",
    "\n",
    "if search(text, word): \n",
    "    print(\"Word found\") \n",
    "else: \n",
    "    print(\"Word not found\") "
   ]
  },
  {
   "cell_type": "markdown",
   "metadata": {},
   "source": [
    "why?"
   ]
  },
  {
   "cell_type": "code",
   "execution_count": null,
   "metadata": {},
   "outputs": [],
   "source": [
    "text = input()\n",
    "word = input()\n",
    "\n",
    "def search(text,word):\n",
    "    if word in text:\n",
    "        print(\"Word found\")\n",
    "    else:\n",
    "        print(\"Word not found\")\n",
    "\n",
    "print(search(text, word))"
   ]
  },
  {
   "cell_type": "code",
   "execution_count": null,
   "metadata": {},
   "outputs": [],
   "source": [
    "#.search() function should return True if the word is present in the text, or False, if it’s not."
   ]
  },
  {
   "cell_type": "markdown",
   "metadata": {},
   "source": [
    "Dictionnaire "
   ]
  },
  {
   "cell_type": "code",
   "execution_count": null,
   "metadata": {},
   "outputs": [],
   "source": [
    "#Your program needs to take the key as input and output the corresponding value. \n",
    "car = {   \n",
    "    'brand': 'BMW',\n",
    "    'year': 2018,\n",
    "    'color': 'red'\n",
    "} \n",
    "key = input()\n",
    "print(car[key])\n"
   ]
  },
  {
   "cell_type": "code",
   "execution_count": 1,
   "metadata": {},
   "outputs": [
    {
     "name": "stdout",
     "output_type": "stream",
     "text": [
      "[2, 3, 4]\n",
      "42\n",
      "not in dictionary\n"
     ]
    }
   ],
   "source": [
    "pairs = {\n",
    "    1: \"apple\",\n",
    "    \"orange\": [2, 3, 4],\n",
    "    True: False,\n",
    "    12: \"True\"\n",
    "}\n",
    "print(pairs.get(\"orange\")) #print the value of key \"orange\"\n",
    "print(pairs.get(7,42)) #print the value of key 7 if it is present in the dictionary, otherwise print 42\n",
    "print(pairs.get(12345, \"not in dictionary\")) #print the value of key 12345 if it is present in the dictionary, otherwise print \"not in dictionary\""
   ]
  },
  {
   "cell_type": "code",
   "execution_count": null,
   "metadata": {},
   "outputs": [],
   "source": [
    "#Complete the program to take the country name as input and output its corresponding economic freedom rank.\n",
    "#In case the provided country name is not present in the data, output \"Not found\".\n",
    "data = {\n",
    "    'Singapore': 1,\n",
    "    'Ireland': 6,\n",
    "    'United Kingdom': 7,\n",
    "    'Germany': 27,\n",
    "    'Armenia': 34,\n",
    "    'United States': 17,\n",
    "    'Canada': 9,\n",
    "    'Italy': 74\n",
    "}\n",
    "country = input()\n",
    "print(data.get(country, \"Not found\"))"
   ]
  },
  {
   "cell_type": "code",
   "execution_count": 2,
   "metadata": {},
   "outputs": [
    {
     "name": "stdout",
     "output_type": "stream",
     "text": [
      "8\n"
     ]
    }
   ],
   "source": [
    "fib = {1: 1, 2: 1, 3: 2, 4: 3}\n",
    "print(fib.get(4, 0) + fib.get(7, 5))"
   ]
  },
  {
   "cell_type": "markdown",
   "metadata": {},
   "source": [
    "Tuple they are immutable and ordered"
   ]
  },
  {
   "cell_type": "code",
   "execution_count": 5,
   "metadata": {},
   "outputs": [
    {
     "name": "stdout",
     "output_type": "stream",
     "text": [
      "18\n"
     ]
    }
   ],
   "source": [
    "#Complete the program to get a string as input, search for the name in the list of contacts and output name is age of the contact\n",
    "#If the contact is not found, output \"Not found\".\n",
    "\n",
    "contacts = [\n",
    "    ('James', 42),\n",
    "    ('Amy', 24),\n",
    "    ('John', 31),\n",
    "    ('Amanda', 63),\n",
    "    ('Bob', 18)\n",
    "]\n",
    "name = input()\n",
    "for i in contacts:\n",
    "    if i[0] == name: \n",
    "        print(i[1])\n",
    "        break\n",
    "else:\n",
    "    print(\"Not found\")\n",
    "\n"
   ]
  },
  {
   "cell_type": "code",
   "execution_count": 6,
   "metadata": {},
   "outputs": [
    {
     "name": "stdout",
     "output_type": "stream",
     "text": [
      "(1, 2, 3)\n"
     ]
    }
   ],
   "source": [
    "tuple = (1, (1, 2, 3))\n",
    "print(tuple[1]) "
   ]
  },
  {
   "cell_type": "code",
   "execution_count": 8,
   "metadata": {},
   "outputs": [
    {
     "name": "stdout",
     "output_type": "stream",
     "text": [
      "1\n",
      "2\n",
      "[3, 4, 5, 6, 7, 8]\n",
      "9\n"
     ]
    }
   ],
   "source": [
    "a,b,*c,d=[1,2,3,4,5,6,7,8,9]\n",
    "print(a)\n",
    "print(b)\n",
    "print(c)\n",
    "print(d)"
   ]
  },
  {
   "cell_type": "code",
   "execution_count": 9,
   "metadata": {},
   "outputs": [],
   "source": [
    "#Tuples can be used to output multiple values from a function.\n",
    "#You need to make a function called calc(), that will take the side length of a square as its argument and return the perimeter and area using a tuple.\n",
    "#The perimeter is the sum of all sides, while the area is the square of the side length.\n",
    "#The output should be in the following format: (perimeter, area)\n",
    "\n",
    "def calc(x):\n",
    "    #your code goes here\n",
    "    return(4*x, x**2)\n",
    "\n",
    "side = int(input()) \n",
    "p, a = calc(side) #unpack the tuple\n",
    "\n",
    "print(\"Perimeter: \" + str(p))\n",
    "print(\"Area: \" + str(a))\n",
    "\n",
    "\n"
   ]
  },
  {
   "cell_type": "code",
   "execution_count": 1,
   "metadata": {},
   "outputs": [
    {
     "ename": "SyntaxError",
     "evalue": "name 'x' is parameter and global (767271577.py, line 2)",
     "output_type": "error",
     "traceback": [
      "\u001b[1;36m  Cell \u001b[1;32mIn [1], line 2\u001b[1;36m\u001b[0m\n\u001b[1;33m    global x\u001b[0m\n\u001b[1;37m    ^\u001b[0m\n\u001b[1;31mSyntaxError\u001b[0m\u001b[1;31m:\u001b[0m name 'x' is parameter and global\n"
     ]
    }
   ],
   "source": [
    "def f1(x):\n",
    "    global x\n",
    "    x+=1\n",
    "    print(x)\n",
    "f1(15)\n",
    "print(\"Hello\")"
   ]
  },
  {
   "cell_type": "markdown",
   "metadata": {},
   "source": [
    "#set is unordered and mutable and no duplicate elements "
   ]
  },
  {
   "cell_type": "code",
   "execution_count": 2,
   "metadata": {},
   "outputs": [
    {
     "name": "stdout",
     "output_type": "stream",
     "text": [
      "{1, 2, 3, 4, 5, 6, 7, 8, 9}\n",
      "{4, 5, 6}\n",
      "{1, 2, 3}\n",
      "{1, 2, 3, 7, 8, 9}\n"
     ]
    }
   ],
   "source": [
    "first={1,2,3,4,5,6}\n",
    "second={4,5,6,7,8,9}\n",
    "\n",
    "print(first | second) #print the union of the two sets\n",
    "print(first & second) #print the intersection of the two sets \n",
    "print(first - second) #print the difference of the two sets\n",
    "print(first ^ second) #print the symmetric difference of the two sets\n"
   ]
  },
  {
   "cell_type": "code",
   "execution_count": 22,
   "metadata": {},
   "outputs": [
    {
     "name": "stdout",
     "output_type": "stream",
     "text": [
      "e\n"
     ]
    }
   ],
   "source": [
    "chaine_one={'a','b','c','d','e','f'}\n",
    "chaine_two={'e','f','g','h','i','j'}\n",
    "\n",
    "print(list(chaine_one & chaine_two)[0]) "
   ]
  },
  {
   "cell_type": "code",
   "execution_count": 24,
   "metadata": {},
   "outputs": [
    {
     "name": "stdout",
     "output_type": "stream",
     "text": [
      "[0, 4, 16, 36, 64]\n"
     ]
    }
   ],
   "source": [
    "evens=[i**2 for i in range(10) if i**2%2==0]\n",
    "print(evens)"
   ]
  },
  {
   "cell_type": "code",
   "execution_count": 25,
   "metadata": {},
   "outputs": [
    {
     "name": "stdout",
     "output_type": "stream",
     "text": [
      "gkhgyg\n"
     ]
    }
   ],
   "source": [
    "#write a program that ignore vowels in a string and print the string without vowels\n",
    "#input: \"Hello, World!\"\n",
    "#output: \"Hll, Wrld!\"\n",
    "\n",
    "vowels = ['a', 'e', 'i', 'o', 'u']\n",
    "string = input()\n",
    "for i in string:\n",
    "    if i not in vowels:\n",
    "        print(i, end=\"\")\n",
    "print()\n",
    "\n"
   ]
  },
  {
   "cell_type": "code",
   "execution_count": 26,
   "metadata": {},
   "outputs": [
    {
     "name": "stdout",
     "output_type": "stream",
     "text": [
      "44\n"
     ]
    }
   ],
   "source": [
    "nums = (55, 44, 33, 22)\n",
    "print(max(min(nums[:2]), abs(-42)))  "
   ]
  },
  {
   "cell_type": "code",
   "execution_count": null,
   "metadata": {},
   "outputs": [],
   "source": [
    "#Create a program to take a string as input and output a dictionary, which represents the letter count.\n",
    "#The keys should be the letters and the values should be the count of the letters.\n",
    "\n",
    "string = input()\n",
    "dict = {}\n",
    "for i in string:  \n",
    "    if i in dict:\n",
    "        dict[i] += 1\n",
    "    else:\n",
    "        dict[i] = 1\n",
    "print(dict)"
   ]
  }
 ],
 "metadata": {
  "kernelspec": {
   "display_name": "Python 3.10.4 64-bit",
   "language": "python",
   "name": "python3"
  },
  "language_info": {
   "codemirror_mode": {
    "name": "ipython",
    "version": 3
   },
   "file_extension": ".py",
   "mimetype": "text/x-python",
   "name": "python",
   "nbconvert_exporter": "python",
   "pygments_lexer": "ipython3",
   "version": "3.10.4"
  },
  "orig_nbformat": 4,
  "vscode": {
   "interpreter": {
    "hash": "b63e0d81c14a359c8c1136163d2e9dd534b37c74c9ecaed1a312a9f148c51841"
   }
  }
 },
 "nbformat": 4,
 "nbformat_minor": 2
}
