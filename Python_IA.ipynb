{
  "cells": [
    {
      "cell_type": "markdown",
      "metadata": {
        "id": "XVZ4gpJMbrfw"
      },
      "source": [
        "**Prérequis Python pour l'IA**"
      ]
    },
    {
      "cell_type": "markdown",
      "metadata": {
        "id": "sj3Q_Tv_foY4"
      },
      "source": [
        "**Manipulation des données avec Numpy**"
      ]
    },
    {
      "cell_type": "markdown",
      "metadata": {
        "id": "pNGo4ijdi7HX"
      },
      "source": [
        "On doit importer la bibliothèque (module) numpy"
      ]
    },
    {
      "cell_type": "code",
      "execution_count": 5,
      "metadata": {
        "id": "v-Acplvsi2qv"
      },
      "outputs": [],
      "source": [
        "import numpy as np"
      ]
    },
    {
      "cell_type": "markdown",
      "metadata": {
        "id": "76hjdeqRixJo"
      },
      "source": [
        "Les scalaires"
      ]
    },
    {
      "cell_type": "code",
      "execution_count": 45,
      "metadata": {
        "colab": {
          "base_uri": "https://localhost:8080/"
        },
        "id": "koda-_Hhat_a",
        "outputId": "99d70ead-6d9c-40cf-beaa-a902a465a2d1"
      },
      "outputs": [
        {
          "data": {
            "text/plain": [
              "3"
            ]
          },
          "execution_count": 45,
          "metadata": {},
          "output_type": "execute_result"
        }
      ],
      "source": [
        " x=1\n",
        " y=2\n",
        " z=x+y\n",
        " z"
      ]
    },
    {
      "cell_type": "markdown",
      "metadata": {
        "id": "IzsyyhIEiy4_"
      },
      "source": [
        "Les vecteurs"
      ]
    },
    {
      "cell_type": "code",
      "execution_count": 47,
      "metadata": {
        "colab": {
          "base_uri": "https://localhost:8080/"
        },
        "id": "Dpt06lVmitOd",
        "outputId": "63be0649-f095-4c0a-d8df-b7f4229100e0"
      },
      "outputs": [
        {
          "data": {
            "text/plain": [
              "array([2, 3, 4])"
            ]
          },
          "execution_count": 47,
          "metadata": {},
          "output_type": "execute_result"
        }
      ],
      "source": [
        "x=np.array([1,2,3])\n",
        "y=np.array([1,1,1])\n",
        "z=x+y\n",
        "z"
      ]
    },
    {
      "cell_type": "markdown",
      "metadata": {
        "id": "sJrEvGJfjHcH"
      },
      "source": [
        "Les matrices"
      ]
    },
    {
      "cell_type": "code",
      "execution_count": 49,
      "metadata": {
        "colab": {
          "base_uri": "https://localhost:8080/"
        },
        "id": "9lDsM5CQjEsc",
        "outputId": "a1ed0162-a074-4872-f837-ed6b961309b4"
      },
      "outputs": [
        {
          "data": {
            "text/plain": [
              "array([[2, 3, 4],\n",
              "       [6, 7, 8]])"
            ]
          },
          "execution_count": 49,
          "metadata": {},
          "output_type": "execute_result"
        }
      ],
      "source": [
        "X=np.array([[1,2,3],[4,5,6]])\n",
        "Y=np.array([[1,1,1],[2,2,2]])\n",
        "Z=X+Y\n",
        "Z"
      ]
    },
    {
      "cell_type": "markdown",
      "metadata": {
        "id": "xT7eCCVUkKr3"
      },
      "source": [
        "**Objet mathématique**"
      ]
    },
    {
      "cell_type": "code",
      "execution_count": 50,
      "metadata": {
        "id": "vdrPVmsdj81G"
      },
      "outputs": [],
      "source": [
        "x=np.array([1,2,3])"
      ]
    },
    {
      "cell_type": "code",
      "execution_count": 51,
      "metadata": {
        "colab": {
          "base_uri": "https://localhost:8080/"
        },
        "id": "8Yj1K3KukS60",
        "outputId": "d01bb44b-3912-4ed6-d080-dc568263160c"
      },
      "outputs": [
        {
          "data": {
            "text/plain": [
              "dtype('int64')"
            ]
          },
          "execution_count": 51,
          "metadata": {},
          "output_type": "execute_result"
        }
      ],
      "source": [
        "x.dtype"
      ]
    },
    {
      "cell_type": "code",
      "execution_count": 52,
      "metadata": {
        "id": "EgCTyBd0kfHG"
      },
      "outputs": [],
      "source": [
        "x=np.array([1,2,3],dtype=np.uint8)"
      ]
    },
    {
      "cell_type": "code",
      "execution_count": 53,
      "metadata": {
        "colab": {
          "base_uri": "https://localhost:8080/"
        },
        "id": "oKZs-GjmwfUk",
        "outputId": "a06bbce2-d3f8-4725-9cf8-3639c9933c36"
      },
      "outputs": [
        {
          "data": {
            "text/plain": [
              "array([1, 2, 3], dtype=uint8)"
            ]
          },
          "execution_count": 53,
          "metadata": {},
          "output_type": "execute_result"
        }
      ],
      "source": [
        "x"
      ]
    },
    {
      "cell_type": "code",
      "execution_count": 54,
      "metadata": {
        "colab": {
          "base_uri": "https://localhost:8080/"
        },
        "id": "9WU-As1wwoMF",
        "outputId": "8944828c-b54b-43b8-e66b-c80283760e25"
      },
      "outputs": [
        {
          "data": {
            "text/plain": [
              "dtype('uint8')"
            ]
          },
          "execution_count": 54,
          "metadata": {},
          "output_type": "execute_result"
        }
      ],
      "source": [
        "x.dtype"
      ]
    },
    {
      "cell_type": "code",
      "execution_count": 55,
      "metadata": {
        "colab": {
          "base_uri": "https://localhost:8080/"
        },
        "id": "BZN8xaG7wqIE",
        "outputId": "028cf03d-e2f0-4892-f082-c4cb69980655"
      },
      "outputs": [
        {
          "data": {
            "text/plain": [
              "array([301, 302, 303], dtype=uint16)"
            ]
          },
          "execution_count": 55,
          "metadata": {},
          "output_type": "execute_result"
        }
      ],
      "source": [
        "x+300"
      ]
    },
    {
      "cell_type": "code",
      "execution_count": 56,
      "metadata": {
        "id": "dPBQEmWyw9sJ"
      },
      "outputs": [],
      "source": [
        "x=np.array([1,2,300],dtype=np.uint8)"
      ]
    },
    {
      "cell_type": "code",
      "execution_count": 57,
      "metadata": {
        "colab": {
          "base_uri": "https://localhost:8080/"
        },
        "id": "p45EfSLexRe5",
        "outputId": "7f0cd8fd-8b25-4cf4-ccb4-0c5f050c23ee"
      },
      "outputs": [
        {
          "data": {
            "text/plain": [
              "array([ 1,  2, 44], dtype=uint8)"
            ]
          },
          "execution_count": 57,
          "metadata": {},
          "output_type": "execute_result"
        }
      ],
      "source": [
        "x"
      ]
    },
    {
      "cell_type": "code",
      "execution_count": 58,
      "metadata": {
        "colab": {
          "base_uri": "https://localhost:8080/"
        },
        "id": "TvqhLLtVxVNa",
        "outputId": "5128279f-fdf5-48a3-844a-b219554cc699"
      },
      "outputs": [
        {
          "data": {
            "text/plain": [
              "1"
            ]
          },
          "execution_count": 58,
          "metadata": {},
          "output_type": "execute_result"
        }
      ],
      "source": [
        "x.ndim"
      ]
    },
    {
      "cell_type": "code",
      "execution_count": 59,
      "metadata": {
        "colab": {
          "base_uri": "https://localhost:8080/"
        },
        "id": "xP26lHV5x3ro",
        "outputId": "34ef71ee-721f-4cb5-88d2-3136c3bfa5cb"
      },
      "outputs": [
        {
          "data": {
            "text/plain": [
              "(3,)"
            ]
          },
          "execution_count": 59,
          "metadata": {},
          "output_type": "execute_result"
        }
      ],
      "source": [
        "x.shape"
      ]
    },
    {
      "cell_type": "code",
      "execution_count": 60,
      "metadata": {
        "colab": {
          "base_uri": "https://localhost:8080/"
        },
        "id": "SPFdTQpdx626",
        "outputId": "ca9c2ac7-433f-4fad-8ca2-2894809016c9"
      },
      "outputs": [
        {
          "data": {
            "text/plain": [
              "numpy.ndarray"
            ]
          },
          "execution_count": 60,
          "metadata": {},
          "output_type": "execute_result"
        }
      ],
      "source": [
        "type(x)"
      ]
    },
    {
      "cell_type": "code",
      "execution_count": 62,
      "metadata": {
        "id": "nd3wmDbAyceu"
      },
      "outputs": [],
      "source": [
        "x=np.array([1,2,3],dtype=np.uint8)"
      ]
    },
    {
      "cell_type": "code",
      "execution_count": 63,
      "metadata": {
        "colab": {
          "base_uri": "https://localhost:8080/"
        },
        "id": "Xgwj6orryHpu",
        "outputId": "1be74988-ff76-4685-bcff-443b9ac6ec0c"
      },
      "outputs": [
        {
          "data": {
            "text/plain": [
              "6"
            ]
          },
          "execution_count": 63,
          "metadata": {},
          "output_type": "execute_result"
        }
      ],
      "source": [
        "x.sum()"
      ]
    },
    {
      "cell_type": "code",
      "execution_count": 64,
      "metadata": {
        "colab": {
          "base_uri": "https://localhost:8080/"
        },
        "id": "_onL9rlMyZXo",
        "outputId": "fb759f70-7d49-44be-ecbb-f1f0abfa18f8"
      },
      "outputs": [
        {
          "data": {
            "text/plain": [
              "3"
            ]
          },
          "execution_count": 64,
          "metadata": {},
          "output_type": "execute_result"
        }
      ],
      "source": [
        "x.max()"
      ]
    },
    {
      "cell_type": "code",
      "execution_count": 65,
      "metadata": {
        "colab": {
          "base_uri": "https://localhost:8080/"
        },
        "id": "b6S5wrwiygAl",
        "outputId": "28215457-3006-442e-b02b-2a5877821210"
      },
      "outputs": [
        {
          "data": {
            "text/plain": [
              "2"
            ]
          },
          "execution_count": 65,
          "metadata": {},
          "output_type": "execute_result"
        }
      ],
      "source": [
        "x.argmax()"
      ]
    },
    {
      "cell_type": "code",
      "execution_count": 66,
      "metadata": {
        "colab": {
          "base_uri": "https://localhost:8080/"
        },
        "id": "c54jzw6yyhyC",
        "outputId": "1b410a28-40d5-4bb6-db92-b4d671dd6486"
      },
      "outputs": [
        {
          "data": {
            "text/plain": [
              "1"
            ]
          },
          "execution_count": 66,
          "metadata": {},
          "output_type": "execute_result"
        }
      ],
      "source": [
        "x[0]"
      ]
    },
    {
      "cell_type": "code",
      "execution_count": 67,
      "metadata": {
        "colab": {
          "base_uri": "https://localhost:8080/"
        },
        "id": "tSjx5nqyysXt",
        "outputId": "0e503cd3-ed33-45c7-df89-ee4ca846ada2"
      },
      "outputs": [
        {
          "data": {
            "text/plain": [
              "3"
            ]
          },
          "execution_count": 67,
          "metadata": {},
          "output_type": "execute_result"
        }
      ],
      "source": [
        "x[-1]"
      ]
    },
    {
      "cell_type": "code",
      "execution_count": 68,
      "metadata": {
        "colab": {
          "base_uri": "https://localhost:8080/"
        },
        "id": "KAcJOvaQyvMo",
        "outputId": "fe4ccec5-74cf-439c-8063-a453500871e0"
      },
      "outputs": [
        {
          "data": {
            "text/plain": [
              "array([1, 2], dtype=uint8)"
            ]
          },
          "execution_count": 68,
          "metadata": {},
          "output_type": "execute_result"
        }
      ],
      "source": [
        "x[:2]"
      ]
    },
    {
      "cell_type": "code",
      "execution_count": 69,
      "metadata": {
        "colab": {
          "base_uri": "https://localhost:8080/"
        },
        "id": "oP_ZwG39y0wU",
        "outputId": "8c0b138f-c6f3-4307-ce4c-4a0b648c6471"
      },
      "outputs": [
        {
          "data": {
            "text/plain": [
              "array([3, 2, 1], dtype=uint8)"
            ]
          },
          "execution_count": 69,
          "metadata": {},
          "output_type": "execute_result"
        }
      ],
      "source": [
        "x[::-1]"
      ]
    },
    {
      "cell_type": "code",
      "execution_count": 70,
      "metadata": {
        "colab": {
          "base_uri": "https://localhost:8080/"
        },
        "id": "EOyOXcqdy4LH",
        "outputId": "4f1d6b40-1511-4ce1-f4c6-41990afec5de"
      },
      "outputs": [
        {
          "data": {
            "text/plain": [
              "3"
            ]
          },
          "execution_count": 70,
          "metadata": {},
          "output_type": "execute_result"
        }
      ],
      "source": [
        "len(x)"
      ]
    },
    {
      "cell_type": "code",
      "execution_count": 71,
      "metadata": {
        "colab": {
          "base_uri": "https://localhost:8080/"
        },
        "id": "bxu4VYOjy5fv",
        "outputId": "c8a51bfc-787c-40bb-b9e6-e4ac97f86dfc"
      },
      "outputs": [
        {
          "data": {
            "text/plain": [
              "[1, 2, 3]"
            ]
          },
          "execution_count": 71,
          "metadata": {},
          "output_type": "execute_result"
        }
      ],
      "source": [
        "x.tolist()"
      ]
    },
    {
      "cell_type": "code",
      "execution_count": 72,
      "metadata": {
        "id": "Ts3fl14ezE4P"
      },
      "outputs": [],
      "source": [
        "L=[1,2,3]\n",
        "x=np.array(L)"
      ]
    },
    {
      "cell_type": "code",
      "execution_count": 73,
      "metadata": {
        "colab": {
          "base_uri": "https://localhost:8080/"
        },
        "id": "yyABmtYbzJWs",
        "outputId": "099509e9-4152-4c31-c149-0b4137760fc5"
      },
      "outputs": [
        {
          "data": {
            "text/plain": [
              "array([1, 2, 3])"
            ]
          },
          "execution_count": 73,
          "metadata": {},
          "output_type": "execute_result"
        }
      ],
      "source": [
        "x"
      ]
    },
    {
      "cell_type": "code",
      "execution_count": 74,
      "metadata": {
        "colab": {
          "base_uri": "https://localhost:8080/"
        },
        "id": "eAX3tUB8zJys",
        "outputId": "bd1f067a-ce46-4d82-ee80-db72ea1e828f"
      },
      "outputs": [
        {
          "data": {
            "text/plain": [
              "array([ 2.71828183,  7.3890561 , 20.08553692])"
            ]
          },
          "execution_count": 74,
          "metadata": {},
          "output_type": "execute_result"
        }
      ],
      "source": [
        "np.exp(x)"
      ]
    },
    {
      "cell_type": "code",
      "execution_count": 75,
      "metadata": {
        "colab": {
          "base_uri": "https://localhost:8080/"
        },
        "id": "nPk2CYZrzVYx",
        "outputId": "11e80cf7-30b6-415e-edff-5bc2fb375981"
      },
      "outputs": [
        {
          "data": {
            "text/plain": [
              "6"
            ]
          },
          "execution_count": 75,
          "metadata": {},
          "output_type": "execute_result"
        }
      ],
      "source": [
        "np.sum(x)"
      ]
    },
    {
      "cell_type": "code",
      "execution_count": 76,
      "metadata": {
        "colab": {
          "base_uri": "https://localhost:8080/"
        },
        "id": "RSYrmYg2zdQU",
        "outputId": "7a4a4bbd-0c49-4b92-c7d7-bb2fef9e5798"
      },
      "outputs": [
        {
          "data": {
            "text/plain": [
              "6"
            ]
          },
          "execution_count": 76,
          "metadata": {},
          "output_type": "execute_result"
        }
      ],
      "source": [
        "x.sum()"
      ]
    },
    {
      "cell_type": "code",
      "execution_count": 77,
      "metadata": {
        "colab": {
          "base_uri": "https://localhost:8080/"
        },
        "id": "yN__8_JUzeHk",
        "outputId": "419fb3de-57e5-4fe9-dd6f-0ff8e3d07bea"
      },
      "outputs": [
        {
          "data": {
            "text/plain": [
              "array([0.5, 1. , 1.5])"
            ]
          },
          "execution_count": 77,
          "metadata": {},
          "output_type": "execute_result"
        }
      ],
      "source": [
        "x/2"
      ]
    },
    {
      "cell_type": "code",
      "execution_count": 78,
      "metadata": {
        "id": "dlc9TKlnzn0D"
      },
      "outputs": [],
      "source": [
        "x.sort()"
      ]
    },
    {
      "cell_type": "code",
      "execution_count": 79,
      "metadata": {
        "colab": {
          "base_uri": "https://localhost:8080/"
        },
        "id": "NKOPBdYf0Tpd",
        "outputId": "abee9055-d48f-42b1-9402-b148de93cacd"
      },
      "outputs": [
        {
          "data": {
            "text/plain": [
              "array([1, 2, 3])"
            ]
          },
          "execution_count": 79,
          "metadata": {},
          "output_type": "execute_result"
        }
      ],
      "source": [
        "x"
      ]
    },
    {
      "cell_type": "code",
      "execution_count": null,
      "metadata": {
        "id": "c3cRUnWb0VJr"
      },
      "outputs": [],
      "source": [
        "x.sort()[::-1]"
      ]
    },
    {
      "cell_type": "code",
      "execution_count": 80,
      "metadata": {
        "id": "zhOJWY2W0kFW"
      },
      "outputs": [],
      "source": [
        "def somme(x,y):\n",
        "  return x+y\n",
        "\n",
        "def calcul(x,y,operation=somme):\n",
        "  return operation(x,y)"
      ]
    },
    {
      "cell_type": "code",
      "execution_count": 81,
      "metadata": {
        "colab": {
          "base_uri": "https://localhost:8080/"
        },
        "id": "4KLY5GZ004i5",
        "outputId": "0ca729ef-b263-4aba-95de-5ee41b8a6d90"
      },
      "outputs": [
        {
          "data": {
            "text/plain": [
              "3"
            ]
          },
          "execution_count": 81,
          "metadata": {},
          "output_type": "execute_result"
        }
      ],
      "source": [
        "calcul(1,2)"
      ]
    },
    {
      "cell_type": "code",
      "execution_count": 82,
      "metadata": {
        "id": "C6auIvJy1Gd9"
      },
      "outputs": [],
      "source": [
        "def produit(x,y):\n",
        "  return x*y\n",
        "\n",
        "def soustraction(x,y):\n",
        "  return x-y"
      ]
    },
    {
      "cell_type": "code",
      "execution_count": 83,
      "metadata": {
        "colab": {
          "base_uri": "https://localhost:8080/"
        },
        "id": "AoZKk7g61PG_",
        "outputId": "90dfe95c-913b-40dd-a074-e7a09ef4e9a5"
      },
      "outputs": [
        {
          "data": {
            "text/plain": [
              "2"
            ]
          },
          "execution_count": 83,
          "metadata": {},
          "output_type": "execute_result"
        }
      ],
      "source": [
        "calcul(1,2,produit)"
      ]
    },
    {
      "cell_type": "code",
      "execution_count": 84,
      "metadata": {
        "colab": {
          "base_uri": "https://localhost:8080/"
        },
        "id": "6JXLI4t71R4-",
        "outputId": "b720f05f-032f-43d9-9048-64e301849921"
      },
      "outputs": [
        {
          "data": {
            "text/plain": [
              "function"
            ]
          },
          "execution_count": 84,
          "metadata": {},
          "output_type": "execute_result"
        }
      ],
      "source": [
        "type(somme)"
      ]
    },
    {
      "cell_type": "code",
      "execution_count": 91,
      "metadata": {
        "colab": {
          "base_uri": "https://localhost:8080/"
        },
        "id": "K0T17qwa1aDU",
        "outputId": "5629b9f2-8e4f-4f3e-89ff-0877f629d749"
      },
      "outputs": [
        {
          "data": {
            "text/plain": [
              "array([3, 2, 1], dtype=uint8)"
            ]
          },
          "execution_count": 91,
          "metadata": {},
          "output_type": "execute_result"
        }
      ],
      "source": [
        "x=np.array([1,2,3],dtype=np.uint8)\n",
        "np.sort(x)[::-1]"
      ]
    },
    {
      "cell_type": "markdown",
      "metadata": {
        "id": "7LY3D4OE_kpK"
      },
      "source": [
        "**Exercice recap**"
      ]
    },
    {
      "cell_type": "code",
      "execution_count": 92,
      "metadata": {
        "id": "lkGOY9gb2Lkh"
      },
      "outputs": [],
      "source": [
        "# Soient une population des employés caractérisée par leurs salaires et ages\n",
        "# Soient deux employés Ali (salaire=1600 et age=38) et Sonia (salaire=2100 et age=43)\n",
        "# Soit une requete (salaire=1500 et age=35)\n",
        "# Quel est l'employé le plus proche à la requete ?"
      ]
    },
    {
      "cell_type": "code",
      "execution_count": 6,
      "metadata": {
        "id": "yokuDeMK2ixv"
      },
      "outputs": [],
      "source": [
        "# representation mathematique des données\n",
        "ali=np.array([1600,38])\n",
        "sonia=np.array([2100,43])\n",
        "requete=np.array([1500,35])"
      ]
    },
    {
      "cell_type": "code",
      "execution_count": 7,
      "metadata": {
        "colab": {
          "base_uri": "https://localhost:8080/"
        },
        "id": "zUs46rGK73fD",
        "outputId": "1ef7f9e4-b1ed-46a9-bf9c-a3c4575775a8"
      },
      "outputs": [
        {
          "data": {
            "text/plain": [
              "500.02499937503126"
            ]
          },
          "execution_count": 7,
          "metadata": {},
          "output_type": "execute_result"
        }
      ],
      "source": [
        "np.sqrt(np.dot(ali-sonia,ali-sonia)) # distance euclidienne entre Ali et Sonia (en 2D) "
      ]
    },
    {
      "cell_type": "code",
      "execution_count": 8,
      "metadata": {
        "id": "Z-f7s9U77pAi"
      },
      "outputs": [],
      "source": [
        "# calcul/algorithme\n",
        "# approche 1 : on définit la fonction de distance euclidienne\n",
        "def distance(e1,e2):\n",
        "  return np.sqrt(np.dot(e1-e2,e1-e2))"
      ]
    },
    {
      "cell_type": "code",
      "execution_count": 9,
      "metadata": {
        "colab": {
          "base_uri": "https://localhost:8080/"
        },
        "id": "AEuLQntx8QN5",
        "outputId": "6e1303eb-629a-4101-f06e-2226f8415050"
      },
      "outputs": [
        {
          "data": {
            "text/plain": [
              "500.02499937503126"
            ]
          },
          "execution_count": 9,
          "metadata": {},
          "output_type": "execute_result"
        }
      ],
      "source": [
        "from numpy.linalg import norm   \n",
        "norm(ali-sonia, ord=2)  "
      ]
    },
    {
      "cell_type": "code",
      "execution_count": 3,
      "metadata": {
        "colab": {
          "base_uri": "https://localhost:8080/"
        },
        "id": "dWmYqPGi8qiU",
        "outputId": "c76405d2-305a-4ef5-850f-9e59d43531c9"
      },
      "outputs": [
        {
          "ename": "NameError",
          "evalue": "name 'ali' is not defined",
          "output_type": "error",
          "traceback": [
            "\u001b[1;31m---------------------------------------------------------------------------\u001b[0m",
            "\u001b[1;31mNameError\u001b[0m                                 Traceback (most recent call last)",
            "\u001b[1;32mc:\\Users\\msi\\Desktop\\Python\\Python_IA.ipynb Cell 54\u001b[0m in \u001b[0;36m<cell line: 2>\u001b[1;34m()\u001b[0m\n\u001b[0;32m      <a href='vscode-notebook-cell:/c%3A/Users/msi/Desktop/Python/Python_IA.ipynb#Y104sZmlsZQ%3D%3D?line=0'>1</a>\u001b[0m \u001b[39mfrom\u001b[39;00m \u001b[39mscipy\u001b[39;00m\u001b[39m.\u001b[39;00m\u001b[39mspatial\u001b[39;00m\u001b[39m.\u001b[39;00m\u001b[39mdistance\u001b[39;00m \u001b[39mimport\u001b[39;00m euclidean         \n\u001b[1;32m----> <a href='vscode-notebook-cell:/c%3A/Users/msi/Desktop/Python/Python_IA.ipynb#Y104sZmlsZQ%3D%3D?line=1'>2</a>\u001b[0m euclidean(ali,sonia)\n",
            "\u001b[1;31mNameError\u001b[0m: name 'ali' is not defined"
          ]
        }
      ],
      "source": [
        "from scipy.spatial.distance import euclidean         \n",
        "euclidean(ali,sonia)  "
      ]
    },
    {
      "cell_type": "code",
      "execution_count": 11,
      "metadata": {
        "colab": {
          "base_uri": "https://localhost:8080/"
        },
        "id": "BBChVl4w9HSS",
        "outputId": "f9fa7867-315a-41b4-bb1d-8c8dda8db49e"
      },
      "outputs": [
        {
          "ename": "NameError",
          "evalue": "name 'euclidean' is not defined",
          "output_type": "error",
          "traceback": [
            "\u001b[1;31m---------------------------------------------------------------------------\u001b[0m",
            "\u001b[1;31mNameError\u001b[0m                                 Traceback (most recent call last)",
            "\u001b[1;32mc:\\Users\\msi\\Desktop\\Python\\Python_IA.ipynb Cell 55\u001b[0m in \u001b[0;36m<cell line: 1>\u001b[1;34m()\u001b[0m\n\u001b[1;32m----> <a href='vscode-notebook-cell:/c%3A/Users/msi/Desktop/Python/Python_IA.ipynb#Y105sZmlsZQ%3D%3D?line=0'>1</a>\u001b[0m d_req_ali\u001b[39m=\u001b[39meuclidean(requete,ali)\n\u001b[0;32m      <a href='vscode-notebook-cell:/c%3A/Users/msi/Desktop/Python/Python_IA.ipynb#Y105sZmlsZQ%3D%3D?line=1'>2</a>\u001b[0m d_req_sonia\u001b[39m=\u001b[39meuclidean(requete,sonia)\n\u001b[0;32m      <a href='vscode-notebook-cell:/c%3A/Users/msi/Desktop/Python/Python_IA.ipynb#Y105sZmlsZQ%3D%3D?line=2'>3</a>\u001b[0m \u001b[39mif\u001b[39;00m d_req_ali\u001b[39m<\u001b[39md_req_sonia:\n",
            "\u001b[1;31mNameError\u001b[0m: name 'euclidean' is not defined"
          ]
        }
      ],
      "source": [
        "d_req_ali=euclidean(requete,ali)\n",
        "d_req_sonia=euclidean(requete,sonia)  \n",
        "if d_req_ali<d_req_sonia:\n",
        "  print('Ali est plus proche !')\n",
        "elif d_req_ali>d_req_sonia:\n",
        "  print('Sonia est plus proche !')\n",
        "else:\n",
        "  print('Les deux sont equidistants !')"
      ]
    },
    {
      "cell_type": "markdown",
      "metadata": {},
      "source": [
        "#what is panda ?    #panda is a library for data analysis in python      \n",
        "#what is numpy ?    #numpy is a library for scientific computing in python\n",
        "#what is IA ?       #IA is a branch of computer science that aims to create intelligent machines that work and react like humans\n",
        "#what is DevOps ?   #DevOps is a set of practices that combines software development (Dev) and information technology operations (Ops)"
      ]
    },
    {
      "cell_type": "code",
      "execution_count": null,
      "metadata": {
        "id": "e9CJSL889y1M"
      },
      "outputs": [],
      "source": []
    }
  ],
  "metadata": {
    "colab": {
      "provenance": []
    },
    "kernelspec": {
      "display_name": "Python 3.10.7 64-bit (microsoft store)",
      "language": "python",
      "name": "python3"
    },
    "language_info": {
      "codemirror_mode": {
        "name": "ipython",
        "version": 3
      },
      "file_extension": ".py",
      "mimetype": "text/x-python",
      "name": "python",
      "nbconvert_exporter": "python",
      "pygments_lexer": "ipython3",
      "version": "3.10.7"
    },
    "vscode": {
      "interpreter": {
        "hash": "171002ca0d6c473a5ff791bbb5aa7a877aeef24b277cda4853af5f38e9943e22"
      }
    }
  },
  "nbformat": 4,
  "nbformat_minor": 0
}
