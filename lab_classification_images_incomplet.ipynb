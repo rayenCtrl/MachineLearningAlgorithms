{
  "cells": [
    {
      "cell_type": "markdown",
      "metadata": {
        "id": "udvF7tgO2Gy0"
      },
      "source": [
        "**1. Prérequis**"
      ]
    },
    {
      "cell_type": "markdown",
      "metadata": {
        "id": "uvHGaZ0h2LD4"
      },
      "source": [
        "**1.1. Travailler avec les fichiers et les dossiers**"
      ]
    },
    {
      "cell_type": "markdown",
      "metadata": {
        "id": "FPI-1wRqyqZp"
      },
      "source": [
        "Connexion au Drive Google"
      ]
    },
    {
      "cell_type": "code",
      "execution_count": null,
      "metadata": {
        "colab": {
          "base_uri": "https://localhost:8080/"
        },
        "id": "h_x6jPo92QBG",
        "outputId": "ff15d542-799c-428c-f7c2-204839afb349"
      },
      "outputs": [
        {
          "name": "stdout",
          "output_type": "stream",
          "text": [
            "Drive already mounted at /content/drive; to attempt to forcibly remount, call drive.mount(\"/content/drive\", force_remount=True).\n"
          ]
        }
      ],
      "source": [
        "from google.colab import drive \n",
        "drive.mount('/content/drive')"
      ]
    },
    {
      "cell_type": "markdown",
      "metadata": {
        "id": "Svlq8uZpz1UV"
      },
      "source": [
        "Spécifier le chemin de dataset des images"
      ]
    },
    {
      "cell_type": "code",
      "execution_count": 1,
      "metadata": {
        "id": "SN0UXBEHyz9x"
      },
      "outputs": [],
      "source": [
        "data_path='./data'"
      ]
    },
    {
      "cell_type": "markdown",
      "metadata": {
        "id": "nlJvZYnYy8PQ"
      },
      "source": [
        "Lister les sous-dossiers\n",
        "\n",
        "Note:  Utiliser la fonction os.listdir(path) qui retourne la liste des fichiers dans le dossier path"
      ]
    },
    {
      "cell_type": "code",
      "execution_count": 5,
      "metadata": {
        "colab": {
          "base_uri": "https://localhost:8080/"
        },
        "id": "YcS5zdrQy45c",
        "outputId": "d6d5a2ed-c1b1-4cf3-8af2-74e3eef2f399"
      },
      "outputs": [
        {
          "data": {
            "text/plain": [
              "['0', '1', '2']"
            ]
          },
          "execution_count": 5,
          "metadata": {},
          "output_type": "execute_result"
        }
      ],
      "source": [
        "os.listdir(data_path) # lister les fichiers du répertoire data"
      ]
    },
    {
      "cell_type": "markdown",
      "metadata": {
        "id": "jKWCZHDUz5Gg"
      },
      "source": [
        "joindre les chemins\n",
        "\n",
        "Note: Utiliser la fonction os.path.join(path, sub_dir ou file) qui concat le chemin de dossier path à un nom de sous-dossier ou un nom de fichier dedans"
      ]
    },
    {
      "cell_type": "code",
      "execution_count": 12,
      "metadata": {
        "colab": {
          "base_uri": "https://localhost:8080/",
          "height": 35
        },
        "id": "dDj9QvZJz6Zo",
        "outputId": "e826941c-f408-468d-a5ad-4529232a6a94"
      },
      "outputs": [],
      "source": [
        "classe_0_path=os.path.join(data_path,'0')"
      ]
    },
    {
      "cell_type": "markdown",
      "metadata": {
        "id": "AXknuYRu0f5u"
      },
      "source": [
        "Lister les noms des fichiers dans le dossier classe_0_path ?\n",
        "\n",
        "Nommer la liste obtenue fichiers"
      ]
    },
    {
      "cell_type": "code",
      "execution_count": 15,
      "metadata": {
        "id": "PcbTvGXx1TQk"
      },
      "outputs": [
        {
          "data": {
            "text/plain": [
              "'img_1.jpg'"
            ]
          },
          "execution_count": 15,
          "metadata": {},
          "output_type": "execute_result"
        }
      ],
      "source": [
        "fichiers=os.listdir(classe_0_path)\n",
        "\n",
        "fichiers[0]\n"
      ]
    },
    {
      "cell_type": "markdown",
      "metadata": {
        "id": "tTszxrQ51wjr"
      },
      "source": [
        "La liste obtenue contizent des noms des fichiers d'images dans le dossier classe_0_path.\n",
        "\n",
        "Composer le chemin de la première image de la liste fichiers\n",
        "\n",
        "Lui donner le nom image_path"
      ]
    },
    {
      "cell_type": "code",
      "execution_count": 17,
      "metadata": {
        "colab": {
          "base_uri": "https://localhost:8080/",
          "height": 35
        },
        "id": "I5oFE3Si19xi",
        "outputId": "881cb4b0-d745-4a37-dc39-adfc1caf9a15"
      },
      "outputs": [
        {
          "data": {
            "text/plain": [
              "'./data\\\\0\\\\img_1.jpg'"
            ]
          },
          "execution_count": 17,
          "metadata": {},
          "output_type": "execute_result"
        }
      ],
      "source": [
        "image_path=os.path.join(classe_0_path,fichiers[0])\n",
        "\n",
        "image_path"
      ]
    },
    {
      "cell_type": "markdown",
      "metadata": {
        "id": "VWHxSCFI2l32"
      },
      "source": [
        "**1.2. Travailler avec les images**"
      ]
    },
    {
      "cell_type": "markdown",
      "metadata": {
        "id": "X2kWkkyC2pUY"
      },
      "source": [
        "Lire une image"
      ]
    },
    {
      "cell_type": "markdown",
      "metadata": {
        "id": "Hfbn75Kp3WBM"
      },
      "source": [
        "Note: Utiliser la fonction imread() de module skimage.io\n",
        "\n",
        "Donner le nom I à ll'image chargée en mémoire"
      ]
    },
    {
      "cell_type": "code",
      "execution_count": 18,
      "metadata": {
        "id": "gYRnips33CgM"
      },
      "outputs": [],
      "source": [
        "from skimage.io import imread\n",
        "\n",
        "I=imread(image_path)"
      ]
    },
    {
      "cell_type": "markdown",
      "metadata": {
        "id": "1E29clfX3vs_"
      },
      "source": [
        "Propriétés de l'objet image"
      ]
    },
    {
      "cell_type": "markdown",
      "metadata": {
        "id": "20vYhS5E-ktL"
      },
      "source": [
        "Afficher le type de l'image chargée en mémoire I"
      ]
    },
    {
      "cell_type": "code",
      "execution_count": 27,
      "metadata": {
        "id": "F-2Y34fU-oQo"
      },
      "outputs": [
        {
          "data": {
            "text/plain": [
              "numpy.ndarray"
            ]
          },
          "execution_count": 27,
          "metadata": {},
          "output_type": "execute_result"
        }
      ],
      "source": [
        "# Afficher lle type de l'image et ses dimensions \n",
        "type(I)\n"
      ]
    },
    {
      "cell_type": "markdown",
      "metadata": {
        "id": "4CsHy3ze-hCs"
      },
      "source": [
        "Afficher le shape de l'image chargée en mémoire I"
      ]
    },
    {
      "cell_type": "code",
      "execution_count": 24,
      "metadata": {
        "colab": {
          "base_uri": "https://localhost:8080/"
        },
        "id": "nleHs-RK30L3",
        "outputId": "123f0a2f-6955-4ad8-cafe-47798abb2b18"
      },
      "outputs": [
        {
          "data": {
            "text/plain": [
              "(28, 28)"
            ]
          },
          "execution_count": 24,
          "metadata": {},
          "output_type": "execute_result"
        }
      ],
      "source": [
        "# Afficher shape de l'image \n",
        "I.shape"
      ]
    },
    {
      "cell_type": "markdown",
      "metadata": {
        "id": "LSrjBioc-sc6"
      },
      "source": [
        "Afficher le type des données (les niveaux de gris) de l'image I"
      ]
    },
    {
      "cell_type": "code",
      "execution_count": 25,
      "metadata": {
        "colab": {
          "base_uri": "https://localhost:8080/"
        },
        "id": "0wNBzw1X31_X",
        "outputId": "bb981206-1019-473e-c708-3da80d82e1cd"
      },
      "outputs": [
        {
          "data": {
            "text/plain": [
              "dtype('uint8')"
            ]
          },
          "execution_count": 25,
          "metadata": {},
          "output_type": "execute_result"
        }
      ],
      "source": [
        "# Afficher le type de données de l'image \n",
        "I.dtype\n"
      ]
    },
    {
      "cell_type": "markdown",
      "metadata": {
        "id": "cPGCE6hG363r"
      },
      "source": [
        "Afficher une image sur la console\n",
        "\n",
        "Note :  Utiliser la fonction imshow(image, cmap='gray') de module matplotlib.pyplot"
      ]
    },
    {
      "cell_type": "code",
      "execution_count": 31,
      "metadata": {
        "colab": {
          "base_uri": "https://localhost:8080/",
          "height": 248
        },
        "id": "KEEUExI939PY",
        "outputId": "43a4d8a9-0b11-4926-ef7b-1973c000ed4f"
      },
      "outputs": [
        {
          "data": {
            "text/plain": [
              "<matplotlib.image.AxesImage at 0x18f15374220>"
            ]
          },
          "execution_count": 31,
          "metadata": {},
          "output_type": "execute_result"
        },
        {
          "data": {
            "image/png": "[encoded data removed]",
            "text/plain": [
              "<Figure size 640x480 with 1 Axes>"
            ]
          },
          "metadata": {},
          "output_type": "display_data"
        }
      ],
      "source": [
        "# fonction imshow pour afficher l'image \n",
        "import matplotlib.pyplot as plt\n",
        "\n",
        "plt.imshow(I,cmap='gray')"
      ]
    },
    {
      "cell_type": "markdown",
      "metadata": {
        "id": "sUWGc5q24Mii"
      },
      "source": [
        "Opérations de base sur une image"
      ]
    },
    {
      "cell_type": "code",
      "execution_count": 32,
      "metadata": {
        "id": "TaknayWH4XDj"
      },
      "outputs": [],
      "source": [
        "# rendre l'image un vecteur avec la fonction reshape()\n",
        "I1=I.reshape(-1) # -1 pour dire que l'on ne connait pas la taille de la dimension"
      ]
    },
    {
      "cell_type": "code",
      "execution_count": 35,
      "metadata": {
        "id": "PCemY2mK4RJY"
      },
      "outputs": [],
      "source": [
        "# rendre l'image un vecteur avec la fonction flatten()\n",
        "I1=I.flatten()"
      ]
    },
    {
      "cell_type": "code",
      "execution_count": 36,
      "metadata": {
        "id": "ex4ujIXF42XS"
      },
      "outputs": [],
      "source": [
        "# Découper une partie de l'image \n",
        "# Exemple de pixel 10 -> pixel 20 sur l'axe des x et l'axe des y\n",
        "I1=I[10:20,10:20]"
      ]
    },
    {
      "cell_type": "code",
      "execution_count": 39,
      "metadata": {
        "id": "ZQ8cnCHZ5EnZ"
      },
      "outputs": [
        {
          "data": {
            "text/plain": [
              "<matplotlib.image.AxesImage at 0x18f1587f4f0>"
            ]
          },
          "execution_count": 39,
          "metadata": {},
          "output_type": "execute_result"
        },
        {
          "data": {
            "image/png": "[encoded data removed]",
            "text/plain": [
              "<Figure size 640x480 with 1 Axes>"
            ]
          },
          "metadata": {},
          "output_type": "display_data"
        }
      ],
      "source": [
        "# Afficher I1\n",
        "plt.imshow(I1,cmap='gray')"
      ]
    },
    {
      "cell_type": "code",
      "execution_count": 46,
      "metadata": {
        "id": "l2KsZ3yo5RGE"
      },
      "outputs": [],
      "source": [
        "# Changer la resolution de l'image\n",
        "# Utiliser la fonction resize\n",
        "from skimage.transform import resize\n",
        "\n",
        "I1=resize(I,(100,100))"
      ]
    },
    {
      "cell_type": "code",
      "execution_count": 47,
      "metadata": {
        "colab": {
          "base_uri": "https://localhost:8080/",
          "height": 248
        },
        "id": "UoiOyxLA50Mv",
        "outputId": "ee04b6b6-2172-4610-be76-27ad2ba23437"
      },
      "outputs": [
        {
          "data": {
            "text/plain": [
              "<matplotlib.image.AxesImage at 0x18f1721e4d0>"
            ]
          },
          "execution_count": 47,
          "metadata": {},
          "output_type": "execute_result"
        },
        {
          "data": {
            "image/png": "[encoded data removed]",
            "text/plain": [
              "<Figure size 640x480 with 1 Axes>"
            ]
          },
          "metadata": {},
          "output_type": "display_data"
        }
      ],
      "source": [
        "# Afficher I1\n",
        "plt.imshow(I1,cmap='gray')"
      ]
    },
    {
      "cell_type": "markdown",
      "metadata": {
        "id": "lBHTogRCAdtP"
      },
      "source": [
        "**2. Classification des images**"
      ]
    },
    {
      "cell_type": "markdown",
      "metadata": {
        "id": "O6DEDtTLAieI"
      },
      "source": [
        "Nous allons effectuer la classification des images en utlisant la technique KNN.\n",
        "\n",
        "Les données sont les images des digits 0, 1 et 2 de dataset mnist sur Google Drive.\n",
        "\n",
        "Nous allons commencer par charger les données en utilisant les prérequis vus ci-dessus.\n",
        "\n",
        "Puis, nous allons les préparer pour pourvoir les utiliser en classification."
      ]
    },
    {
      "cell_type": "markdown",
      "metadata": {
        "id": "bhuAyx51V9tl"
      },
      "source": [
        "**2.1. Charger les images à partir de Google Drive**"
      ]
    },
    {
      "cell_type": "markdown",
      "metadata": {
        "id": "oMBH3_1E6A8q"
      },
      "source": [
        "Parcourir le dossier mnist.\n",
        "\n",
        "Structure du dossier mnist:\n",
        "\n",
        "        mnist\n",
        "          |------0\n",
        "                  |----image0.jpg\n",
        "                  |----image1.jpg\n",
        "                  ....\n",
        "          |------1\n",
        "                  |----image0.jpg\n",
        "                  |----image1.jpg\n",
        "                  ....\n",
        "          |------2\n",
        "                  |----image0.jpg\n",
        "                  |----image1.jpg\n",
        "                  ....\n",
        "                  \n",
        "Vous allez mettre dans les variables suivantes :\n",
        "- images : les chemins de toutes les images.\n",
        "- labels : les classes (soit 0 soit 1 soit 2) auxquels appartiennent les images de la liste images\n",
        "\n",
        "Le résultat sera normalement comme suit :\n",
        "\n",
        "la liste images:\n",
        "\n",
        "        ['/content/drive/MyDrive/Colab Notebooks/irm2/data/mnist/0/img_108.jpg',\n",
        "        '/content/drive/MyDrive/Colab Notebooks/irm2/data/mnist/0/img_157.jpg', ...]\n",
        "\n",
        " la liste labels:\n",
        "\n",
        "        ['0', '0', ....]\n"
      ]
    },
    {
      "cell_type": "code",
      "execution_count": 48,
      "metadata": {
        "id": "jV00lfi1VzKt"
      },
      "outputs": [],
      "source": [
        "import os\n",
        "\n",
        "data_path='./data'\n",
        "images=[]\n",
        "labels=[]\n",
        "for classe_name in os.listdir(data_path):\n",
        "  classe_path = os.path.join(data_path, classe_name)\n",
        "  for file in os.listdir(classe_path):\n",
        "    image_path = os.path.join(classe_path, file)\n",
        "    images.append(image_path)\n",
        "    labels.append(classe_name)"
      ]
    },
    {
      "cell_type": "markdown",
      "metadata": {
        "id": "D5ZHdvGrWDFZ"
      },
      "source": [
        "**2.2. Diviser les données en entrée et sortie**"
      ]
    },
    {
      "cell_type": "markdown",
      "metadata": {
        "id": "rDLtF3nc79Oy"
      },
      "source": [
        "Dans le problème de classification des images:\n",
        "- Les images (leurs chemins) sont considérés comme les entrées\n",
        "- Les labels des images sont considérés comme les sorties\n",
        "\n",
        "Donc, donner le nom X à  la liste images et le nom y à la liste labels."
      ]
    },
    {
      "cell_type": "code",
      "execution_count": 49,
      "metadata": {
        "id": "bPQonh5OWRZs"
      },
      "outputs": [],
      "source": [
        "X=images\n",
        "y=labels"
      ]
    },
    {
      "cell_type": "markdown",
      "metadata": {
        "id": "FwtJxX6cWSAr"
      },
      "source": [
        "**2.3. Diviser les données en train et test**"
      ]
    },
    {
      "cell_type": "markdown",
      "metadata": {
        "id": "_7iDt6358ZfO"
      },
      "source": [
        "Utiliser la fonction train_test_split pour diviser X et y en train et test:\n",
        "\n",
        "Normalment:\n",
        "- les entrées X sont divisées en X_train et X_test\n",
        "- les sorties y sont divisées en y_train et y_test"
      ]
    },
    {
      "cell_type": "code",
      "execution_count": 50,
      "metadata": {
        "id": "oHnVVGxKWV0V"
      },
      "outputs": [],
      "source": [
        "from sklearn.model_selection import train_test_split\n",
        "X_train, X_test, y_train, y_test=train_test_split(X,y, train_size=0.6, stratify=y)"
      ]
    },
    {
      "cell_type": "markdown",
      "metadata": {
        "id": "90n5MIZaWYzi"
      },
      "source": [
        "**2.4. Traitement des données de train d'entrée**"
      ]
    },
    {
      "cell_type": "markdown",
      "metadata": {
        "id": "bGQ0hYXc8geh"
      },
      "source": [
        "L'image chargée en mémoire est un objet mathématique de deux dimensions (matrice).\n",
        "\n",
        "On a besoin de la représenter sous la forme d'un vecteur pour faire apprendre un modèle de Machine Learning.\n",
        "\n",
        "Travail demandé:\n",
        "\n",
        "      Pour chaque image de X_train faire:\n",
        "          lire une image\n",
        "          Transformer l'image en vecteur\n",
        "          Ajouter le vecteur dans une liste X_train_\n",
        "      Transformer X_train_ en matrice (utiliser np.array())"
      ]
    },
    {
      "cell_type": "code",
      "execution_count": 51,
      "metadata": {
        "id": "gKd2yzIdWc_q"
      },
      "outputs": [],
      "source": [
        "from skimage.io import imread\n",
        "import numpy as np\n",
        "X_train_=[]\n",
        "for image_path in X_train:\n",
        "  I=imread(image_path)\n",
        "  x=I.flatten()\n",
        "  X_train_.append(x)\n",
        "X_train_=np.array(X_train_)"
      ]
    },
    {
      "cell_type": "markdown",
      "metadata": {
        "id": "4mcgBZR0WeYx"
      },
      "source": [
        "**2.5. Apprentissage de classifieur**"
      ]
    },
    {
      "cell_type": "markdown",
      "metadata": {
        "id": "ldTylIB-99Is"
      },
      "source": [
        "Apprendre le modèle KNN avec X_train_ et y_train"
      ]
    },
    {
      "cell_type": "code",
      "execution_count": 52,
      "metadata": {
        "colab": {
          "base_uri": "https://localhost:8080/"
        },
        "id": "nwLsdHQ1Yles",
        "outputId": "68c17895-6c96-4fac-b430-e6daec76f18b"
      },
      "outputs": [
        {
          "data": {
            "text/html": [
              "<style>#sk-container-id-1 {color: black;background-color: white;}#sk-container-id-1 pre{padding: 0;}#sk-container-id-1 div.sk-toggleable {background-color: white;}#sk-container-id-1 label.sk-toggleable__label {cursor: pointer;display: block;width: 100%;margin-bottom: 0;padding: 0.3em;box-sizing: border-box;text-align: center;}#sk-container-id-1 label.sk-toggleable__label-arrow:before {content: \"▸\";float: left;margin-right: 0.25em;color: #696969;}#sk-container-id-1 label.sk-toggleable__label-arrow:hover:before {color: black;}#sk-container-id-1 div.sk-estimator:hover label.sk-toggleable__label-arrow:before {color: black;}#sk-container-id-1 div.sk-toggleable__content {max-height: 0;max-width: 0;overflow: hidden;text-align: left;background-color: #f0f8ff;}#sk-container-id-1 div.sk-toggleable__content pre {margin: 0.2em;color: black;border-radius: 0.25em;background-color: #f0f8ff;}#sk-container-id-1 input.sk-toggleable__control:checked~div.sk-toggleable__content {max-height: 200px;max-width: 100%;overflow: auto;}#sk-container-id-1 input.sk-toggleable__control:checked~label.sk-toggleable__label-arrow:before {content: \"▾\";}#sk-container-id-1 div.sk-estimator input.sk-toggleable__control:checked~label.sk-toggleable__label {background-color: #d4ebff;}#sk-container-id-1 div.sk-label input.sk-toggleable__control:checked~label.sk-toggleable__label {background-color: #d4ebff;}#sk-container-id-1 input.sk-hidden--visually {border: 0;clip: rect(1px 1px 1px 1px);clip: rect(1px, 1px, 1px, 1px);height: 1px;margin: -1px;overflow: hidden;padding: 0;position: absolute;width: 1px;}#sk-container-id-1 div.sk-estimator {font-family: monospace;background-color: #f0f8ff;border: 1px dotted black;border-radius: 0.25em;box-sizing: border-box;margin-bottom: 0.5em;}#sk-container-id-1 div.sk-estimator:hover {background-color: #d4ebff;}#sk-container-id-1 div.sk-parallel-item::after {content: \"\";width: 100%;border-bottom: 1px solid gray;flex-grow: 1;}#sk-container-id-1 div.sk-label:hover label.sk-toggleable__label {background-color: #d4ebff;}#sk-container-id-1 div.sk-serial::before {content: \"\";position: absolute;border-left: 1px solid gray;box-sizing: border-box;top: 0;bottom: 0;left: 50%;z-index: 0;}#sk-container-id-1 div.sk-serial {display: flex;flex-direction: column;align-items: center;background-color: white;padding-right: 0.2em;padding-left: 0.2em;position: relative;}#sk-container-id-1 div.sk-item {position: relative;z-index: 1;}#sk-container-id-1 div.sk-parallel {display: flex;align-items: stretch;justify-content: center;background-color: white;position: relative;}#sk-container-id-1 div.sk-item::before, #sk-container-id-1 div.sk-parallel-item::before {content: \"\";position: absolute;border-left: 1px solid gray;box-sizing: border-box;top: 0;bottom: 0;left: 50%;z-index: -1;}#sk-container-id-1 div.sk-parallel-item {display: flex;flex-direction: column;z-index: 1;position: relative;background-color: white;}#sk-container-id-1 div.sk-parallel-item:first-child::after {align-self: flex-end;width: 50%;}#sk-container-id-1 div.sk-parallel-item:last-child::after {align-self: flex-start;width: 50%;}#sk-container-id-1 div.sk-parallel-item:only-child::after {width: 0;}#sk-container-id-1 div.sk-dashed-wrapped {border: 1px dashed gray;margin: 0 0.4em 0.5em 0.4em;box-sizing: border-box;padding-bottom: 0.4em;background-color: white;}#sk-container-id-1 div.sk-label label {font-family: monospace;font-weight: bold;display: inline-block;line-height: 1.2em;}#sk-container-id-1 div.sk-label-container {text-align: center;}#sk-container-id-1 div.sk-container {/* jupyter's `normalize.less` sets `[hidden] { display: none; }` but bootstrap.min.css set `[hidden] { display: none !important; }` so we also need the `!important` here to be able to override the default hidden behavior on the sphinx rendered scikit-learn.org. See: https://github.com/scikit-learn/scikit-learn/issues/21755 */display: inline-block !important;position: relative;}#sk-container-id-1 div.sk-text-repr-fallback {display: none;}</style><div id=\"sk-container-id-1\" class=\"sk-top-container\"><div class=\"sk-text-repr-fallback\"><pre>KNeighborsClassifier(n_neighbors=2)</pre><b>In a Jupyter environment, please rerun this cell to show the HTML representation or trust the notebook. <br />On GitHub, the HTML representation is unable to render, please try loading this page with nbviewer.org.</b></div><div class=\"sk-container\" hidden><div class=\"sk-item\"><div class=\"sk-estimator sk-toggleable\"><input class=\"sk-toggleable__control sk-hidden--visually\" id=\"sk-estimator-id-1\" type=\"checkbox\" checked><label for=\"sk-estimator-id-1\" class=\"sk-toggleable__label sk-toggleable__label-arrow\">KNeighborsClassifier</label><div class=\"sk-toggleable__content\"><pre>KNeighborsClassifier(n_neighbors=2)</pre></div></div></div></div></div>"
            ],
            "text/plain": [
              "KNeighborsClassifier(n_neighbors=2)"
            ]
          },
          "execution_count": 52,
          "metadata": {},
          "output_type": "execute_result"
        }
      ],
      "source": [
        "from sklearn.neighbors  import KNeighborsClassifier\n",
        "knn=KNeighborsClassifier(n_neighbors=2)\n",
        "knn.fit(X_train_,y_train)"
      ]
    },
    {
      "cell_type": "markdown",
      "metadata": {
        "id": "lcfhJwlOYmrB"
      },
      "source": [
        "**2.6. Traitement des données de test d'entrée**"
      ]
    },
    {
      "cell_type": "markdown",
      "metadata": {
        "id": "OmysBjWj-EJ_"
      },
      "source": [
        "Appliquer le même traitement (fait sur X_train) sur X_test\n",
        "\n",
        "Normalement, le traitement donne lieu au matrice X_test_"
      ]
    },
    {
      "cell_type": "code",
      "execution_count": 53,
      "metadata": {
        "id": "MKGpwXb5YxwR"
      },
      "outputs": [],
      "source": [
        "from skimage.io import imread\n",
        "import numpy as np\n",
        "X_test_=[]\n",
        "for image_path in X_test:\n",
        "  I=imread(image_path)\n",
        "  x=I.flatten()\n",
        "  X_test_.append(x)\n",
        "X_test_=np.array(X_test_)"
      ]
    },
    {
      "cell_type": "markdown",
      "metadata": {
        "id": "0S4HyK2uY6ak"
      },
      "source": [
        "**2.7. Evaluation du classifieur**"
      ]
    },
    {
      "cell_type": "markdown",
      "metadata": {
        "id": "-TslCpFJ-KTO"
      },
      "source": [
        "Prédire les labels y_test_predicted à partir des données de test X_test_"
      ]
    },
    {
      "cell_type": "code",
      "execution_count": 54,
      "metadata": {
        "colab": {
          "base_uri": "https://localhost:8080/"
        },
        "id": "APOZ7i5AY-56",
        "outputId": "7cd56a27-bd94-48b6-f910-ff3655f25468"
      },
      "outputs": [
        {
          "data": {
            "text/plain": [
              "array(['0', '1', '0', '1', '2', '0', '1', '1', '1', '0', '1', '2', '2',\n",
              "       '2', '2', '0', '2', '0', '2', '2', '2', '1', '0', '2', '1', '1',\n",
              "       '0', '0', '2', '2', '1', '1', '1', '2', '1', '1', '1', '0', '1',\n",
              "       '0', '2', '1', '0', '1', '1', '0', '1', '1', '2', '2', '1', '2',\n",
              "       '1', '1', '1', '2', '1', '0', '0', '0', '1', '1', '0', '2', '0',\n",
              "       '1', '2', '2', '0', '1', '2', '1', '1', '0', '1', '0', '0', '2',\n",
              "       '0', '0', '1', '1', '1', '0', '0', '1', '0', '0', '2', '0', '1',\n",
              "       '1', '0', '1', '2', '1', '2', '0', '2', '0', '1', '0', '0', '0',\n",
              "       '1', '0', '2', '0', '2', '2', '0', '2', '2', '0', '0', '0', '1',\n",
              "       '2', '2', '2'], dtype='<U1')"
            ]
          },
          "execution_count": 54,
          "metadata": {},
          "output_type": "execute_result"
        }
      ],
      "source": [
        "y_test_predicted=knn.predict(X_test_)\n",
        "y_test_predicted"
      ]
    },
    {
      "cell_type": "markdown",
      "metadata": {
        "id": "xaPN_3Tl-bpb"
      },
      "source": [
        "Afficher les mesures de performance"
      ]
    },
    {
      "cell_type": "markdown",
      "metadata": {
        "id": "iOdZTaYo-hD1"
      },
      "source": [
        "Score accurracy"
      ]
    },
    {
      "cell_type": "code",
      "execution_count": 55,
      "metadata": {
        "colab": {
          "base_uri": "https://localhost:8080/"
        },
        "id": "_BGv4SSVUds7",
        "outputId": "378a27f0-66db-4e24-babb-6c2073be9368"
      },
      "outputs": [
        {
          "name": "stdout",
          "output_type": "stream",
          "text": [
            "accuracy=95.83\n"
          ]
        }
      ],
      "source": [
        "from sklearn.metrics import accuracy_score, confusion_matrix\n",
        "\n",
        "print(\"accuracy=%.2f\" % (accuracy_score(y_test, y_test_predicted)*100))"
      ]
    },
    {
      "cell_type": "markdown",
      "metadata": {
        "id": "tS2G9GCr-jeX"
      },
      "source": [
        "Matrice de confusion"
      ]
    },
    {
      "cell_type": "code",
      "execution_count": 56,
      "metadata": {
        "colab": {
          "base_uri": "https://localhost:8080/"
        },
        "id": "08imlwwDUexM",
        "outputId": "ae185a51-1204-4674-c5b2-8eae39d86507"
      },
      "outputs": [
        {
          "data": {
            "text/plain": [
              "array([[40,  0,  0],\n",
              "       [ 0, 40,  0],\n",
              "       [ 1,  4, 35]], dtype=int64)"
            ]
          },
          "execution_count": 56,
          "metadata": {},
          "output_type": "execute_result"
        }
      ],
      "source": [
        "M=confusion_matrix(y_test, y_test_predicted)\n",
        "M"
      ]
    },
    {
      "cell_type": "code",
      "execution_count": 57,
      "metadata": {
        "colab": {
          "base_uri": "https://localhost:8080/"
        },
        "id": "7gT0iGlBUmZd",
        "outputId": "c966f577-644c-43f8-ba0b-702563312aa7"
      },
      "outputs": [
        {
          "data": {
            "text/plain": [
              "array(['0', '1', '2'], dtype='<U1')"
            ]
          },
          "execution_count": 57,
          "metadata": {},
          "output_type": "execute_result"
        }
      ],
      "source": [
        "knn.classes_"
      ]
    },
    {
      "cell_type": "code",
      "execution_count": 58,
      "metadata": {
        "colab": {
          "base_uri": "https://localhost:8080/",
          "height": 143
        },
        "id": "LHW5fl1EUhbb",
        "outputId": "65c6e5d4-3a9b-4eb9-8735-e90225cac279"
      },
      "outputs": [
        {
          "data": {
            "text/html": [
              "<div>\n",
              "<style scoped>\n",
              "    .dataframe tbody tr th:only-of-type {\n",
              "        vertical-align: middle;\n",
              "    }\n",
              "\n",
              "    .dataframe tbody tr th {\n",
              "        vertical-align: top;\n",
              "    }\n",
              "\n",
              "    .dataframe thead th {\n",
              "        text-align: right;\n",
              "    }\n",
              "</style>\n",
              "<table border=\"1\" class=\"dataframe\">\n",
              "  <thead>\n",
              "    <tr style=\"text-align: right;\">\n",
              "      <th></th>\n",
              "      <th>0</th>\n",
              "      <th>1</th>\n",
              "      <th>2</th>\n",
              "    </tr>\n",
              "  </thead>\n",
              "  <tbody>\n",
              "    <tr>\n",
              "      <th>0</th>\n",
              "      <td>40</td>\n",
              "      <td>0</td>\n",
              "      <td>0</td>\n",
              "    </tr>\n",
              "    <tr>\n",
              "      <th>1</th>\n",
              "      <td>0</td>\n",
              "      <td>40</td>\n",
              "      <td>0</td>\n",
              "    </tr>\n",
              "    <tr>\n",
              "      <th>2</th>\n",
              "      <td>1</td>\n",
              "      <td>4</td>\n",
              "      <td>35</td>\n",
              "    </tr>\n",
              "  </tbody>\n",
              "</table>\n",
              "</div>"
            ],
            "text/plain": [
              "    0   1   2\n",
              "0  40   0   0\n",
              "1   0  40   0\n",
              "2   1   4  35"
            ]
          },
          "execution_count": 58,
          "metadata": {},
          "output_type": "execute_result"
        }
      ],
      "source": [
        "import pandas as pd\n",
        "\n",
        "pd.DataFrame(M,\n",
        "             index=knn.classes_,\n",
        "             columns=knn.classes_)"
      ]
    },
    {
      "cell_type": "markdown",
      "metadata": {
        "id": "fgfHf32W-m0R"
      },
      "source": [
        "Rappel (recall) et précision apr classe"
      ]
    },
    {
      "cell_type": "code",
      "execution_count": 59,
      "metadata": {
        "colab": {
          "base_uri": "https://localhost:8080/"
        },
        "id": "U3GwAq5iUx0T",
        "outputId": "392297e9-75be-49fb-8bcb-343959be989d"
      },
      "outputs": [
        {
          "name": "stdout",
          "output_type": "stream",
          "text": [
            "              precision    recall  f1-score   support\n",
            "\n",
            "           0       0.98      1.00      0.99        40\n",
            "           1       0.91      1.00      0.95        40\n",
            "           2       1.00      0.88      0.93        40\n",
            "\n",
            "    accuracy                           0.96       120\n",
            "   macro avg       0.96      0.96      0.96       120\n",
            "weighted avg       0.96      0.96      0.96       120\n",
            "\n"
          ]
        }
      ],
      "source": [
        "from sklearn.metrics import classification_report\n",
        "\n",
        "print(classification_report(y_test, y_test_predicted))"
      ]
    },
    {
      "cell_type": "markdown",
      "metadata": {
        "id": "p4cmpfMoAOyc"
      },
      "source": [
        "**3. Déploiement du modèle**"
      ]
    },
    {
      "cell_type": "markdown",
      "metadata": {
        "id": "ZYzHJ14v-txv"
      },
      "source": [
        "**3.1. Enregistrer le modèle sur le drive**\n",
        "\n",
        "Note : \n",
        "\n",
        "Utiliser les fonctions: \n",
        "- la fonction open() pour ouvrir un fichier en mode binaire+écriture. \n",
        "\n",
        "  Dans ce fichier, on va enregistrer notre modèle\n",
        "- la fonction dump() du module pickle qui va écrire le modèle dans le fichier"
      ]
    },
    {
      "cell_type": "code",
      "execution_count": 60,
      "metadata": {
        "id": "kR-4Ja76VWPu"
      },
      "outputs": [],
      "source": [
        "#dump function to save the model \n",
        "from pickle import dump\n",
        "dump(knn, open('knn_model.pkl', 'wb'))"
      ]
    },
    {
      "cell_type": "markdown",
      "metadata": {
        "id": "FW3ztLr_-yRD"
      },
      "source": [
        "**3.2. Charger le modèle à partir du Drive**\n",
        "\n",
        "Charger le modèle à partir du Google Drive et l'utiliser pour prédire la classe d'une image quelconque ?\n",
        "\n",
        "Note : \n",
        "\n",
        "Utiliser les fonctions: \n",
        "- la fonction open() pour ouvrir le fichier (en mode binaire+lecture) qui contient le modèle\n",
        "- la fonction load() du module pickle pour charger le contenu du fichier ouvert et récuprérer le modèle de drive"
      ]
    },
    {
      "cell_type": "code",
      "execution_count": 61,
      "metadata": {
        "id": "I3awpefH-4cU"
      },
      "outputs": [],
      "source": [
        "# load the model from disk \n",
        "from pickle import load\n",
        "knn = load(open('knn_model.pkl', 'rb'))"
      ]
    },
    {
      "cell_type": "markdown",
      "metadata": {
        "id": "8vfNFr1__zpD"
      },
      "source": [
        "**3.3. Prédiction de la classe d'une nouvelle image**"
      ]
    },
    {
      "cell_type": "markdown",
      "metadata": {
        "id": "1Eg0KoLf__Y_"
      },
      "source": [
        "Dans un script Python (.py), vous allez utiliser le modèle obtenu dans ce notebook pour décider pour une image si elle correpond au chiffre 0 , 1 ou 2"
      ]
    },
    {
      "cell_type": "code",
      "execution_count": 62,
      "metadata": {
        "id": "IvYem9je_6yr"
      },
      "outputs": [
        {
          "data": {
            "text/plain": [
              "array(['0', '1', '0', '1', '2', '0', '1', '1', '1', '0', '1', '2', '2',\n",
              "       '2', '2', '0', '2', '0', '2', '2', '2', '1', '0', '2', '1', '1',\n",
              "       '0', '0', '2', '2', '1', '1', '1', '2', '1', '1', '1', '0', '1',\n",
              "       '0', '2', '1', '0', '1', '1', '0', '1', '1', '2', '2', '1', '2',\n",
              "       '1', '1', '1', '2', '1', '0', '0', '0', '1', '1', '0', '2', '0',\n",
              "       '1', '2', '2', '0', '1', '2', '1', '1', '0', '1', '0', '0', '2',\n",
              "       '0', '0', '1', '1', '1', '0', '0', '1', '0', '0', '2', '0', '1',\n",
              "       '1', '0', '1', '2', '1', '2', '0', '2', '0', '1', '0', '0', '0',\n",
              "       '1', '0', '2', '0', '2', '2', '0', '2', '2', '0', '0', '0', '1',\n",
              "       '2', '2', '2'], dtype='<U1')"
            ]
          },
          "execution_count": 62,
          "metadata": {},
          "output_type": "execute_result"
        }
      ],
      "source": [
        "# test the model \n",
        "y_test_predicted=knn.predict(X_test_)\n",
        "y_test_predicted"
      ]
    }
  ],
  "metadata": {
    "colab": {
      "collapsed_sections": [],
      "provenance": []
    },
    "kernelspec": {
      "display_name": "Python 3.10.8 64-bit (microsoft store)",
      "language": "python",
      "name": "python3"
    },
    "language_info": {
      "codemirror_mode": {
        "name": "ipython",
        "version": 3
      },
      "file_extension": ".py",
      "mimetype": "text/x-python",
      "name": "python",
      "nbconvert_exporter": "python",
      "pygments_lexer": "ipython3",
      "version": "3.10.8"
    },
    "vscode": {
      "interpreter": {
        "hash": "171002ca0d6c473a5ff791bbb5aa7a877aeef24b277cda4853af5f38e9943e22"
      }
    }
  },
  "nbformat": 4,
  "nbformat_minor": 0
}
