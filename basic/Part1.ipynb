{
  "cells": [
    {
      "cell_type": "markdown",
      "metadata": {
        "id": "ANGsAr-fBzz1"
      },
      "source": [
        "**Les variables**"
      ]
    },
    {
      "cell_type": "code",
      "execution_count": null,
      "metadata": {
        "id": "UlLeUn4P_LDB"
      },
      "outputs": [],
      "source": [
        "x=10\n"
      ]
    },
    {
      "cell_type": "code",
      "execution_count": null,
      "metadata": {
        "colab": {
          "base_uri": "https://localhost:8080/"
        },
        "id": "5CvMWh7bCQxz",
        "outputId": "2e8f95d0-d0ce-45d9-925d-fa53a818687f"
      },
      "outputs": [
        {
          "data": {
            "text/plain": [
              "int"
            ]
          },
          "execution_count": 2,
          "metadata": {},
          "output_type": "execute_result"
        }
      ],
      "source": [
        "type(x)"
      ]
    },
    {
      "cell_type": "code",
      "execution_count": null,
      "metadata": {
        "id": "Rg65wFnDDH0r"
      },
      "outputs": [],
      "source": [
        "x=10."
      ]
    },
    {
      "cell_type": "code",
      "execution_count": null,
      "metadata": {
        "colab": {
          "base_uri": "https://localhost:8080/"
        },
        "id": "xlEMjvU4DJz7",
        "outputId": "130da9a2-fd8d-4f1e-ccc4-bfbecf46be50"
      },
      "outputs": [
        {
          "data": {
            "text/plain": [
              "float"
            ]
          },
          "execution_count": 4,
          "metadata": {},
          "output_type": "execute_result"
        }
      ],
      "source": [
        "type(x)"
      ]
    },
    {
      "cell_type": "code",
      "execution_count": null,
      "metadata": {
        "id": "rJlww5ByDUGj"
      },
      "outputs": [],
      "source": [
        "x='hello \"Ali\"'"
      ]
    },
    {
      "cell_type": "code",
      "execution_count": null,
      "metadata": {
        "id": "MgZokyBjDfiq"
      },
      "outputs": [],
      "source": [
        "x=\"hello l'école\""
      ]
    },
    {
      "cell_type": "code",
      "execution_count": null,
      "metadata": {
        "id": "de9K0Ye_DisL"
      },
      "outputs": [],
      "source": [
        "x='''hello \"Ali\" et l'ecole'''"
      ]
    },
    {
      "cell_type": "code",
      "execution_count": null,
      "metadata": {
        "id": "iNJWlJQFDx0i"
      },
      "outputs": [],
      "source": [
        "x='hello \\\"Ali\\''"
      ]
    },
    {
      "cell_type": "code",
      "execution_count": null,
      "metadata": {
        "colab": {
          "base_uri": "https://localhost:8080/",
          "height": 36
        },
        "id": "La4AtKOVD2ij",
        "outputId": "2c5aef68-cf85-4e79-c19b-8d8dc0e15907"
      },
      "outputs": [
        {
          "data": {
            "application/vnd.google.colaboratory.intrinsic+json": {
              "type": "string"
            },
            "text/plain": [
              "'hello \"Ali\\''"
            ]
          },
          "execution_count": 11,
          "metadata": {},
          "output_type": "execute_result"
        }
      ],
      "source": [
        "x"
      ]
    },
    {
      "cell_type": "code",
      "execution_count": null,
      "metadata": {
        "colab": {
          "base_uri": "https://localhost:8080/"
        },
        "id": "70hPSLJGEAKj",
        "outputId": "41595834-9b46-4e50-8e9e-f1ef180c81bd"
      },
      "outputs": [
        {
          "data": {
            "text/plain": [
              "str"
            ]
          },
          "execution_count": 12,
          "metadata": {},
          "output_type": "execute_result"
        }
      ],
      "source": [
        "type(x)"
      ]
    },
    {
      "cell_type": "code",
      "execution_count": null,
      "metadata": {
        "id": "refwAZc7ECX6"
      },
      "outputs": [],
      "source": [
        "climat_humide=True"
      ]
    },
    {
      "cell_type": "code",
      "execution_count": null,
      "metadata": {
        "colab": {
          "base_uri": "https://localhost:8080/"
        },
        "id": "HA8xh7BsAGGy",
        "outputId": "b7eea12e-1a09-4725-9712-9028fb8d2681"
      },
      "outputs": [
        {
          "data": {
            "text/plain": [
              "bool"
            ]
          },
          "execution_count": 14,
          "metadata": {},
          "output_type": "execute_result"
        }
      ],
      "source": [
        "type(climat_humide)"
      ]
    },
    {
      "cell_type": "markdown",
      "metadata": {
        "id": "3t1jPjpVEKir"
      },
      "source": [
        "**Opérateurs**"
      ]
    },
    {
      "cell_type": "code",
      "execution_count": null,
      "metadata": {
        "id": "3qH9fJjsEJiU"
      },
      "outputs": [],
      "source": [
        "x=10\n",
        "y=20\n",
        "z=x+y"
      ]
    },
    {
      "cell_type": "code",
      "execution_count": null,
      "metadata": {
        "colab": {
          "base_uri": "https://localhost:8080/"
        },
        "id": "8INEylvpEPps",
        "outputId": "2a53cd59-3869-4455-d858-2842581d958a"
      },
      "outputs": [
        {
          "data": {
            "text/plain": [
              "int"
            ]
          },
          "execution_count": 16,
          "metadata": {},
          "output_type": "execute_result"
        }
      ],
      "source": [
        "type(z)"
      ]
    },
    {
      "cell_type": "code",
      "execution_count": null,
      "metadata": {
        "colab": {
          "base_uri": "https://localhost:8080/"
        },
        "id": "jYmhrgI2ERKL",
        "outputId": "69f32f24-b54b-41ef-8c1d-857b2210f52c"
      },
      "outputs": [
        {
          "data": {
            "text/plain": [
              "0.5"
            ]
          },
          "execution_count": 17,
          "metadata": {},
          "output_type": "execute_result"
        }
      ],
      "source": [
        "x/y # division réelle"
      ]
    },
    {
      "cell_type": "code",
      "execution_count": null,
      "metadata": {
        "colab": {
          "base_uri": "https://localhost:8080/"
        },
        "id": "MXgbzhhMEVWl",
        "outputId": "f0bfd96a-e587-42a7-e610-be5bdb5a9787"
      },
      "outputs": [
        {
          "data": {
            "text/plain": [
              "0"
            ]
          },
          "execution_count": 18,
          "metadata": {},
          "output_type": "execute_result"
        }
      ],
      "source": [
        "x//y # quotient de div. euclidienne"
      ]
    },
    {
      "cell_type": "code",
      "execution_count": null,
      "metadata": {
        "colab": {
          "base_uri": "https://localhost:8080/"
        },
        "id": "L97_X0LMEcW9",
        "outputId": "9b2ed54a-358b-431e-d395-36072c847f97"
      },
      "outputs": [
        {
          "data": {
            "text/plain": [
              "10"
            ]
          },
          "execution_count": 19,
          "metadata": {},
          "output_type": "execute_result"
        }
      ],
      "source": [
        "x%y # reste de div. euclidienne"
      ]
    },
    {
      "cell_type": "code",
      "execution_count": null,
      "metadata": {
        "colab": {
          "base_uri": "https://localhost:8080/"
        },
        "id": "HmekIpUAEhjK",
        "outputId": "c9a0858d-02da-44c5-f07c-4b21db04dcc6"
      },
      "outputs": [
        {
          "data": {
            "text/plain": [
              "100"
            ]
          },
          "execution_count": 20,
          "metadata": {},
          "output_type": "execute_result"
        }
      ],
      "source": [
        "x**2 # puissance"
      ]
    },
    {
      "cell_type": "code",
      "execution_count": null,
      "metadata": {
        "id": "GCUvVcHTEngr"
      },
      "outputs": [],
      "source": [
        "x= 10<3 and 3>4 # Python vérifie la priorité des opérateurs (LALR)"
      ]
    },
    {
      "cell_type": "code",
      "execution_count": null,
      "metadata": {
        "colab": {
          "base_uri": "https://localhost:8080/"
        },
        "id": "ay4AHmwzGM4I",
        "outputId": "7403a636-4112-4dc7-f7a4-334020827b29"
      },
      "outputs": [
        {
          "data": {
            "text/plain": [
              "False"
            ]
          },
          "execution_count": 22,
          "metadata": {},
          "output_type": "execute_result"
        }
      ],
      "source": [
        "x"
      ]
    },
    {
      "cell_type": "code",
      "execution_count": null,
      "metadata": {
        "id": "7OtidrL_GPnk"
      },
      "outputs": [],
      "source": [
        "climat_humide=True"
      ]
    },
    {
      "cell_type": "code",
      "execution_count": null,
      "metadata": {
        "colab": {
          "base_uri": "https://localhost:8080/"
        },
        "id": "Icb84-4JGacQ",
        "outputId": "4cab7bec-05ce-4258-8e0e-d19b1f6f6100"
      },
      "outputs": [
        {
          "data": {
            "text/plain": [
              "False"
            ]
          },
          "execution_count": 24,
          "metadata": {},
          "output_type": "execute_result"
        }
      ],
      "source": [
        "not climat_humide"
      ]
    },
    {
      "cell_type": "code",
      "execution_count": null,
      "metadata": {
        "id": "EgArzTu7Gbn5"
      },
      "outputs": [],
      "source": [
        "s='hello'"
      ]
    },
    {
      "cell_type": "code",
      "execution_count": null,
      "metadata": {
        "colab": {
          "base_uri": "https://localhost:8080/"
        },
        "id": "EL2nERqTHCIO",
        "outputId": "535582eb-745a-4e7b-d94e-befade92d0e6"
      },
      "outputs": [
        {
          "data": {
            "text/plain": [
              "5"
            ]
          },
          "execution_count": 26,
          "metadata": {},
          "output_type": "execute_result"
        }
      ],
      "source": [
        "len(s) # longueur de la chaine de caracteres"
      ]
    },
    {
      "cell_type": "code",
      "execution_count": null,
      "metadata": {
        "colab": {
          "base_uri": "https://localhost:8080/",
          "height": 36
        },
        "id": "-3imYC_LHFLW",
        "outputId": "8112767d-8478-4a68-a8d2-02a383577803"
      },
      "outputs": [
        {
          "data": {
            "application/vnd.google.colaboratory.intrinsic+json": {
              "type": "string"
            },
            "text/plain": [
              "'h'"
            ]
          },
          "execution_count": 27,
          "metadata": {},
          "output_type": "execute_result"
        }
      ],
      "source": [
        "s[0] # premier caractere"
      ]
    },
    {
      "cell_type": "code",
      "execution_count": null,
      "metadata": {
        "colab": {
          "base_uri": "https://localhost:8080/",
          "height": 36
        },
        "id": "c-kVlE1AHLHL",
        "outputId": "c06a1aae-4870-4dd0-d231-2589797baa7a"
      },
      "outputs": [
        {
          "data": {
            "application/vnd.google.colaboratory.intrinsic+json": {
              "type": "string"
            },
            "text/plain": [
              "'o'"
            ]
          },
          "execution_count": 28,
          "metadata": {},
          "output_type": "execute_result"
        }
      ],
      "source": [
        "s[4] # dernier indice de la chaine = len -1"
      ]
    },
    {
      "cell_type": "code",
      "execution_count": null,
      "metadata": {
        "colab": {
          "base_uri": "https://localhost:8080/",
          "height": 36
        },
        "id": "7SJxl72QHOWs",
        "outputId": "b48d9cbb-006d-483b-dcb5-0bc84cb0d9a8"
      },
      "outputs": [
        {
          "data": {
            "application/vnd.google.colaboratory.intrinsic+json": {
              "type": "string"
            },
            "text/plain": [
              "'o'"
            ]
          },
          "execution_count": 29,
          "metadata": {},
          "output_type": "execute_result"
        }
      ],
      "source": [
        "s[-1] # -1 est l'indice de dernier caractere"
      ]
    },
    {
      "cell_type": "code",
      "execution_count": null,
      "metadata": {
        "colab": {
          "base_uri": "https://localhost:8080/",
          "height": 36
        },
        "id": "FDXwuuZ8HXRi",
        "outputId": "36c7a180-b2c2-4da0-d120-ef0adafbb1db"
      },
      "outputs": [
        {
          "data": {
            "application/vnd.google.colaboratory.intrinsic+json": {
              "type": "string"
            },
            "text/plain": [
              "'l'"
            ]
          },
          "execution_count": 30,
          "metadata": {},
          "output_type": "execute_result"
        }
      ],
      "source": [
        "s[-2] # -2 est l'indice de l'avant dernier caractere"
      ]
    },
    {
      "cell_type": "code",
      "execution_count": null,
      "metadata": {
        "colab": {
          "base_uri": "https://localhost:8080/",
          "height": 36
        },
        "id": "w1tOGisqHdQz",
        "outputId": "8d172bfe-5c92-42ef-a1c0-fa93d6cf06bf"
      },
      "outputs": [
        {
          "data": {
            "application/vnd.google.colaboratory.intrinsic+json": {
              "type": "string"
            },
            "text/plain": [
              "'el'"
            ]
          },
          "execution_count": 33,
          "metadata": {},
          "output_type": "execute_result"
        }
      ],
      "source": [
        "s[1:3] # Python effectue 'slicing' de s et retourne une sous-chaine de indice 1 jusqu'à 3-1"
      ]
    },
    {
      "cell_type": "code",
      "execution_count": null,
      "metadata": {
        "colab": {
          "base_uri": "https://localhost:8080/",
          "height": 36
        },
        "id": "VhpRKVSxHqEL",
        "outputId": "59ed6685-2510-4568-e1ef-16d555aef047"
      },
      "outputs": [
        {
          "data": {
            "application/vnd.google.colaboratory.intrinsic+json": {
              "type": "string"
            },
            "text/plain": [
              "''"
            ]
          },
          "execution_count": 34,
          "metadata": {},
          "output_type": "execute_result"
        }
      ],
      "source": [
        "s[3:1] # si l'indice 1 est sup à indice 2 Python retourne chaine vide"
      ]
    },
    {
      "cell_type": "code",
      "execution_count": null,
      "metadata": {
        "colab": {
          "base_uri": "https://localhost:8080/",
          "height": 36
        },
        "id": "PJv1f9c5H6or",
        "outputId": "9e0377ef-8ff6-4f49-fd3c-212c59316d69"
      },
      "outputs": [
        {
          "data": {
            "application/vnd.google.colaboratory.intrinsic+json": {
              "type": "string"
            },
            "text/plain": [
              "'ll'"
            ]
          },
          "execution_count": 36,
          "metadata": {},
          "output_type": "execute_result"
        }
      ],
      "source": [
        "s[3:1:-1] # Python retourne une sous-chaine de indice 3 jusqu'à 2"
      ]
    },
    {
      "cell_type": "code",
      "execution_count": null,
      "metadata": {
        "colab": {
          "base_uri": "https://localhost:8080/",
          "height": 36
        },
        "id": "dVj1mnzLINlK",
        "outputId": "99b7517e-0fb3-4180-e8d4-48329fea4e94"
      },
      "outputs": [
        {
          "data": {
            "application/vnd.google.colaboratory.intrinsic+json": {
              "type": "string"
            },
            "text/plain": [
              "'hel'"
            ]
          },
          "execution_count": 37,
          "metadata": {},
          "output_type": "execute_result"
        }
      ],
      "source": [
        "s[:3] # Python retourne une sous-chaine de indice 0 jusqu'à 3-1"
      ]
    },
    {
      "cell_type": "code",
      "execution_count": null,
      "metadata": {
        "colab": {
          "base_uri": "https://localhost:8080/",
          "height": 36
        },
        "id": "Cy-oGcbPIV80",
        "outputId": "1677af79-acef-4653-b179-e3b32b1af520"
      },
      "outputs": [
        {
          "data": {
            "application/vnd.google.colaboratory.intrinsic+json": {
              "type": "string"
            },
            "text/plain": [
              "'ello'"
            ]
          },
          "execution_count": 38,
          "metadata": {},
          "output_type": "execute_result"
        }
      ],
      "source": [
        "s[1:] # Python retourne une sous-chaine de indice 1 jusqu'à len(s)-1"
      ]
    },
    {
      "cell_type": "code",
      "execution_count": null,
      "metadata": {
        "colab": {
          "base_uri": "https://localhost:8080/",
          "height": 36
        },
        "id": "kNvebaJvIaEF",
        "outputId": "5483c7ed-70e3-45b9-87aa-5ee048e1cbe2"
      },
      "outputs": [
        {
          "data": {
            "application/vnd.google.colaboratory.intrinsic+json": {
              "type": "string"
            },
            "text/plain": [
              "'hello'"
            ]
          },
          "execution_count": 39,
          "metadata": {},
          "output_type": "execute_result"
        }
      ],
      "source": [
        "s[:] # Python retourne une copie de la chaine s"
      ]
    },
    {
      "cell_type": "code",
      "execution_count": null,
      "metadata": {
        "colab": {
          "base_uri": "https://localhost:8080/",
          "height": 36
        },
        "id": "LU4gtUbxIbJn",
        "outputId": "0484eb8c-4f84-47d3-a479-81b643bd08d3"
      },
      "outputs": [
        {
          "data": {
            "application/vnd.google.colaboratory.intrinsic+json": {
              "type": "string"
            },
            "text/plain": [
              "'olleh'"
            ]
          },
          "execution_count": 40,
          "metadata": {},
          "output_type": "execute_result"
        }
      ],
      "source": [
        "s[::-1] # Python retourne une copie de la chaine s inversée"
      ]
    },
    {
      "cell_type": "markdown",
      "metadata": {
        "id": "n0P1hxaAPYj5"
      },
      "source": [
        "**Entrée/Sortie standards**"
      ]
    },
    {
      "cell_type": "code",
      "execution_count": null,
      "metadata": {
        "colab": {
          "base_uri": "https://localhost:8080/",
          "height": 53
        },
        "id": "PfEhRz75IfZA",
        "outputId": "321d09eb-63c9-4ff4-ba9a-0402aa2002da"
      },
      "outputs": [
        {
          "name": "stdout",
          "output_type": "stream",
          "text": [
            "hello\n"
          ]
        },
        {
          "data": {
            "application/vnd.google.colaboratory.intrinsic+json": {
              "type": "string"
            },
            "text/plain": [
              "'hello'"
            ]
          },
          "execution_count": 42,
          "metadata": {},
          "output_type": "execute_result"
        }
      ],
      "source": [
        "# entrée standard\n",
        "# La fonction input toujours retourne une chaine de caracteres\n",
        "input()"
      ]
    },
    {
      "cell_type": "code",
      "execution_count": null,
      "metadata": {
        "colab": {
          "base_uri": "https://localhost:8080/"
        },
        "id": "nCGZ0MOPPm3E",
        "outputId": "7aa2df62-39cb-4bd1-c0bc-1a145e3624f1"
      },
      "outputs": [
        {
          "name": "stdout",
          "output_type": "stream",
          "text": [
            "Entrer un entier:10\n"
          ]
        }
      ],
      "source": [
        "x=input(\"Entrer un entier:\")"
      ]
    },
    {
      "cell_type": "code",
      "execution_count": null,
      "metadata": {
        "colab": {
          "base_uri": "https://localhost:8080/",
          "height": 36
        },
        "id": "KlEpYADuQYit",
        "outputId": "b3196d96-c238-45d6-e759-e739069723dd"
      },
      "outputs": [
        {
          "data": {
            "application/vnd.google.colaboratory.intrinsic+json": {
              "type": "string"
            },
            "text/plain": [
              "'10'"
            ]
          },
          "execution_count": 44,
          "metadata": {},
          "output_type": "execute_result"
        }
      ],
      "source": [
        "x "
      ]
    },
    {
      "cell_type": "code",
      "execution_count": null,
      "metadata": {
        "id": "lqUqS7nlQauG"
      },
      "outputs": [],
      "source": [
        "# La convertion de str -> type de base (nt, float, bool) s'effectue\n",
        "# avec des fonctions prédéfinies qui portent le nom de ces types\n",
        "# str -> int\n",
        "x=int(x)"
      ]
    },
    {
      "cell_type": "code",
      "execution_count": null,
      "metadata": {
        "colab": {
          "base_uri": "https://localhost:8080/"
        },
        "id": "5JHcky64Q4gd",
        "outputId": "303f78a5-6cd3-4a4d-d743-df7711aa98e7"
      },
      "outputs": [
        {
          "data": {
            "text/plain": [
              "int"
            ]
          },
          "execution_count": 46,
          "metadata": {},
          "output_type": "execute_result"
        }
      ],
      "source": [
        "type(x)"
      ]
    },
    {
      "cell_type": "code",
      "execution_count": null,
      "metadata": {
        "colab": {
          "base_uri": "https://localhost:8080/"
        },
        "id": "oisbKIfpQ5_2",
        "outputId": "c75d1f1e-cebe-4d36-a888-4cc162da9668"
      },
      "outputs": [
        {
          "name": "stdout",
          "output_type": "stream",
          "text": [
            "Entrer un entier:10\n"
          ]
        }
      ],
      "source": [
        "x=int(input(\"Entrer un entier:\"))"
      ]
    },
    {
      "cell_type": "code",
      "execution_count": null,
      "metadata": {
        "colab": {
          "base_uri": "https://localhost:8080/"
        },
        "id": "02nfq-VsRBCr",
        "outputId": "d9129de2-a5d2-4ab8-e39d-9a412927a726"
      },
      "outputs": [
        {
          "data": {
            "text/plain": [
              "10"
            ]
          },
          "execution_count": 48,
          "metadata": {},
          "output_type": "execute_result"
        }
      ],
      "source": [
        "x"
      ]
    },
    {
      "cell_type": "code",
      "execution_count": null,
      "metadata": {
        "colab": {
          "base_uri": "https://localhost:8080/"
        },
        "id": "Bgd3YNELRCWo",
        "outputId": "269d0dcb-ac73-41f3-c596-0ef4c1e4344c"
      },
      "outputs": [
        {
          "name": "stdout",
          "output_type": "stream",
          "text": [
            "hello\n"
          ]
        }
      ],
      "source": [
        "# sortie standard\n",
        "print('hello')"
      ]
    },
    {
      "cell_type": "code",
      "execution_count": null,
      "metadata": {
        "colab": {
          "base_uri": "https://localhost:8080/"
        },
        "id": "Hf0fOK9cRYxI",
        "outputId": "6ade4258-6c29-49b4-d369-ad27c5caab2e"
      },
      "outputs": [
        {
          "name": "stdout",
          "output_type": "stream",
          "text": [
            "10\n"
          ]
        }
      ],
      "source": [
        "print(10)"
      ]
    },
    {
      "cell_type": "code",
      "execution_count": null,
      "metadata": {
        "colab": {
          "base_uri": "https://localhost:8080/"
        },
        "id": "oY-HphoyRZ9H",
        "outputId": "dbbd75ba-f781-4719-86d3-dbd5c5fbd86c"
      },
      "outputs": [
        {
          "name": "stdout",
          "output_type": "stream",
          "text": [
            "122\n"
          ]
        }
      ],
      "source": [
        "x=122\n",
        "print(x)"
      ]
    },
    {
      "cell_type": "code",
      "execution_count": null,
      "metadata": {
        "colab": {
          "base_uri": "https://localhost:8080/"
        },
        "id": "-m3UYUnmRcp5",
        "outputId": "0ffad257-4ea1-411d-ff55-559929a5fc65"
      },
      "outputs": [
        {
          "name": "stdout",
          "output_type": "stream",
          "text": [
            "hello 122 True bye\n"
          ]
        }
      ],
      "source": [
        "print('hello',122,True,'bye')"
      ]
    },
    {
      "cell_type": "code",
      "execution_count": null,
      "metadata": {
        "colab": {
          "base_uri": "https://localhost:8080/"
        },
        "id": "e3ZsAXqnRhnj",
        "outputId": "ba2079eb-c2a8-485b-c59d-248bda37a897"
      },
      "outputs": [
        {
          "name": "stdout",
          "output_type": "stream",
          "text": [
            "hello|122|True|bye***"
          ]
        }
      ],
      "source": [
        "print('hello',122,True,'bye',sep='|',end='***')"
      ]
    },
    {
      "cell_type": "code",
      "execution_count": null,
      "metadata": {
        "colab": {
          "base_uri": "https://localhost:8080/",
          "height": 36
        },
        "id": "n8OZilaZSKC5",
        "outputId": "accf99d3-0ef3-468f-fb67-3c46a440ff68"
      },
      "outputs": [
        {
          "data": {
            "application/vnd.google.colaboratory.intrinsic+json": {
              "type": "string"
            },
            "text/plain": [
              "'helloworld'"
            ]
          },
          "execution_count": 54,
          "metadata": {},
          "output_type": "execute_result"
        }
      ],
      "source": [
        "\"hello\"+\"world\""
      ]
    },
    {
      "cell_type": "code",
      "execution_count": null,
      "metadata": {
        "colab": {
          "base_uri": "https://localhost:8080/",
          "height": 169
        },
        "id": "j78tQTebSjeg",
        "outputId": "3d13485f-6107-440b-95b8-3ab902a5cf17"
      },
      "outputs": [
        {
          "ename": "TypeError",
          "evalue": "ignored",
          "output_type": "error",
          "traceback": [
            "\u001b[0;31m---------------------------------------------------------------------------\u001b[0m",
            "\u001b[0;31mTypeError\u001b[0m                                 Traceback (most recent call last)",
            "\u001b[0;32m<ipython-input-55-78d895ced238>\u001b[0m in \u001b[0;36m<module>\u001b[0;34m\u001b[0m\n\u001b[0;32m----> 1\u001b[0;31m \u001b[0;34m\"hello\"\u001b[0m\u001b[0;34m+\u001b[0m\u001b[0;36m10\u001b[0m\u001b[0;34m\u001b[0m\u001b[0;34m\u001b[0m\u001b[0m\n\u001b[0m",
            "\u001b[0;31mTypeError\u001b[0m: can only concatenate str (not \"int\") to str"
          ]
        }
      ],
      "source": [
        "\"hello\"+10"
      ]
    },
    {
      "cell_type": "code",
      "execution_count": null,
      "metadata": {
        "colab": {
          "base_uri": "https://localhost:8080/",
          "height": 36
        },
        "id": "b2hNaVjuSlHu",
        "outputId": "31484f73-975c-4fc0-a481-c3a16d986ebb"
      },
      "outputs": [
        {
          "data": {
            "application/vnd.google.colaboratory.intrinsic+json": {
              "type": "string"
            },
            "text/plain": [
              "'hello10'"
            ]
          },
          "execution_count": 56,
          "metadata": {},
          "output_type": "execute_result"
        }
      ],
      "source": [
        "\"hello\"+\"10\""
      ]
    },
    {
      "cell_type": "code",
      "execution_count": null,
      "metadata": {
        "colab": {
          "base_uri": "https://localhost:8080/",
          "height": 36
        },
        "id": "fdS9s2-5TMf0",
        "outputId": "f81e819a-adb2-41fc-fb54-206118245ab7"
      },
      "outputs": [
        {
          "data": {
            "application/vnd.google.colaboratory.intrinsic+json": {
              "type": "string"
            },
            "text/plain": [
              "'hello10'"
            ]
          },
          "execution_count": 57,
          "metadata": {},
          "output_type": "execute_result"
        }
      ],
      "source": [
        "\"hello\"+str(10)"
      ]
    },
    {
      "cell_type": "code",
      "execution_count": null,
      "metadata": {
        "colab": {
          "base_uri": "https://localhost:8080/"
        },
        "id": "KcuU4YfTTOT_",
        "outputId": "965e2803-66b8-4d59-d195-f975c975c288"
      },
      "outputs": [
        {
          "name": "stdout",
          "output_type": "stream",
          "text": [
            "Entrer un entier:10\n",
            "Entrer un entier:20\n",
            "10 + 20 = 30\n"
          ]
        }
      ],
      "source": [
        "nombre1=int(input('Entrer un entier:'))\n",
        "nombre2=int(input('Entrer un entier:'))\n",
        "resultat=nombre1+nombre2\n",
        "print(nombre1,\"+\",nombre2,\"=\",resultat)"
      ]
    },
    {
      "cell_type": "code",
      "execution_count": null,
      "metadata": {
        "colab": {
          "base_uri": "https://localhost:8080/"
        },
        "id": "WaJWQ7wcU9J0",
        "outputId": "3736c153-6dc8-4b7b-c7fc-aa516a5a814c"
      },
      "outputs": [
        {
          "name": "stdout",
          "output_type": "stream",
          "text": [
            "Entrer un entier:10\n",
            "Entrer un entier:20\n",
            "10+20=30\n"
          ]
        }
      ],
      "source": [
        "nombre1=int(input('Entrer un entier:'))\n",
        "nombre2=int(input('Entrer un entier:'))\n",
        "resultat=nombre1+nombre2\n",
        "message=str(nombre1)+\"+\"+str(nombre2)+\"=\"+str(resultat)\n",
        "print(message)"
      ]
    },
    {
      "cell_type": "markdown",
      "metadata": {
        "id": "tpn0uXtvVnM6"
      },
      "source": [
        "**Contrôle de flux avec if**"
      ]
    },
    {
      "cell_type": "code",
      "execution_count": null,
      "metadata": {
        "colab": {
          "base_uri": "https://localhost:8080/"
        },
        "id": "68TXvT0wVXeN",
        "outputId": "b5a084b5-0471-4e69-bd84-c1073c556d6b"
      },
      "outputs": [
        {
          "name": "stdout",
          "output_type": "stream",
          "text": [
            "Entrer un entier:-10\n"
          ]
        }
      ],
      "source": [
        "nombre=int(input('Entrer un entier:'))\n",
        "if nombre>=0:\n",
        "  print(nombre,'est positif !')"
      ]
    },
    {
      "cell_type": "code",
      "execution_count": null,
      "metadata": {
        "colab": {
          "base_uri": "https://localhost:8080/"
        },
        "id": "sWQBpRVrWg0-",
        "outputId": "73ca7a1b-00e5-4f98-a181-76ea99172e9f"
      },
      "outputs": [
        {
          "name": "stdout",
          "output_type": "stream",
          "text": [
            "Entrer un entier:-10\n",
            "-10 negatif !!\n"
          ]
        }
      ],
      "source": [
        "nombre=int(input('Entrer un entier:'))\n",
        "if nombre>=0:\n",
        "  print(nombre,'est positif !')\n",
        "else:\n",
        "  print(nombre,'negatif !!')"
      ]
    },
    {
      "cell_type": "code",
      "execution_count": null,
      "metadata": {
        "colab": {
          "base_uri": "https://localhost:8080/"
        },
        "id": "tgCUuPv5WsIi",
        "outputId": "72897c8f-2ce6-42c4-917b-5d3a7936501b"
      },
      "outputs": [
        {
          "name": "stdout",
          "output_type": "stream",
          "text": [
            "Entrer un entier:0\n",
            "0 est nul !!\n"
          ]
        }
      ],
      "source": [
        "nombre=int(input('Entrer un entier:'))\n",
        "if nombre>0:\n",
        "  print(nombre,'est positif !')\n",
        "elif nombre<0:\n",
        "  print(nombre,'est negatif !!')\n",
        "else:\n",
        "  print(nombre,'est nul !!')"
      ]
    },
    {
      "cell_type": "code",
      "execution_count": null,
      "metadata": {
        "colab": {
          "base_uri": "https://localhost:8080/"
        },
        "id": "UWMzy0saW855",
        "outputId": "585cf4c7-ad5f-45bc-c23d-08adaf91641d"
      },
      "outputs": [
        {
          "name": "stdout",
          "output_type": "stream",
          "text": [
            "Entrer une note:21\n",
            "Mention de 0  est inconnu !!\n"
          ]
        }
      ],
      "source": [
        "note=float(input('Entrer une note:'))\n",
        "if 0<=note<10: # 0<=note and note<10\n",
        "  print('Mention de',nombre,' est faible')\n",
        "elif 10<=note<12:\n",
        "  print('Mention de',nombre,' est moyen')\n",
        "elif 12<=note<14:\n",
        "  print('Mention de',nombre,' est assez bien')\n",
        "elif 14<=note<16:\n",
        "  print('Mention de',nombre,' est bien')\n",
        "elif 16<=note<=20:\n",
        "  print('Mention de',nombre,' est très bien')\n",
        "else:\n",
        "  print('Mention de',nombre,' est inconnu !!')"
      ]
    },
    {
      "cell_type": "markdown",
      "metadata": {
        "id": "3MxQVkFwZ4aB"
      },
      "source": [
        "**Formattage des chaînes de caracteres**"
      ]
    },
    {
      "cell_type": "code",
      "execution_count": null,
      "metadata": {
        "colab": {
          "base_uri": "https://localhost:8080/"
        },
        "id": "BvOl_sx4ajtp",
        "outputId": "1dc5d1fa-33ce-49d8-fea1-1b7c745f6b3d"
      },
      "outputs": [
        {
          "name": "stdout",
          "output_type": "stream",
          "text": [
            "nom=Saleh , salaire=1800.77 et age=35\n"
          ]
        }
      ],
      "source": [
        "nom=\"Saleh\" # type str\n",
        "salaire=1800.76756454 # type float\n",
        "age=35 # type int\n",
        "message='nom=Saleh , salaire=1800.77 et age=35'\n",
        "print(message)"
      ]
    },
    {
      "cell_type": "code",
      "execution_count": null,
      "metadata": {
        "colab": {
          "base_uri": "https://localhost:8080/"
        },
        "id": "IY35O9M7bLA5",
        "outputId": "e158006d-2491-46d7-cda6-786554dd0af8"
      },
      "outputs": [
        {
          "name": "stdout",
          "output_type": "stream",
          "text": [
            "nom=Saleh , salaire=1800.76756454 et age=35\n"
          ]
        }
      ],
      "source": [
        "nom=\"Saleh\" # type str\n",
        "salaire=1800.76756454 # type float\n",
        "age=35 # type int\n",
        "message='nom='+nom+' , salaire='+str(salaire)+' et age='+str(age)\n",
        "print(message)"
      ]
    },
    {
      "cell_type": "markdown",
      "metadata": {
        "id": "zVUdrq18Z8bJ"
      },
      "source": [
        "Formattage avec l'operateur %"
      ]
    },
    {
      "cell_type": "code",
      "execution_count": null,
      "metadata": {
        "colab": {
          "base_uri": "https://localhost:8080/"
        },
        "id": "5rqCsOJkZnwL",
        "outputId": "c648f9b3-bb55-471a-e41c-7eddf6333dfb"
      },
      "outputs": [
        {
          "name": "stdout",
          "output_type": "stream",
          "text": [
            "nom=Saleh                , salaire=1800.77    et age=35   \n"
          ]
        }
      ],
      "source": [
        "nom=\"Saleh\" # type str\n",
        "salaire=1800.76756454 # type float\n",
        "age=35 # type int\n",
        "message='nom=%-20s , salaire=%-10.2f et age=%-5d' % (nom,salaire,age)\n",
        "print(message)"
      ]
    },
    {
      "cell_type": "code",
      "execution_count": null,
      "metadata": {
        "colab": {
          "base_uri": "https://localhost:8080/"
        },
        "id": "OpwKfnr1wolp",
        "outputId": "d7b5c4fd-24b4-44c4-c68d-9379c4b09558"
      },
      "outputs": [
        {
          "name": "stdout",
          "output_type": "stream",
          "text": [
            "Entrer un entier:10\n",
            "Entrer un entier:0\n",
            "Entrer l'operateur:/\n",
            "Calcul est invalide !!\n"
          ]
        }
      ],
      "source": [
        "nombre1=int(input('Entrer un entier:'))\n",
        "nombre2=int(input('Entrer un entier:'))\n",
        "operateur=input('Entrer l\\'operateur:')\n",
        "if operateur in ['+','-','*','/']:\n",
        "  calcul_valide=True\n",
        "  if operateur=='+':\n",
        "    resultat=nombre1+nombre2\n",
        "  elif operateur=='-':\n",
        "    resultat=nombre1-nombre2\n",
        "  elif operateur=='*':\n",
        "    resultat=nombre1*nombre2\n",
        "  elif operateur=='/':\n",
        "    if nombre2==0:\n",
        "      calcul_valide=False\n",
        "    else:\n",
        "      resultat=nombre1/nombre2\n",
        "  if calcul_valide:\n",
        "    print('%.1f%s%.1f=%.1f' % (nombre1,operateur,nombre2,resultat))\n",
        "  else:\n",
        "    print('Calcul est invalide !!')\n",
        "else:\n",
        "  print(operateur,'est invalide !!')"
      ]
    },
    {
      "cell_type": "markdown",
      "metadata": {
        "id": "MPdgCfSb2Yu_"
      },
      "source": [
        "Operateur in"
      ]
    },
    {
      "cell_type": "code",
      "execution_count": null,
      "metadata": {
        "colab": {
          "base_uri": "https://localhost:8080/"
        },
        "id": "6W43-cXv2YIX",
        "outputId": "6a2b902b-7012-4236-ac0f-e1d5cd6dc818"
      },
      "outputs": [
        {
          "data": {
            "text/plain": [
              "False"
            ]
          },
          "execution_count": 86,
          "metadata": {},
          "output_type": "execute_result"
        }
      ],
      "source": [
        "1 in [2,3,4] # False"
      ]
    },
    {
      "cell_type": "code",
      "execution_count": null,
      "metadata": {
        "colab": {
          "base_uri": "https://localhost:8080/"
        },
        "id": "-bhM7aNF2ge_",
        "outputId": "9937c39f-6b35-457a-8346-a84a1db56565"
      },
      "outputs": [
        {
          "data": {
            "text/plain": [
              "True"
            ]
          },
          "execution_count": 87,
          "metadata": {},
          "output_type": "execute_result"
        }
      ],
      "source": [
        "1 in [2,1,3,4]"
      ]
    },
    {
      "cell_type": "markdown",
      "metadata": {
        "id": "5TwB375FZ_J5"
      },
      "source": [
        "Formattage avec l'operateur la fonction chaine.format()"
      ]
    },
    {
      "cell_type": "code",
      "execution_count": null,
      "metadata": {
        "colab": {
          "base_uri": "https://localhost:8080/"
        },
        "id": "hYbpJwitaBlZ",
        "outputId": "c436acea-4813-433a-8f22-3912d6dd74a6"
      },
      "outputs": [
        {
          "name": "stdout",
          "output_type": "stream",
          "text": [
            "nom=Saleh                , salaire=1800.77    et age=35   \n"
          ]
        }
      ],
      "source": [
        "nom=\"Saleh\" # type str\n",
        "salaire=1800.76756454 # type float\n",
        "age=35 # type int\n",
        "message='nom={0:<20s} , salaire={1:<10.2f} et age={2:<5d}'.format(nom,salaire,age)\n",
        "print(message)"
      ]
    },
    {
      "cell_type": "code",
      "execution_count": null,
      "metadata": {
        "colab": {
          "base_uri": "https://localhost:8080/"
        },
        "id": "-wKvGY8L3WoW",
        "outputId": "be5325a3-16c0-4b4c-ee7f-9f64b796d856"
      },
      "outputs": [
        {
          "name": "stdout",
          "output_type": "stream",
          "text": [
            "nom=               Saleh , salaire=   1800.77 et age=   35\n"
          ]
        }
      ],
      "source": [
        "nom=\"Saleh\" # type str\n",
        "salaire=1800.76756454 # type float\n",
        "age=35 # type int\n",
        "message='nom={0:>20s} , salaire={1:>10.2f} et age={2:>5d}'.format(nom,salaire,age)\n",
        "print(message)"
      ]
    },
    {
      "cell_type": "code",
      "execution_count": null,
      "metadata": {
        "colab": {
          "base_uri": "https://localhost:8080/"
        },
        "id": "Pg2rWqun3aGe",
        "outputId": "27f750bc-cbe8-4f61-d0d4-055edf5deea5"
      },
      "outputs": [
        {
          "name": "stdout",
          "output_type": "stream",
          "text": [
            "nom=       Saleh         , salaire= 1800.77   et age= 35  \n"
          ]
        }
      ],
      "source": [
        "nom=\"Saleh\" # type str\n",
        "salaire=1800.76756454 # type float\n",
        "age=35 # type int\n",
        "message='nom={0:^20s} , salaire={1:^10.2f} et age={2:^5d}'.format(nom,salaire,age)\n",
        "print(message)"
      ]
    },
    {
      "cell_type": "code",
      "execution_count": null,
      "metadata": {
        "colab": {
          "base_uri": "https://localhost:8080/"
        },
        "id": "Bt8zhLLp3jjG",
        "outputId": "aa32523b-4840-4002-da25-2263e2d12f32"
      },
      "outputs": [
        {
          "name": "stdout",
          "output_type": "stream",
          "text": [
            "salaire= 1800.77  , nom=       Saleh          et age= 35  \n"
          ]
        }
      ],
      "source": [
        "nom=\"Saleh\" # type str\n",
        "salaire=1800.76756454 # type float\n",
        "age=35 # type int\n",
        "message='salaire={1:^10.2f}, nom={0:^20s}  et age={2:^5d}'.format(nom,salaire,age)\n",
        "print(message)"
      ]
    },
    {
      "cell_type": "code",
      "execution_count": null,
      "metadata": {
        "colab": {
          "base_uri": "https://localhost:8080/"
        },
        "id": "4ePh6yTo3wse",
        "outputId": "4e0bb5c2-ddf3-4557-f556-18b2ec4e876c"
      },
      "outputs": [
        {
          "name": "stdout",
          "output_type": "stream",
          "text": [
            "nom=       Saleh         , salaire= 1800.77   et age= 35  \n"
          ]
        }
      ],
      "source": [
        "nom=\"Saleh\" # type str\n",
        "salaire=1800.76756454 # type float\n",
        "age=35 # type int\n",
        "message='nom={:^20s} , salaire={:^10.2f} et age={:^5d}'.format(nom,salaire,age)\n",
        "print(message)"
      ]
    },
    {
      "cell_type": "markdown",
      "metadata": {
        "id": "-m7OQqIUaCSa"
      },
      "source": [
        "Formattage avec la fonction format()"
      ]
    },
    {
      "cell_type": "code",
      "execution_count": null,
      "metadata": {
        "colab": {
          "base_uri": "https://localhost:8080/",
          "height": 36
        },
        "id": "95YgM0qZaSX_",
        "outputId": "ef51c868-ba05-4845-893f-e852be5d813b"
      },
      "outputs": [
        {
          "data": {
            "application/vnd.google.colaboratory.intrinsic+json": {
              "type": "string"
            },
            "text/plain": [
              "' 1800.77  '"
            ]
          },
          "execution_count": 96,
          "metadata": {},
          "output_type": "execute_result"
        }
      ],
      "source": [
        "salaire=1800.76756454\n",
        "format(salaire,'^10.2f')"
      ]
    },
    {
      "cell_type": "markdown",
      "metadata": {
        "id": "s7eEA9hr4cGe"
      },
      "source": [
        "**Les listes**"
      ]
    },
    {
      "cell_type": "code",
      "execution_count": null,
      "metadata": {
        "id": "M09PPBek4bmu"
      },
      "outputs": [],
      "source": [
        "noms=[] # liste vide"
      ]
    },
    {
      "cell_type": "code",
      "execution_count": null,
      "metadata": {
        "colab": {
          "base_uri": "https://localhost:8080/"
        },
        "id": "RcYOnwgS4Lc0",
        "outputId": "af804aec-253c-41f4-b9b4-3ee57e85b5f0"
      },
      "outputs": [
        {
          "data": {
            "text/plain": [
              "list"
            ]
          },
          "execution_count": 98,
          "metadata": {},
          "output_type": "execute_result"
        }
      ],
      "source": [
        "type(noms)"
      ]
    },
    {
      "cell_type": "code",
      "execution_count": null,
      "metadata": {
        "colab": {
          "base_uri": "https://localhost:8080/"
        },
        "id": "FdlIoogW4mDb",
        "outputId": "f73f1d2d-1879-4137-d50f-8e78d27d3fbe"
      },
      "outputs": [
        {
          "data": {
            "text/plain": [
              "0"
            ]
          },
          "execution_count": 99,
          "metadata": {},
          "output_type": "execute_result"
        }
      ],
      "source": [
        "len(noms)"
      ]
    },
    {
      "cell_type": "code",
      "execution_count": null,
      "metadata": {
        "id": "IfRTrOEv4rIF"
      },
      "outputs": [],
      "source": [
        "noms=[\"Saleh\",\"Sonia\",\"Abdelkarim\"]"
      ]
    },
    {
      "cell_type": "code",
      "execution_count": null,
      "metadata": {
        "colab": {
          "base_uri": "https://localhost:8080/"
        },
        "id": "_iVB5_WL40Nl",
        "outputId": "25cbaa13-da08-4feb-e50f-dbbc4fd5370d"
      },
      "outputs": [
        {
          "data": {
            "text/plain": [
              "3"
            ]
          },
          "execution_count": 101,
          "metadata": {},
          "output_type": "execute_result"
        }
      ],
      "source": [
        "len(noms)"
      ]
    },
    {
      "cell_type": "code",
      "execution_count": null,
      "metadata": {
        "colab": {
          "base_uri": "https://localhost:8080/",
          "height": 36
        },
        "id": "fttvYM5X41bW",
        "outputId": "c8ab9997-d83a-433a-ac54-14e35a82c244"
      },
      "outputs": [
        {
          "data": {
            "application/vnd.google.colaboratory.intrinsic+json": {
              "type": "string"
            },
            "text/plain": [
              "'Saleh'"
            ]
          },
          "execution_count": 102,
          "metadata": {},
          "output_type": "execute_result"
        }
      ],
      "source": [
        "noms[0]"
      ]
    },
    {
      "cell_type": "code",
      "execution_count": null,
      "metadata": {
        "colab": {
          "base_uri": "https://localhost:8080/",
          "height": 36
        },
        "id": "GW-FTrLd47WD",
        "outputId": "f2b93e7e-6917-48fe-f160-55e2522966b2"
      },
      "outputs": [
        {
          "data": {
            "application/vnd.google.colaboratory.intrinsic+json": {
              "type": "string"
            },
            "text/plain": [
              "'Abdelkarim'"
            ]
          },
          "execution_count": 103,
          "metadata": {},
          "output_type": "execute_result"
        }
      ],
      "source": [
        "noms[-1]"
      ]
    },
    {
      "cell_type": "code",
      "execution_count": null,
      "metadata": {
        "colab": {
          "base_uri": "https://localhost:8080/"
        },
        "id": "arb5_dZy4989",
        "outputId": "978d199b-6c51-4918-cb25-932dfcbd84ae"
      },
      "outputs": [
        {
          "data": {
            "text/plain": [
              "['Saleh', 'Sonia']"
            ]
          },
          "execution_count": 104,
          "metadata": {},
          "output_type": "execute_result"
        }
      ],
      "source": [
        "noms[:2]"
      ]
    },
    {
      "cell_type": "code",
      "execution_count": null,
      "metadata": {
        "colab": {
          "base_uri": "https://localhost:8080/"
        },
        "id": "ewntOOwP5CxI",
        "outputId": "93a5f4a9-f5cd-4f45-84f3-4c58b8fee927"
      },
      "outputs": [
        {
          "data": {
            "text/plain": [
              "['Abdelkarim', 'Sonia', 'Saleh']"
            ]
          },
          "execution_count": 105,
          "metadata": {},
          "output_type": "execute_result"
        }
      ],
      "source": [
        "noms[::-1]"
      ]
    },
    {
      "cell_type": "code",
      "execution_count": null,
      "metadata": {
        "id": "fYF1e6Mj5KRW"
      },
      "outputs": [],
      "source": [
        "noms.append('Rahma') # ajouter un élément à la fin de la liste"
      ]
    },
    {
      "cell_type": "code",
      "execution_count": null,
      "metadata": {
        "colab": {
          "base_uri": "https://localhost:8080/"
        },
        "id": "wtucdzQe5Yt-",
        "outputId": "dd863778-c505-4bf8-87e0-bdfd7e78e9fa"
      },
      "outputs": [
        {
          "data": {
            "text/plain": [
              "['Saleh', 'Sonia', 'Abdelkarim', 'Rahma']"
            ]
          },
          "execution_count": 107,
          "metadata": {},
          "output_type": "execute_result"
        }
      ],
      "source": [
        "noms"
      ]
    },
    {
      "cell_type": "code",
      "execution_count": null,
      "metadata": {
        "id": "rzChg6Jn5Z0c"
      },
      "outputs": [],
      "source": [
        "del noms[1]"
      ]
    },
    {
      "cell_type": "code",
      "execution_count": null,
      "metadata": {
        "colab": {
          "base_uri": "https://localhost:8080/"
        },
        "id": "0_WqCocb5iFS",
        "outputId": "dd06f507-4c3b-4bb2-8fa0-f7204e49ea81"
      },
      "outputs": [
        {
          "data": {
            "text/plain": [
              "['Saleh', 'Abdelkarim', 'Rahma']"
            ]
          },
          "execution_count": 109,
          "metadata": {},
          "output_type": "execute_result"
        }
      ],
      "source": [
        "noms"
      ]
    },
    {
      "cell_type": "code",
      "execution_count": null,
      "metadata": {
        "id": "lyv_9zz_5i0K"
      },
      "outputs": [],
      "source": [
        "noms[1]=\"Sonia\""
      ]
    },
    {
      "cell_type": "code",
      "execution_count": null,
      "metadata": {
        "colab": {
          "base_uri": "https://localhost:8080/"
        },
        "id": "YxQtqB0-5oeX",
        "outputId": "d8ac9e92-d21f-45e9-e8e8-35aa336c01bb"
      },
      "outputs": [
        {
          "data": {
            "text/plain": [
              "['Saleh', 'Sonia', 'Rahma']"
            ]
          },
          "execution_count": 111,
          "metadata": {},
          "output_type": "execute_result"
        }
      ],
      "source": [
        "noms"
      ]
    },
    {
      "cell_type": "markdown",
      "metadata": {
        "id": "m73KP_VR6Re-"
      },
      "source": [
        "**Liste vs Chaine**"
      ]
    },
    {
      "cell_type": "markdown",
      "metadata": {
        "id": "rOp-93oL6seh"
      },
      "source": [
        "Le type chaine de caracteres est immutable"
      ]
    },
    {
      "cell_type": "code",
      "execution_count": null,
      "metadata": {
        "id": "J1lqmQe55pCI"
      },
      "outputs": [],
      "source": [
        "s='hello'"
      ]
    },
    {
      "cell_type": "code",
      "execution_count": null,
      "metadata": {
        "colab": {
          "base_uri": "https://localhost:8080/",
          "height": 36
        },
        "id": "4KkCGVjY6UQw",
        "outputId": "b62b612b-6be2-4903-a1eb-1a5febe2c147"
      },
      "outputs": [
        {
          "data": {
            "application/vnd.google.colaboratory.intrinsic+json": {
              "type": "string"
            },
            "text/plain": [
              "'e'"
            ]
          },
          "execution_count": 113,
          "metadata": {},
          "output_type": "execute_result"
        }
      ],
      "source": [
        "s[1]"
      ]
    },
    {
      "cell_type": "code",
      "execution_count": null,
      "metadata": {
        "colab": {
          "base_uri": "https://localhost:8080/",
          "height": 169
        },
        "id": "0OCMayFi6VMA",
        "outputId": "f305c9e7-77b2-4924-b91c-1005c9fff807"
      },
      "outputs": [
        {
          "ename": "AttributeError",
          "evalue": "ignored",
          "output_type": "error",
          "traceback": [
            "\u001b[0;31m---------------------------------------------------------------------------\u001b[0m",
            "\u001b[0;31mAttributeError\u001b[0m                            Traceback (most recent call last)",
            "\u001b[0;32m<ipython-input-114-4c9b3813d9ee>\u001b[0m in \u001b[0;36m<module>\u001b[0;34m\u001b[0m\n\u001b[0;32m----> 1\u001b[0;31m \u001b[0ms\u001b[0m\u001b[0;34m.\u001b[0m\u001b[0mappend\u001b[0m\u001b[0;34m(\u001b[0m\u001b[0;34m'e'\u001b[0m\u001b[0;34m)\u001b[0m\u001b[0;34m\u001b[0m\u001b[0;34m\u001b[0m\u001b[0m\n\u001b[0m",
            "\u001b[0;31mAttributeError\u001b[0m: 'str' object has no attribute 'append'"
          ]
        }
      ],
      "source": [
        "s.append('e') "
      ]
    },
    {
      "cell_type": "code",
      "execution_count": null,
      "metadata": {
        "colab": {
          "base_uri": "https://localhost:8080/",
          "height": 169
        },
        "id": "LMVn8u2P6Zix",
        "outputId": "5cf7a37c-c4ff-49c0-a067-30bcc571c8a7"
      },
      "outputs": [
        {
          "ename": "TypeError",
          "evalue": "ignored",
          "output_type": "error",
          "traceback": [
            "\u001b[0;31m---------------------------------------------------------------------------\u001b[0m",
            "\u001b[0;31mTypeError\u001b[0m                                 Traceback (most recent call last)",
            "\u001b[0;32m<ipython-input-115-b6e482de122f>\u001b[0m in \u001b[0;36m<module>\u001b[0;34m\u001b[0m\n\u001b[0;32m----> 1\u001b[0;31m \u001b[0ms\u001b[0m\u001b[0;34m[\u001b[0m\u001b[0;36m1\u001b[0m\u001b[0;34m]\u001b[0m\u001b[0;34m=\u001b[0m\u001b[0;34m't'\u001b[0m\u001b[0;34m\u001b[0m\u001b[0;34m\u001b[0m\u001b[0m\n\u001b[0m",
            "\u001b[0;31mTypeError\u001b[0m: 'str' object does not support item assignment"
          ]
        }
      ],
      "source": [
        "s[1]='t'"
      ]
    },
    {
      "cell_type": "code",
      "execution_count": null,
      "metadata": {
        "colab": {
          "base_uri": "https://localhost:8080/",
          "height": 169
        },
        "id": "ivNpvkC-6clm",
        "outputId": "4d93bebf-bc57-49f5-fa2e-e8cb4288e427"
      },
      "outputs": [
        {
          "ename": "TypeError",
          "evalue": "ignored",
          "output_type": "error",
          "traceback": [
            "\u001b[0;31m---------------------------------------------------------------------------\u001b[0m",
            "\u001b[0;31mTypeError\u001b[0m                                 Traceback (most recent call last)",
            "\u001b[0;32m<ipython-input-116-062bd26529e9>\u001b[0m in \u001b[0;36m<module>\u001b[0;34m\u001b[0m\n\u001b[0;32m----> 1\u001b[0;31m \u001b[0;32mdel\u001b[0m \u001b[0ms\u001b[0m\u001b[0;34m[\u001b[0m\u001b[0;36m1\u001b[0m\u001b[0;34m]\u001b[0m\u001b[0;34m\u001b[0m\u001b[0;34m\u001b[0m\u001b[0m\n\u001b[0m",
            "\u001b[0;31mTypeError\u001b[0m: 'str' object doesn't support item deletion"
          ]
        }
      ],
      "source": [
        "del s[1]"
      ]
    },
    {
      "cell_type": "markdown",
      "metadata": {
        "id": "jyiQnc3n6hse"
      },
      "source": [
        "Lezs fonctions associées"
      ]
    },
    {
      "cell_type": "code",
      "execution_count": null,
      "metadata": {
        "id": "4SRgZh-y6e41"
      },
      "outputs": [],
      "source": [
        "s='hello'"
      ]
    },
    {
      "cell_type": "code",
      "execution_count": null,
      "metadata": {
        "colab": {
          "base_uri": "https://localhost:8080/",
          "height": 36
        },
        "id": "jl85vfsa6xOT",
        "outputId": "0cc52be3-2aa0-4d43-9ae4-b86711608b5f"
      },
      "outputs": [
        {
          "data": {
            "application/vnd.google.colaboratory.intrinsic+json": {
              "type": "string"
            },
            "text/plain": [
              "'Hello'"
            ]
          },
          "execution_count": 118,
          "metadata": {},
          "output_type": "execute_result"
        }
      ],
      "source": [
        "s.capitalize() "
      ]
    },
    {
      "cell_type": "code",
      "execution_count": null,
      "metadata": {
        "colab": {
          "base_uri": "https://localhost:8080/",
          "height": 36
        },
        "id": "8QwH56cn6801",
        "outputId": "1d94ab7d-7db7-4171-bc7c-bbb7d44bbd8c"
      },
      "outputs": [
        {
          "data": {
            "application/vnd.google.colaboratory.intrinsic+json": {
              "type": "string"
            },
            "text/plain": [
              "'hello'"
            ]
          },
          "execution_count": 119,
          "metadata": {},
          "output_type": "execute_result"
        }
      ],
      "source": [
        "s"
      ]
    },
    {
      "cell_type": "code",
      "execution_count": null,
      "metadata": {
        "colab": {
          "base_uri": "https://localhost:8080/",
          "height": 36
        },
        "id": "jeUL7fFc691B",
        "outputId": "e7430a7f-3e4c-4d7d-fb07-50d3948099d2"
      },
      "outputs": [
        {
          "data": {
            "application/vnd.google.colaboratory.intrinsic+json": {
              "type": "string"
            },
            "text/plain": [
              "'HELLO'"
            ]
          },
          "execution_count": 120,
          "metadata": {},
          "output_type": "execute_result"
        }
      ],
      "source": [
        "s.upper()"
      ]
    },
    {
      "cell_type": "code",
      "execution_count": null,
      "metadata": {
        "colab": {
          "base_uri": "https://localhost:8080/",
          "height": 36
        },
        "id": "Ni27AoOp7Ctk",
        "outputId": "d0ece6ef-9f68-4db6-a9af-90baab4128e4"
      },
      "outputs": [
        {
          "data": {
            "application/vnd.google.colaboratory.intrinsic+json": {
              "type": "string"
            },
            "text/plain": [
              "'hello'"
            ]
          },
          "execution_count": 121,
          "metadata": {},
          "output_type": "execute_result"
        }
      ],
      "source": [
        "s.lower()"
      ]
    },
    {
      "cell_type": "code",
      "execution_count": null,
      "metadata": {
        "colab": {
          "base_uri": "https://localhost:8080/",
          "height": 36
        },
        "id": "CW1u9KmN7Dwj",
        "outputId": "aa4313b7-cf65-417a-d272-2ab77cb5e080"
      },
      "outputs": [
        {
          "data": {
            "application/vnd.google.colaboratory.intrinsic+json": {
              "type": "string"
            },
            "text/plain": [
              "'hello'"
            ]
          },
          "execution_count": 123,
          "metadata": {},
          "output_type": "execute_result"
        }
      ],
      "source": [
        "s1='hello\\n'\n",
        "s1.rstrip()"
      ]
    },
    {
      "cell_type": "code",
      "execution_count": null,
      "metadata": {
        "colab": {
          "base_uri": "https://localhost:8080/"
        },
        "id": "zYlRph1I7JUB",
        "outputId": "c44aa7fa-7209-41f4-c1fe-a5365d038fdf"
      },
      "outputs": [
        {
          "data": {
            "text/plain": [
              "True"
            ]
          },
          "execution_count": 124,
          "metadata": {},
          "output_type": "execute_result"
        }
      ],
      "source": [
        "s.islower()"
      ]
    },
    {
      "cell_type": "code",
      "execution_count": null,
      "metadata": {
        "colab": {
          "base_uri": "https://localhost:8080/"
        },
        "id": "Vwwki0Ch7ew4",
        "outputId": "97a77ad9-1d7c-425e-e6fe-31da25516315"
      },
      "outputs": [
        {
          "data": {
            "text/plain": [
              "False"
            ]
          },
          "execution_count": 125,
          "metadata": {},
          "output_type": "execute_result"
        }
      ],
      "source": [
        "s.isupper()"
      ]
    },
    {
      "cell_type": "code",
      "execution_count": null,
      "metadata": {
        "colab": {
          "base_uri": "https://localhost:8080/"
        },
        "id": "BN7qM7Aj7f8q",
        "outputId": "a618a6c2-029a-4110-c741-e131e6ca8d82"
      },
      "outputs": [
        {
          "data": {
            "text/plain": [
              "False"
            ]
          },
          "execution_count": 126,
          "metadata": {},
          "output_type": "execute_result"
        }
      ],
      "source": [
        "s.isdigit()"
      ]
    },
    {
      "cell_type": "code",
      "execution_count": null,
      "metadata": {
        "id": "IkxaTFCb7jyG"
      },
      "outputs": [],
      "source": [
        "noms=['tv','rfg','mo']"
      ]
    },
    {
      "cell_type": "code",
      "execution_count": null,
      "metadata": {
        "id": "Oh4fj0Z57nNy"
      },
      "outputs": [],
      "source": [
        "noms.clear() # vider la liste"
      ]
    },
    {
      "cell_type": "code",
      "execution_count": null,
      "metadata": {
        "colab": {
          "base_uri": "https://localhost:8080/"
        },
        "id": "STf6bV8n7tl3",
        "outputId": "d5baad1e-823b-46d3-d022-3f62e8c7f92c"
      },
      "outputs": [
        {
          "data": {
            "text/plain": [
              "[]"
            ]
          },
          "execution_count": 130,
          "metadata": {},
          "output_type": "execute_result"
        }
      ],
      "source": [
        "noms"
      ]
    },
    {
      "cell_type": "code",
      "execution_count": null,
      "metadata": {
        "id": "ceIs0Aph7uPr"
      },
      "outputs": [],
      "source": [
        "noms=['tv','rfg','mo']\n",
        "noms1=noms.copy()"
      ]
    },
    {
      "cell_type": "code",
      "execution_count": null,
      "metadata": {
        "colab": {
          "base_uri": "https://localhost:8080/"
        },
        "id": "Dely8MWC8uUm",
        "outputId": "60ee8029-cc00-4152-ed79-51f3d4fd3d52"
      },
      "outputs": [
        {
          "data": {
            "text/plain": [
              "['tv', 'rfg', 'mo']"
            ]
          },
          "execution_count": 134,
          "metadata": {},
          "output_type": "execute_result"
        }
      ],
      "source": [
        "noms"
      ]
    },
    {
      "cell_type": "code",
      "execution_count": null,
      "metadata": {
        "colab": {
          "base_uri": "https://localhost:8080/"
        },
        "id": "xnIKPMEV8viQ",
        "outputId": "c3664724-95bf-4961-aba5-ba8afd26ac00"
      },
      "outputs": [
        {
          "data": {
            "text/plain": [
              "['tv', 'rfg', 'mo']"
            ]
          },
          "execution_count": 135,
          "metadata": {},
          "output_type": "execute_result"
        }
      ],
      "source": [
        "noms1"
      ]
    },
    {
      "cell_type": "code",
      "execution_count": null,
      "metadata": {
        "id": "nJfCvOwl8za9"
      },
      "outputs": [],
      "source": [
        "noms1[1]='lave'"
      ]
    },
    {
      "cell_type": "code",
      "execution_count": null,
      "metadata": {
        "colab": {
          "base_uri": "https://localhost:8080/"
        },
        "id": "rVuToZ4y86Q2",
        "outputId": "f8574bfd-92a8-4438-ac13-e7f9c4763507"
      },
      "outputs": [
        {
          "data": {
            "text/plain": [
              "['tv', 'lave', 'mo']"
            ]
          },
          "execution_count": 137,
          "metadata": {},
          "output_type": "execute_result"
        }
      ],
      "source": [
        "noms1"
      ]
    },
    {
      "cell_type": "code",
      "execution_count": null,
      "metadata": {
        "colab": {
          "base_uri": "https://localhost:8080/"
        },
        "id": "nCvdqYXz87Cp",
        "outputId": "da1cfe63-d75b-4cb9-d15d-61f6db1f78e8"
      },
      "outputs": [
        {
          "data": {
            "text/plain": [
              "['tv', 'rfg', 'mo']"
            ]
          },
          "execution_count": 138,
          "metadata": {},
          "output_type": "execute_result"
        }
      ],
      "source": [
        "noms"
      ]
    },
    {
      "cell_type": "code",
      "execution_count": null,
      "metadata": {
        "id": "BjsX7bhl871w"
      },
      "outputs": [],
      "source": [
        "noms=['tv','rfg','mo']\n",
        "noms1=noms.copy()\n",
        "noms2=noms"
      ]
    },
    {
      "cell_type": "code",
      "execution_count": null,
      "metadata": {
        "colab": {
          "base_uri": "https://localhost:8080/"
        },
        "id": "UoeVqaaY9E4b",
        "outputId": "be1ec270-36af-40db-fdca-701502813d4b"
      },
      "outputs": [
        {
          "data": {
            "text/plain": [
              "True"
            ]
          },
          "execution_count": 140,
          "metadata": {},
          "output_type": "execute_result"
        }
      ],
      "source": [
        "noms==noms2 # == vérifie l'egalité en terme de contenu"
      ]
    },
    {
      "cell_type": "code",
      "execution_count": null,
      "metadata": {
        "colab": {
          "base_uri": "https://localhost:8080/"
        },
        "id": "J3GihSmq9Pqy",
        "outputId": "094567a7-f6ba-46db-d907-cdba4888de33"
      },
      "outputs": [
        {
          "data": {
            "text/plain": [
              "True"
            ]
          },
          "execution_count": 141,
          "metadata": {},
          "output_type": "execute_result"
        }
      ],
      "source": [
        "noms is noms2 # vérifie l'égalité en terme de allocation memeoire"
      ]
    },
    {
      "cell_type": "code",
      "execution_count": null,
      "metadata": {
        "colab": {
          "base_uri": "https://localhost:8080/"
        },
        "id": "fffgE1oP9Q_R",
        "outputId": "3e3008f7-72ec-4f9b-b87a-aeb47f0c9e07"
      },
      "outputs": [
        {
          "data": {
            "text/plain": [
              "True"
            ]
          },
          "execution_count": 142,
          "metadata": {},
          "output_type": "execute_result"
        }
      ],
      "source": [
        "noms1==noms"
      ]
    },
    {
      "cell_type": "code",
      "execution_count": null,
      "metadata": {
        "colab": {
          "base_uri": "https://localhost:8080/"
        },
        "id": "ElLSBIlU9jZ7",
        "outputId": "f5e1210b-0fbe-4304-b51b-3bd3bd151d64"
      },
      "outputs": [
        {
          "data": {
            "text/plain": [
              "False"
            ]
          },
          "execution_count": 143,
          "metadata": {},
          "output_type": "execute_result"
        }
      ],
      "source": [
        "noms1 is noms"
      ]
    },
    {
      "cell_type": "markdown",
      "metadata": {
        "id": "xiyArewG91KG"
      },
      "source": [
        "split & join"
      ]
    },
    {
      "cell_type": "code",
      "execution_count": null,
      "metadata": {
        "id": "UCd4y4Xy9oL7"
      },
      "outputs": [],
      "source": [
        "immat=\"1234-Tunis-223\""
      ]
    },
    {
      "cell_type": "code",
      "execution_count": null,
      "metadata": {
        "colab": {
          "base_uri": "https://localhost:8080/"
        },
        "id": "y_j_cnx597bQ",
        "outputId": "d1512e67-d63b-40ec-863c-b07d24511cab"
      },
      "outputs": [
        {
          "data": {
            "text/plain": [
              "['1234', 'Tunis', '223']"
            ]
          },
          "execution_count": 146,
          "metadata": {},
          "output_type": "execute_result"
        }
      ],
      "source": [
        "immat.split(\"-\")"
      ]
    },
    {
      "cell_type": "code",
      "execution_count": null,
      "metadata": {
        "colab": {
          "base_uri": "https://localhost:8080/",
          "height": 36
        },
        "id": "eo1AZyWn-Bjx",
        "outputId": "1540cd90-55f9-4530-e1c6-90e556d03d6b"
      },
      "outputs": [
        {
          "data": {
            "application/vnd.google.colaboratory.intrinsic+json": {
              "type": "string"
            },
            "text/plain": [
              "'1234-Tunis-223'"
            ]
          },
          "execution_count": 148,
          "metadata": {},
          "output_type": "execute_result"
        }
      ],
      "source": [
        "\"-\".join(['1234', 'Tunis', '223'])"
      ]
    },
    {
      "cell_type": "markdown",
      "metadata": {
        "id": "YpjLDZVb_5fn"
      },
      "source": [
        "**Les boucles**"
      ]
    },
    {
      "cell_type": "markdown",
      "metadata": {
        "id": "jSIRG6X4MBXD"
      },
      "source": [
        "boucle for"
      ]
    },
    {
      "cell_type": "code",
      "execution_count": null,
      "metadata": {
        "id": "U1USOQfaMZCS"
      },
      "outputs": [],
      "source": [
        "noms=['rfg','mo','tv']"
      ]
    },
    {
      "cell_type": "code",
      "execution_count": null,
      "metadata": {
        "colab": {
          "base_uri": "https://localhost:8080/"
        },
        "id": "MQpWof1fMteC",
        "outputId": "3950123c-28e1-4ce3-bdd7-ec594886742d"
      },
      "outputs": [
        {
          "name": "stdout",
          "output_type": "stream",
          "text": [
            "rfg\n",
            "mo\n",
            "tv\n"
          ]
        }
      ],
      "source": [
        "print(noms[0]) # rfg\n",
        "print(noms[1])\n",
        "print(noms[2])"
      ]
    },
    {
      "cell_type": "code",
      "execution_count": null,
      "metadata": {
        "colab": {
          "base_uri": "https://localhost:8080/"
        },
        "id": "rDYx7RRB-hlK",
        "outputId": "1f118413-8689-42be-94c1-4d53eda115cb"
      },
      "outputs": [
        {
          "name": "stdout",
          "output_type": "stream",
          "text": [
            "rfg\n",
            "mo\n",
            "tv\n"
          ]
        }
      ],
      "source": [
        "for nom in noms : # entete de la boucle for\n",
        "  print(nom)"
      ]
    },
    {
      "cell_type": "code",
      "execution_count": null,
      "metadata": {
        "colab": {
          "base_uri": "https://localhost:8080/"
        },
        "id": "Rcr6jFzhN8LC",
        "outputId": "5d30a052-7253-45d8-c1fe-f6043af66491"
      },
      "outputs": [
        {
          "name": "stdout",
          "output_type": "stream",
          "text": [
            "rfg\n",
            "mo\n",
            "tv\n"
          ]
        }
      ],
      "source": [
        "for i in range(len(noms)) : # entete de la boucle for\n",
        "  print(noms[i])"
      ]
    },
    {
      "cell_type": "code",
      "execution_count": 1,
      "metadata": {},
      "outputs": [
        {
          "name": "stdout",
          "output_type": "stream",
          "text": [
            "product    | prices     | quantity  \n",
            "-----------------------------------\n",
            "TV        |12.33     |2         \n",
            "PC        |13.56     |4         \n",
            "Light     |100.67    |6         \n"
          ]
        }
      ],
      "source": [
        "products=[\"TV\",\"PC\",\"Light\"]\n",
        "prices=[12.33,13.5555,100.67]\n",
        "quantity=[2,4,6]\n",
        "\n",
        "print('%-10s | %-10s | %-10s' % ('product', 'prices', 'quantity'))\n",
        "print(\"-----------------------------------\")\n",
        "for i in range(len(products)):\n",
        "    print('%-10s|%-10.2f|%-10d' %(products[i],prices[i],quantity[i]))"
      ]
    }
  ],
  "metadata": {
    "colab": {
      "collapsed_sections": [],
      "provenance": []
    },
    "kernelspec": {
      "display_name": "Python 3.10.7 64-bit (microsoft store)",
      "language": "python",
      "name": "python3"
    },
    "language_info": {
      "codemirror_mode": {
        "name": "ipython",
        "version": 3
      },
      "file_extension": ".py",
      "mimetype": "text/x-python",
      "name": "python",
      "nbconvert_exporter": "python",
      "pygments_lexer": "ipython3",
      "version": "3.10.7"
    },
    "vscode": {
      "interpreter": {
        "hash": "171002ca0d6c473a5ff791bbb5aa7a877aeef24b277cda4853af5f38e9943e22"
      }
    }
  },
  "nbformat": 4,
  "nbformat_minor": 0
}
