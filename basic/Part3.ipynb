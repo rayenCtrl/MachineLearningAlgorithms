{
  "cells": [
    {
      "cell_type": "markdown",
      "metadata": {
        "id": "nQrbt7BrKRVi"
      },
      "source": [
        "**Les fichiers**"
      ]
    },
    {
      "cell_type": "markdown",
      "metadata": {
        "id": "ZRKm8xz5Lt1N"
      },
      "source": [
        "Il existe 5 modes possibles pour manipuler un fichier texte : WRITE (w), READ (r) , WRITE/READ (w+) , READ/WRITE (r+) et APPEND (a)"
      ]
    },
    {
      "cell_type": "markdown",
      "metadata": {
        "id": "lpjy6yBOLnt4"
      },
      "source": [
        "Manipulation d'un fichier en mode WRITE (w)*texte en italique*"
      ]
    },
    {
      "cell_type": "code",
      "execution_count": 4,
      "metadata": {
        "id": "vaQvzOEeJ5Hm"
      },
      "outputs": [],
      "source": [
        "fichier=open('data.txt','w')\n",
        "fichier.write('hello')\n",
        "fichier.close()"
      ]
    },
    {
      "cell_type": "code",
      "execution_count": 5,
      "metadata": {
        "id": "bN0BIJKcPJ4M"
      },
      "outputs": [],
      "source": [
        "fichier=open('data.txt','w')\n",
        "fichier.write('bye bye')\n",
        "fichier.close()"
      ]
    },
    {
      "cell_type": "code",
      "execution_count": 6,
      "metadata": {
        "id": "HX8H68noPV2t"
      },
      "outputs": [],
      "source": [
        "fichier=open('data.txt','w')\n",
        "fichier.write('hello')\n",
        "fichier.write('bye bye')\n",
        "fichier.close()"
      ]
    },
    {
      "cell_type": "code",
      "execution_count": 7,
      "metadata": {
        "id": "VYlSzworPb9a"
      },
      "outputs": [],
      "source": [
        "fichier=open('data.txt','w')\n",
        "fichier.write('hello\\n')\n",
        "fichier.write('bye bye')\n",
        "fichier.close()"
      ]
    },
    {
      "cell_type": "code",
      "execution_count": 8,
      "metadata": {
        "id": "0FPBAbGfP3Go"
      },
      "outputs": [],
      "source": [
        "fichier=open('data.txt','w')\n",
        "fichier.write('hello\\n')\n",
        "fichier.seek(0)\n",
        "fichier.write('bye')\n",
        "fichier.close()"
      ]
    },
    {
      "cell_type": "markdown",
      "metadata": {
        "id": "DZRe1y9FQXcE"
      },
      "source": [
        "Manipulation d'un fichier en mode READ (r)"
      ]
    },
    {
      "cell_type": "code",
      "execution_count": 9,
      "metadata": {
        "id": "HLoPfjPrQjLc"
      },
      "outputs": [],
      "source": [
        "fichier=open('data.txt','r')\n",
        "texte=fichier.read()\n",
        "fichier.close()"
      ]
    },
    {
      "cell_type": "code",
      "execution_count": 10,
      "metadata": {
        "colab": {
          "base_uri": "https://localhost:8080/",
          "height": 36
        },
        "id": "cgMm2_KyQsfZ",
        "outputId": "87229d76-940f-4be7-da80-6adc44c6881f"
      },
      "outputs": [
        {
          "data": {
            "application/vnd.google.colaboratory.intrinsic+json": {
              "type": "string"
            },
            "text/plain": [
              "'byelo\\n'"
            ]
          },
          "execution_count": 10,
          "metadata": {},
          "output_type": "execute_result"
        }
      ],
      "source": [
        "texte"
      ]
    },
    {
      "cell_type": "code",
      "execution_count": 11,
      "metadata": {
        "colab": {
          "base_uri": "https://localhost:8080/",
          "height": 205
        },
        "id": "2deoujCaRQgG",
        "outputId": "abdcf682-eda5-469a-8ba6-5cd60ae8c5cc"
      },
      "outputs": [
        {
          "ename": "FileNotFoundError",
          "evalue": "ignored",
          "output_type": "error",
          "traceback": [
            "\u001b[0;31m---------------------------------------------------------------------------\u001b[0m",
            "\u001b[0;31mFileNotFoundError\u001b[0m                         Traceback (most recent call last)",
            "\u001b[0;32m<ipython-input-11-b81df95437fc>\u001b[0m in \u001b[0;36m<module>\u001b[0;34m\u001b[0m\n\u001b[0;32m----> 1\u001b[0;31m \u001b[0mfichier\u001b[0m\u001b[0;34m=\u001b[0m\u001b[0mopen\u001b[0m\u001b[0;34m(\u001b[0m\u001b[0;34m'data1.txt'\u001b[0m\u001b[0;34m,\u001b[0m\u001b[0;34m'r'\u001b[0m\u001b[0;34m)\u001b[0m\u001b[0;34m\u001b[0m\u001b[0;34m\u001b[0m\u001b[0m\n\u001b[0m\u001b[1;32m      2\u001b[0m \u001b[0mtexte\u001b[0m\u001b[0;34m=\u001b[0m\u001b[0mfichier\u001b[0m\u001b[0;34m.\u001b[0m\u001b[0mread\u001b[0m\u001b[0;34m(\u001b[0m\u001b[0;34m)\u001b[0m\u001b[0;34m\u001b[0m\u001b[0;34m\u001b[0m\u001b[0m\n\u001b[1;32m      3\u001b[0m \u001b[0mfichier\u001b[0m\u001b[0;34m.\u001b[0m\u001b[0mclose\u001b[0m\u001b[0;34m(\u001b[0m\u001b[0;34m)\u001b[0m\u001b[0;34m\u001b[0m\u001b[0;34m\u001b[0m\u001b[0m\n",
            "\u001b[0;31mFileNotFoundError\u001b[0m: [Errno 2] No such file or directory: 'data1.txt'"
          ]
        }
      ],
      "source": [
        "fichier=open('data1.txt','r')\n",
        "texte=fichier.read()\n",
        "fichier.close()"
      ]
    },
    {
      "cell_type": "code",
      "execution_count": 14,
      "metadata": {
        "colab": {
          "base_uri": "https://localhost:8080/"
        },
        "id": "t_G9CXPYRfgR",
        "outputId": "39368fb4-85db-4ba6-8808-d4dd2541e54e"
      },
      "outputs": [
        {
          "name": "stdout",
          "output_type": "stream",
          "text": [
            "data1.txt n'existe pas !!\n"
          ]
        }
      ],
      "source": [
        "nom_fichier='data1.txt'\n",
        "try:\n",
        "  fichier=open(nom_fichier,'r')\n",
        "  texte=fichier.read()\n",
        "  fichier.close()\n",
        "except FileNotFoundError:\n",
        "  print(nom_fichier,\"n'existe pas !!\")"
      ]
    },
    {
      "cell_type": "code",
      "execution_count": 16,
      "metadata": {
        "id": "4eM8K2j0SEpq"
      },
      "outputs": [],
      "source": [
        "import os\n",
        "nom_fichier='data1.txt'\n",
        "if os.path.exists(nom_fichier):\n",
        "  fichier=open(nom_fichier,'r')\n",
        "  texte=fichier.read()\n",
        "  fichier.close()\n",
        "else:\n",
        "  print(nom_fichier,\"n'existe pas !!\")"
      ]
    },
    {
      "cell_type": "code",
      "execution_count": 17,
      "metadata": {
        "id": "VU-DFeUkTAX9"
      },
      "outputs": [],
      "source": [
        "fichier=open('data.txt','w')\n",
        "fichier.write('hello\\n')\n",
        "fichier.write('welcome\\n')\n",
        "fichier.write('2022\\n')\n",
        "fichier.close()"
      ]
    },
    {
      "cell_type": "code",
      "execution_count": 18,
      "metadata": {
        "id": "R_AwreGITH1O"
      },
      "outputs": [],
      "source": [
        "fichier=open('data.txt','r')"
      ]
    },
    {
      "cell_type": "code",
      "execution_count": 19,
      "metadata": {
        "colab": {
          "base_uri": "https://localhost:8080/",
          "height": 36
        },
        "id": "TLI_jMh2TJ6b",
        "outputId": "fa506af8-fe41-4c1d-cd76-740fe7baef48"
      },
      "outputs": [
        {
          "data": {
            "application/vnd.google.colaboratory.intrinsic+json": {
              "type": "string"
            },
            "text/plain": [
              "'hello\\n'"
            ]
          },
          "execution_count": 19,
          "metadata": {},
          "output_type": "execute_result"
        }
      ],
      "source": [
        "fichier.readline()"
      ]
    },
    {
      "cell_type": "code",
      "execution_count": 20,
      "metadata": {
        "colab": {
          "base_uri": "https://localhost:8080/",
          "height": 36
        },
        "id": "gtXn6wrhTRtx",
        "outputId": "5315fe03-854c-4bcc-c4c2-a2eb145d6400"
      },
      "outputs": [
        {
          "data": {
            "application/vnd.google.colaboratory.intrinsic+json": {
              "type": "string"
            },
            "text/plain": [
              "'welcome\\n'"
            ]
          },
          "execution_count": 20,
          "metadata": {},
          "output_type": "execute_result"
        }
      ],
      "source": [
        "fichier.readline()"
      ]
    },
    {
      "cell_type": "code",
      "execution_count": 21,
      "metadata": {
        "colab": {
          "base_uri": "https://localhost:8080/",
          "height": 36
        },
        "id": "jpPmymIPTUH6",
        "outputId": "ae53ae44-a6e4-4a18-fde9-c176e86bc365"
      },
      "outputs": [
        {
          "data": {
            "application/vnd.google.colaboratory.intrinsic+json": {
              "type": "string"
            },
            "text/plain": [
              "'2022\\n'"
            ]
          },
          "execution_count": 21,
          "metadata": {},
          "output_type": "execute_result"
        }
      ],
      "source": [
        "fichier.readline()"
      ]
    },
    {
      "cell_type": "code",
      "execution_count": 22,
      "metadata": {
        "colab": {
          "base_uri": "https://localhost:8080/",
          "height": 36
        },
        "id": "ofUIFRAaTVE5",
        "outputId": "5e1eab9d-93cf-48a7-8743-311f62c95fa5"
      },
      "outputs": [
        {
          "data": {
            "application/vnd.google.colaboratory.intrinsic+json": {
              "type": "string"
            },
            "text/plain": [
              "''"
            ]
          },
          "execution_count": 22,
          "metadata": {},
          "output_type": "execute_result"
        }
      ],
      "source": [
        "fichier.readline()"
      ]
    },
    {
      "cell_type": "code",
      "execution_count": 23,
      "metadata": {
        "colab": {
          "base_uri": "https://localhost:8080/",
          "height": 36
        },
        "id": "lDH1FedoTW84",
        "outputId": "6dcb598b-6690-4468-bcc2-618439e5bf53"
      },
      "outputs": [
        {
          "data": {
            "application/vnd.google.colaboratory.intrinsic+json": {
              "type": "string"
            },
            "text/plain": [
              "''"
            ]
          },
          "execution_count": 23,
          "metadata": {},
          "output_type": "execute_result"
        }
      ],
      "source": [
        "fichier.readline()"
      ]
    },
    {
      "cell_type": "markdown",
      "metadata": {
        "id": "72t-pWPOhkc9"
      },
      "source": [
        "**Exercice recap**"
      ]
    },
    {
      "cell_type": "code",
      "execution_count": 24,
      "metadata": {
        "id": "ajlMSoY5hzmi"
      },
      "outputs": [],
      "source": [
        "noms=['tv','rfg','mo']\n",
        "puhts=[1500.6655,2100.5544,350.1122]\n",
        "quantites=[5,3,20]"
      ]
    },
    {
      "cell_type": "code",
      "execution_count": 25,
      "metadata": {
        "id": "wlwJZze4h_Tt"
      },
      "outputs": [],
      "source": [
        "with open('produits.csv','w') as fichier:\n",
        "  for nom,puht,quantite in zip(noms,puhts,quantites):\n",
        "    ligne=nom+','+str(puht)+','+str(quantite)+'\\n'\n",
        "    fichier.write(ligne)"
      ]
    },
    {
      "cell_type": "code",
      "execution_count": 42,
      "metadata": {
        "id": "DeeqbGCWimSn"
      },
      "outputs": [],
      "source": [
        "noms=[]\n",
        "puhts=[]\n",
        "quantites=[]\n",
        "with open('produits.csv','r') as fichier:\n",
        "  for ligne in fichier:\n",
        "    ligne=ligne.rstrip()\n",
        "    produit=ligne.split(',')\n",
        "    nom=produit[0]\n",
        "    puht=float(produit[1])\n",
        "    quantite=int(produit[2])\n",
        "    noms.append(nom)\n",
        "    puhts.append(puht)\n",
        "    quantites.append(quantite)"
      ]
    },
    {
      "cell_type": "code",
      "execution_count": 43,
      "metadata": {
        "colab": {
          "base_uri": "https://localhost:8080/"
        },
        "id": "nBY4Ej5Rl0hW",
        "outputId": "5f12f5fa-7391-4402-a720-7fe5f4fa40e6"
      },
      "outputs": [
        {
          "data": {
            "text/plain": [
              "['tv', 'rfg', 'mo']"
            ]
          },
          "execution_count": 43,
          "metadata": {},
          "output_type": "execute_result"
        }
      ],
      "source": [
        "noms"
      ]
    },
    {
      "cell_type": "code",
      "execution_count": 44,
      "metadata": {
        "colab": {
          "base_uri": "https://localhost:8080/"
        },
        "id": "xLmY6Dt2l1l9",
        "outputId": "26acb16e-d332-4fb7-b083-5ca75590c75a"
      },
      "outputs": [
        {
          "data": {
            "text/plain": [
              "[1500.6655, 2100.5544, 350.1122]"
            ]
          },
          "execution_count": 44,
          "metadata": {},
          "output_type": "execute_result"
        }
      ],
      "source": [
        "puhts"
      ]
    },
    {
      "cell_type": "code",
      "execution_count": 45,
      "metadata": {
        "colab": {
          "base_uri": "https://localhost:8080/"
        },
        "id": "YlCzBI7Gl26N",
        "outputId": "4a7a3e2f-c982-4fdd-e043-9a73e264fab8"
      },
      "outputs": [
        {
          "data": {
            "text/plain": [
              "[5, 3, 20]"
            ]
          },
          "execution_count": 45,
          "metadata": {},
          "output_type": "execute_result"
        }
      ],
      "source": [
        "quantites"
      ]
    },
    {
      "cell_type": "markdown",
      "metadata": {
        "id": "2yoKYfNgmC_Q"
      },
      "source": [
        "Manipulation d'un fichier en mode Ecriture/Lecture (w+)"
      ]
    },
    {
      "cell_type": "code",
      "execution_count": 47,
      "metadata": {
        "id": "37EQXp2fmG2x"
      },
      "outputs": [],
      "source": [
        "fichier=open('data.txt','w+')\n",
        "fichier.write('hello')\n",
        "fichier.seek(0)\n",
        "texte=fichier.read()\n",
        "fichier.close()"
      ]
    },
    {
      "cell_type": "code",
      "execution_count": 48,
      "metadata": {
        "colab": {
          "base_uri": "https://localhost:8080/",
          "height": 36
        },
        "id": "ztmhQqe6mjj2",
        "outputId": "728fa46a-a49e-4a4b-e63d-e43e51176bec"
      },
      "outputs": [
        {
          "data": {
            "application/vnd.google.colaboratory.intrinsic+json": {
              "type": "string"
            },
            "text/plain": [
              "'hello'"
            ]
          },
          "execution_count": 48,
          "metadata": {},
          "output_type": "execute_result"
        }
      ],
      "source": [
        "texte"
      ]
    },
    {
      "cell_type": "markdown",
      "metadata": {
        "id": "WbZzDcS5nKID"
      },
      "source": [
        "Manipulation d'un fichier en mode r+"
      ]
    },
    {
      "cell_type": "code",
      "execution_count": 49,
      "metadata": {
        "id": "nYC9tRkenNe_"
      },
      "outputs": [],
      "source": [
        "fichier=open('data.txt','r+')\n",
        "fichier.write('pi')\n",
        "fichier.close()"
      ]
    },
    {
      "cell_type": "markdown",
      "metadata": {
        "id": "WcXFh-0UnzyP"
      },
      "source": [
        "Manipulation d'un fichier en mode APPEND (a)"
      ]
    },
    {
      "cell_type": "code",
      "execution_count": 50,
      "metadata": {
        "id": "zA1ZqpJnn3aV"
      },
      "outputs": [],
      "source": [
        "fichier=open('data.txt','a')\n",
        "fichier.write('bac')\n",
        "fichier.seek(0)\n",
        "fichier.write('fac')\n",
        "fichier.close()"
      ]
    },
    {
      "cell_type": "markdown",
      "metadata": {
        "id": "6IbDg2f_KjhM"
      },
      "source": [
        "**Les modules**"
      ]
    },
    {
      "cell_type": "markdown",
      "metadata": {
        "id": "iSr-gjmtsWKm"
      },
      "source": [
        "Importer la fonction sqrt du module math"
      ]
    },
    {
      "cell_type": "code",
      "execution_count": 51,
      "metadata": {
        "colab": {
          "base_uri": "https://localhost:8080/"
        },
        "id": "i_1cBHMyKk9X",
        "outputId": "5c0c01b5-c942-44a9-db27-504f4afba444"
      },
      "outputs": [
        {
          "data": {
            "text/plain": [
              "2.0"
            ]
          },
          "execution_count": 51,
          "metadata": {},
          "output_type": "execute_result"
        }
      ],
      "source": [
        "import math\n",
        "math.sqrt(4)"
      ]
    },
    {
      "cell_type": "code",
      "execution_count": 52,
      "metadata": {
        "colab": {
          "base_uri": "https://localhost:8080/"
        },
        "id": "C5p3RzA8sqfb",
        "outputId": "33f52d09-d92d-488c-87b5-279f083912cb"
      },
      "outputs": [
        {
          "data": {
            "text/plain": [
              "2.0"
            ]
          },
          "execution_count": 52,
          "metadata": {},
          "output_type": "execute_result"
        }
      ],
      "source": [
        "from math import sqrt\n",
        "sqrt(4)"
      ]
    },
    {
      "cell_type": "code",
      "execution_count": 53,
      "metadata": {
        "colab": {
          "base_uri": "https://localhost:8080/"
        },
        "id": "abKyY20aswLV",
        "outputId": "1e24b010-62bf-4c5d-892e-441c61e9d1c3"
      },
      "outputs": [
        {
          "data": {
            "text/plain": [
              "2.0"
            ]
          },
          "execution_count": 53,
          "metadata": {},
          "output_type": "execute_result"
        }
      ],
      "source": [
        "import math as ma\n",
        "ma.sqrt(4)"
      ]
    },
    {
      "cell_type": "code",
      "execution_count": 54,
      "metadata": {
        "colab": {
          "base_uri": "https://localhost:8080/"
        },
        "id": "2e2-94arsz0J",
        "outputId": "e13f5d06-1495-4033-b433-d565dbbc7527"
      },
      "outputs": [
        {
          "data": {
            "text/plain": [
              "2.0"
            ]
          },
          "execution_count": 54,
          "metadata": {},
          "output_type": "execute_result"
        }
      ],
      "source": [
        "from math import sqrt as racine_carree\n",
        "racine_carree(4)"
      ]
    },
    {
      "cell_type": "code",
      "execution_count": 2,
      "metadata": {
        "colab": {
          "base_uri": "https://localhost:8080/"
        },
        "id": "I3lBA9L_tPZS",
        "outputId": "e5c75be6-41a5-411c-8f9c-9fa0260331fc"
      },
      "outputs": [
        {
          "name": "stdout",
          "output_type": "stream",
          "text": [
            "2.0\n",
            "-1.0\n"
          ]
        }
      ],
      "source": [
        "from math import sqrt as racine_carree , cos as cosinus , pi\n",
        "print(racine_carree(4))\n",
        "print(cosinus(pi)) "
      ]
    }
  ],
  "metadata": {
    "colab": {
      "collapsed_sections": [],
      "provenance": []
    },
    "kernelspec": {
      "display_name": "Python 3.10.7 64-bit (microsoft store)",
      "language": "python",
      "name": "python3"
    },
    "language_info": {
      "name": "python",
      "version": "3.10.7"
    },
    "vscode": {
      "interpreter": {
        "hash": "171002ca0d6c473a5ff791bbb5aa7a877aeef24b277cda4853af5f38e9943e22"
      }
    }
  },
  "nbformat": 4,
  "nbformat_minor": 0
}
