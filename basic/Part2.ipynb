{
  "cells": [
    {
      "cell_type": "markdown",
      "metadata": {
        "id": "mcZb_osgIxX6"
      },
      "source": [
        "**Exercice recap**"
      ]
    },
    {
      "cell_type": "code",
      "execution_count": 1,
      "metadata": {
        "id": "vCz4IRE5ISDg"
      },
      "outputs": [],
      "source": [
        "noms=['tv','rfg','mo']\n",
        "puhts=[1500.6655,2100.5544,350.1122]\n",
        "quantites=[5,3,20]"
      ]
    },
    {
      "cell_type": "code",
      "execution_count": 5,
      "metadata": {
        "colab": {
          "base_uri": "https://localhost:8080/"
        },
        "id": "JdrPQBtjI9-j",
        "outputId": "1fab7e88-0f95-4f3b-fc3f-0439224eef85"
      },
      "outputs": [
        {
          "name": "stdout",
          "output_type": "stream",
          "text": [
            "nom       |puht      |quantite  \n",
            "tv        |1500.67   |5         \n",
            "rfg       |2100.55   |3         \n",
            "mo        |350.11    |20        \n"
          ]
        }
      ],
      "source": [
        "print('%-10s|%-10s|%-10s' % ('nom','puht','quantite'))\n",
        "for nom,puht,quantite in zip(noms,puhts,quantites) :\n",
        "  print('%-10s|%-10.2f|%-10d' % (nom,puht,quantite))"
      ]
    },
    {
      "cell_type": "code",
      "execution_count": 6,
      "metadata": {
        "colab": {
          "base_uri": "https://localhost:8080/"
        },
        "id": "EKJQxntdJLyP",
        "outputId": "07f4292b-da3d-4354-edb7-a70d1c481a34"
      },
      "outputs": [
        {
          "name": "stdout",
          "output_type": "stream",
          "text": [
            "nom       |puht      |quantite  \n",
            "tv        |1500.67   |5         \n",
            "rfg       |2100.55   |3         \n",
            "mo        |350.11    |20        \n"
          ]
        }
      ],
      "source": [
        "print('%-10s|%-10s|%-10s' % ('nom','puht','quantite'))\n",
        "for i in range(len(noms)) :\n",
        "  print('%-10s|%-10.2f|%-10d' % (noms[i],puhts[i],quantites[i]))"
      ]
    },
    {
      "cell_type": "markdown",
      "metadata": {
        "id": "PK1txWEKKxBh"
      },
      "source": [
        "**Boucle while**"
      ]
    },
    {
      "cell_type": "code",
      "execution_count": 7,
      "metadata": {
        "colab": {
          "base_uri": "https://localhost:8080/"
        },
        "id": "2gXchySVKlDv",
        "outputId": "baad3db4-1878-47b9-86dd-e9a472a7cf88"
      },
      "outputs": [
        {
          "name": "stdout",
          "output_type": "stream",
          "text": [
            "tv\n",
            "rfg\n",
            "mo\n"
          ]
        }
      ],
      "source": [
        "i=0\n",
        "while i<len(noms) :\n",
        "  print(noms[i])\n",
        "  i=i+1 # i+=1"
      ]
    },
    {
      "cell_type": "code",
      "execution_count": 8,
      "metadata": {
        "colab": {
          "base_uri": "https://localhost:8080/"
        },
        "id": "HS0NkZvoLtMy",
        "outputId": "2a0a64f8-ef5a-4f33-e9ca-12075ce619a2"
      },
      "outputs": [
        {
          "name": "stdout",
          "output_type": "stream",
          "text": [
            "tv\n",
            "rfg\n",
            "mo\n"
          ]
        }
      ],
      "source": [
        "for i in range(len(noms)) :\n",
        "  print(noms[i])"
      ]
    },
    {
      "cell_type": "markdown",
      "metadata": {
        "id": "xvE6yi_YMHN4"
      },
      "source": [
        "Contrôle de saisie"
      ]
    },
    {
      "cell_type": "code",
      "execution_count": 10,
      "metadata": {
        "colab": {
          "base_uri": "https://localhost:8080/"
        },
        "id": "c-quUrR-L133",
        "outputId": "ec0e545d-d51d-48ab-ad7f-83764562ca6c"
      },
      "outputs": [
        {
          "name": "stdout",
          "output_type": "stream",
          "text": [
            "Entrer votre nom:Ali\n",
            "Entrer votre nom:aleh\n",
            "Entrer votre nom:ma\n",
            "Entrer votre nom:Sonia\n",
            "Entrer votre nom:quit\n"
          ]
        }
      ],
      "source": [
        "noms=[]\n",
        "saisie=True\n",
        "while  saisie :\n",
        "  nom=input('Entrer votre nom:')\n",
        "  if nom=='quit':\n",
        "    saisie=False\n",
        "  else: # nom!='quit'\n",
        "    noms.append(nom)"
      ]
    },
    {
      "cell_type": "code",
      "execution_count": 11,
      "metadata": {
        "colab": {
          "base_uri": "https://localhost:8080/"
        },
        "id": "apdGWj3VNHXk",
        "outputId": "2c672891-2129-4ac8-f4c5-c76bb1004a70"
      },
      "outputs": [
        {
          "data": {
            "text/plain": [
              "['Ali', 'aleh', 'ma', 'Sonia']"
            ]
          },
          "execution_count": 11,
          "metadata": {},
          "output_type": "execute_result"
        }
      ],
      "source": [
        "noms"
      ]
    },
    {
      "cell_type": "markdown",
      "metadata": {
        "id": "GYSAy_15OIJQ"
      },
      "source": [
        "**Pass vs Break vs Continue**"
      ]
    },
    {
      "cell_type": "code",
      "execution_count": 12,
      "metadata": {
        "colab": {
          "base_uri": "https://localhost:8080/"
        },
        "id": "odFn8ikLNqbp",
        "outputId": "efaabd97-fda0-4ffb-93ef-9d2977dc391c"
      },
      "outputs": [
        {
          "name": "stdout",
          "output_type": "stream",
          "text": [
            "0\n",
            "1\n",
            "2\n",
            "3\n",
            "4\n",
            "5\n",
            "6\n",
            "7\n",
            "8\n",
            "9\n"
          ]
        }
      ],
      "source": [
        "for i in range(10):\n",
        "  print(i)"
      ]
    },
    {
      "cell_type": "code",
      "execution_count": 14,
      "metadata": {
        "colab": {
          "base_uri": "https://localhost:8080/"
        },
        "id": "v3ZTAXwcOPYw",
        "outputId": "b984f77a-edad-4de7-bf0d-7064976b3e8e"
      },
      "outputs": [
        {
          "name": "stdout",
          "output_type": "stream",
          "text": [
            "0\n",
            "1\n",
            "2\n",
            "3\n",
            "4\n",
            "5\n",
            "6\n",
            "7\n",
            "8\n",
            "9\n"
          ]
        }
      ],
      "source": [
        "for i in range(10):\n",
        "  if i==5:\n",
        "    pass\n",
        "  print(i)"
      ]
    },
    {
      "cell_type": "code",
      "execution_count": 15,
      "metadata": {
        "colab": {
          "base_uri": "https://localhost:8080/"
        },
        "id": "Q6RjqBzjObFG",
        "outputId": "00b98199-999b-45a2-836e-1875ef8c27e2"
      },
      "outputs": [
        {
          "name": "stdout",
          "output_type": "stream",
          "text": [
            "0\n",
            "1\n",
            "2\n",
            "3\n",
            "4\n",
            "6\n",
            "7\n",
            "8\n",
            "9\n"
          ]
        }
      ],
      "source": [
        "for i in range(10):\n",
        "  if i==5:\n",
        "    continue\n",
        "  print(i)"
      ]
    },
    {
      "cell_type": "code",
      "execution_count": 16,
      "metadata": {
        "colab": {
          "base_uri": "https://localhost:8080/"
        },
        "id": "tbpFyOIpOwXC",
        "outputId": "d131809a-59b7-4101-a9ae-837f22495995"
      },
      "outputs": [
        {
          "name": "stdout",
          "output_type": "stream",
          "text": [
            "0\n",
            "1\n",
            "2\n",
            "3\n",
            "4\n"
          ]
        }
      ],
      "source": [
        "for i in range(10):\n",
        "  if i==5:\n",
        "    break\n",
        "  print(i)"
      ]
    },
    {
      "cell_type": "markdown",
      "metadata": {
        "id": "lZvXkoUCO-Ty"
      },
      "source": [
        "**Les fonctions**"
      ]
    },
    {
      "cell_type": "code",
      "execution_count": 17,
      "metadata": {
        "id": "Z92A_kjPO534"
      },
      "outputs": [],
      "source": [
        "def somme(x,y):\n",
        "  z=x+y\n",
        "  return z"
      ]
    },
    {
      "cell_type": "code",
      "execution_count": 18,
      "metadata": {
        "id": "g0hTQE_3Pa9O"
      },
      "outputs": [],
      "source": [
        "s=somme(10,20)"
      ]
    },
    {
      "cell_type": "code",
      "execution_count": 19,
      "metadata": {
        "colab": {
          "base_uri": "https://localhost:8080/"
        },
        "id": "yaob72dBPnL4",
        "outputId": "954e0095-fa31-4560-acdb-9da2cdacc295"
      },
      "outputs": [
        {
          "data": {
            "text/plain": [
              "30"
            ]
          },
          "execution_count": 19,
          "metadata": {},
          "output_type": "execute_result"
        }
      ],
      "source": [
        "s"
      ]
    },
    {
      "cell_type": "code",
      "execution_count": 1,
      "metadata": {
        "colab": {
          "base_uri": "https://localhost:8080/",
          "height": 169
        },
        "id": "-Uj1DPyTPnyc",
        "outputId": "ec9fbee5-2ee0-4fcf-b8bd-8e4941c0c0e5"
      },
      "outputs": [
        {
          "ename": "NameError",
          "evalue": "name 'somme' is not defined",
          "output_type": "error",
          "traceback": [
            "\u001b[1;31m---------------------------------------------------------------------------\u001b[0m",
            "\u001b[1;31mNameError\u001b[0m                                 Traceback (most recent call last)",
            "\u001b[1;32mc:\\Users\\msi\\Downloads\\seance_07_09_22_partie_1.ipynb Cell 20\u001b[0m in \u001b[0;36m<cell line: 1>\u001b[1;34m()\u001b[0m\n\u001b[1;32m----> <a href='vscode-notebook-cell:/c%3A/Users/msi/Downloads/seance_07_09_22_partie_1.ipynb#X25sZmlsZQ%3D%3D?line=0'>1</a>\u001b[0m somme(\u001b[39m10\u001b[39m,\u001b[39m20\u001b[39m,\u001b[39m30\u001b[39m)\n",
            "\u001b[1;31mNameError\u001b[0m: name 'somme' is not defined"
          ]
        }
      ],
      "source": [
        "somme(10,20,30)"
      ]
    },
    {
      "cell_type": "code",
      "execution_count": 23,
      "metadata": {
        "colab": {
          "base_uri": "https://localhost:8080/"
        },
        "id": "mxJhxBhrP1PI",
        "outputId": "27d62397-b853-4430-a480-8cf9c61cd081"
      },
      "outputs": [
        {
          "data": {
            "text/plain": [
              "5"
            ]
          },
          "execution_count": 23,
          "metadata": {},
          "output_type": "execute_result"
        }
      ],
      "source": [
        "somme(y=2,x=3)"
      ]
    },
    {
      "cell_type": "code",
      "execution_count": 24,
      "metadata": {
        "id": "FcVZjyn7QRWc"
      },
      "outputs": [],
      "source": [
        "def calcul_puttc(puht,tva):\n",
        "  puttc=puht*(1+tva)\n",
        "  return puttc"
      ]
    },
    {
      "cell_type": "code",
      "execution_count": 25,
      "metadata": {
        "colab": {
          "base_uri": "https://localhost:8080/"
        },
        "id": "QIClfsT-QhlB",
        "outputId": "a48d1ae7-778b-4a9a-836f-2b6d920bb396"
      },
      "outputs": [
        {
          "data": {
            "text/plain": [
              "1100.0"
            ]
          },
          "execution_count": 25,
          "metadata": {},
          "output_type": "execute_result"
        }
      ],
      "source": [
        "calcul_puttc(tva=0.1,puht=1000)"
      ]
    },
    {
      "cell_type": "code",
      "execution_count": 26,
      "metadata": {
        "id": "VqC8czTcQlxw"
      },
      "outputs": [],
      "source": [
        "def calcul_puttc(puht,tva=0.1):\n",
        "  puttc=puht*(1+tva)\n",
        "  return puttc"
      ]
    },
    {
      "cell_type": "code",
      "execution_count": 27,
      "metadata": {
        "colab": {
          "base_uri": "https://localhost:8080/"
        },
        "id": "3l6nBqqUQ-y0",
        "outputId": "864613f5-1d0f-4533-dc31-f53a96183904"
      },
      "outputs": [
        {
          "data": {
            "text/plain": [
              "1100.0"
            ]
          },
          "execution_count": 27,
          "metadata": {},
          "output_type": "execute_result"
        }
      ],
      "source": [
        "calcul_puttc(1000)"
      ]
    },
    {
      "cell_type": "code",
      "execution_count": 28,
      "metadata": {
        "colab": {
          "base_uri": "https://localhost:8080/"
        },
        "id": "qxi8sMS3RBUz",
        "outputId": "e1d2caca-194a-45d2-93cb-9e03c98995aa"
      },
      "outputs": [
        {
          "data": {
            "text/plain": [
              "1200.0"
            ]
          },
          "execution_count": 28,
          "metadata": {},
          "output_type": "execute_result"
        }
      ],
      "source": [
        "calcul_puttc(1000,0.2)"
      ]
    },
    {
      "cell_type": "code",
      "execution_count": 29,
      "metadata": {
        "id": "YwlXwagBRFK5"
      },
      "outputs": [],
      "source": [
        "def calcul(x,y):\n",
        "  z=x+y\n",
        "  t=x*y\n",
        "  return z,t"
      ]
    },
    {
      "cell_type": "code",
      "execution_count": 30,
      "metadata": {
        "id": "4MEV6Z4eRR0v"
      },
      "outputs": [],
      "source": [
        "s,p=calcul(10,20)"
      ]
    },
    {
      "cell_type": "code",
      "execution_count": 31,
      "metadata": {
        "colab": {
          "base_uri": "https://localhost:8080/"
        },
        "id": "Z08CNv65RVVv",
        "outputId": "3cf6b57a-11c1-446c-ee62-5e2f1a78bd7e"
      },
      "outputs": [
        {
          "data": {
            "text/plain": [
              "30"
            ]
          },
          "execution_count": 31,
          "metadata": {},
          "output_type": "execute_result"
        }
      ],
      "source": [
        "s"
      ]
    },
    {
      "cell_type": "code",
      "execution_count": 32,
      "metadata": {
        "colab": {
          "base_uri": "https://localhost:8080/"
        },
        "id": "AVFSdAK6RV18",
        "outputId": "41230917-9218-422f-8464-16819b420fb2"
      },
      "outputs": [
        {
          "data": {
            "text/plain": [
              "200"
            ]
          },
          "execution_count": 32,
          "metadata": {},
          "output_type": "execute_result"
        }
      ],
      "source": [
        "p"
      ]
    },
    {
      "cell_type": "markdown",
      "metadata": {
        "id": "8shqgeKoRa15"
      },
      "source": [
        "**variables locales vs variables globales**"
      ]
    },
    {
      "cell_type": "code",
      "execution_count": 33,
      "metadata": {
        "id": "LI6h0-nBRXg-"
      },
      "outputs": [],
      "source": [
        "tva=0.1 # tva variable globale\n",
        "def calcul_puttc(puht):\n",
        "  puttc=puht*(1+tva) # tva c'est la même variable globale tva\n",
        "  # une variable globale est accessible en lecture\n",
        "  return puttc"
      ]
    },
    {
      "cell_type": "code",
      "execution_count": 34,
      "metadata": {
        "colab": {
          "base_uri": "https://localhost:8080/"
        },
        "id": "m8QbzYZ1R-nA",
        "outputId": "50c06885-d152-4c5e-e638-b44b0dc948eb"
      },
      "outputs": [
        {
          "data": {
            "text/plain": [
              "1100.0"
            ]
          },
          "execution_count": 34,
          "metadata": {},
          "output_type": "execute_result"
        }
      ],
      "source": [
        "calcul_puttc(1000)"
      ]
    },
    {
      "cell_type": "code",
      "execution_count": 35,
      "metadata": {
        "colab": {
          "base_uri": "https://localhost:8080/"
        },
        "id": "uVFeSBnnSAk-",
        "outputId": "065a6221-7457-4de9-e243-7a517bb2aee3"
      },
      "outputs": [
        {
          "data": {
            "text/plain": [
              "0.1"
            ]
          },
          "execution_count": 35,
          "metadata": {},
          "output_type": "execute_result"
        }
      ],
      "source": [
        "tva"
      ]
    },
    {
      "cell_type": "code",
      "execution_count": 36,
      "metadata": {
        "id": "qXdlwZ8FSBu_"
      },
      "outputs": [],
      "source": [
        "tva=0.1 # tva variable globale\n",
        "def calcul_puttc(puht):\n",
        "  tva=0.2 # tva est une variable locale à la fonction calcul_puttc\n",
        "  puttc=puht*(1+tva) # tva c'est la même variable globale tva\n",
        "  # une variable globale est accessible en lecture\n",
        "  return puttc"
      ]
    },
    {
      "cell_type": "code",
      "execution_count": 37,
      "metadata": {
        "colab": {
          "base_uri": "https://localhost:8080/"
        },
        "id": "com6wEsSSnja",
        "outputId": "165acdea-a489-40f8-c3a0-dd81aa4807b9"
      },
      "outputs": [
        {
          "data": {
            "text/plain": [
              "1200.0"
            ]
          },
          "execution_count": 37,
          "metadata": {},
          "output_type": "execute_result"
        }
      ],
      "source": [
        "calcul_puttc(1000)"
      ]
    },
    {
      "cell_type": "code",
      "execution_count": 38,
      "metadata": {
        "colab": {
          "base_uri": "https://localhost:8080/"
        },
        "id": "LjU0_zLhSpaI",
        "outputId": "2fd333b7-ad99-41d5-b539-cbec55536afc"
      },
      "outputs": [
        {
          "data": {
            "text/plain": [
              "0.1"
            ]
          },
          "execution_count": 38,
          "metadata": {},
          "output_type": "execute_result"
        }
      ],
      "source": [
        "tva"
      ]
    },
    {
      "cell_type": "code",
      "execution_count": 39,
      "metadata": {
        "id": "Txzr7dCXSqP6"
      },
      "outputs": [],
      "source": [
        "tva=0.1 # tva variable globale\n",
        "def calcul_puttc(puht):\n",
        "  global tva # expliceitement je permets modif de tva globale\n",
        "  tva=0.2 # tva est la variable globale\n",
        "  puttc=puht*(1+tva)\n",
        "  return puttc"
      ]
    },
    {
      "cell_type": "code",
      "execution_count": 40,
      "metadata": {
        "colab": {
          "base_uri": "https://localhost:8080/"
        },
        "id": "V7EndfstTGdi",
        "outputId": "050d3d34-ed12-4d15-8098-0135e94fba8b"
      },
      "outputs": [
        {
          "data": {
            "text/plain": [
              "1200.0"
            ]
          },
          "execution_count": 40,
          "metadata": {},
          "output_type": "execute_result"
        }
      ],
      "source": [
        "calcul_puttc(1000)"
      ]
    },
    {
      "cell_type": "code",
      "execution_count": 41,
      "metadata": {
        "colab": {
          "base_uri": "https://localhost:8080/"
        },
        "id": "ytYAYi7vTKyM",
        "outputId": "3e673a1c-ec23-4a62-e11b-7674e4672442"
      },
      "outputs": [
        {
          "data": {
            "text/plain": [
              "0.2"
            ]
          },
          "execution_count": 41,
          "metadata": {},
          "output_type": "execute_result"
        }
      ],
      "source": [
        "tva"
      ]
    },
    {
      "cell_type": "code",
      "execution_count": 2,
      "metadata": {},
      "outputs": [
        {
          "data": {
            "text/plain": [
              "110.00000000000001"
            ]
          },
          "execution_count": 2,
          "metadata": {},
          "output_type": "execute_result"
        }
      ],
      "source": [
        "tva = 0.2 # global variable\n",
        "def calculate_puttc(puht):\n",
        "    global tva # global variable\n",
        "    tva = 0.1 # tva is a global variable\n",
        "    return puht*(1+tva) # tva is a global variable\n",
        "    # a global variable is accessible from anywhere in the program\n",
        "\n",
        "calculate_puttc(100)"
      ]
    },
    {
      "cell_type": "markdown",
      "metadata": {},
      "source": [
        "Data Structures: Dictionary, Sets, Tuples"
      ]
    },
    {
      "cell_type": "code",
      "execution_count": 3,
      "metadata": {},
      "outputs": [],
      "source": [
        "names=['Ali', 'Rahma', 'Salah']\n",
        "notes=[12.65, 15.5, 10.5]"
      ]
    },
    {
      "cell_type": "code",
      "execution_count": null,
      "metadata": {},
      "outputs": [],
      "source": [
        "notes={'Ali':12.65, 'Rahma':15.5, 'Salah':10.5} # dictionary"
      ]
    },
    {
      "cell_type": "code",
      "execution_count": null,
      "metadata": {},
      "outputs": [],
      "source": [
        "notes['Ali'] # the value of the key 'Ali' is 12.65"
      ]
    },
    {
      "cell_type": "code",
      "execution_count": 5,
      "metadata": {},
      "outputs": [
        {
          "name": "stdout",
          "output_type": "stream",
          "text": [
            "12.65\n",
            "15.5\n",
            "10.5\n"
          ]
        }
      ],
      "source": [
        "for note in notes:\n",
        "    print(note)"
      ]
    },
    {
      "cell_type": "code",
      "execution_count": 6,
      "metadata": {},
      "outputs": [
        {
          "ename": "AttributeError",
          "evalue": "'list' object has no attribute 'keys'",
          "output_type": "error",
          "traceback": [
            "\u001b[1;31m---------------------------------------------------------------------------\u001b[0m",
            "\u001b[1;31mAttributeError\u001b[0m                            Traceback (most recent call last)",
            "\u001b[1;32mc:\\Users\\msi\\Downloads\\seance_07_09_22_partie_1.ipynb Cell 47\u001b[0m in \u001b[0;36m<cell line: 1>\u001b[1;34m()\u001b[0m\n\u001b[1;32m----> <a href='vscode-notebook-cell:/c%3A/Users/msi/Downloads/seance_07_09_22_partie_1.ipynb#Y102sZmlsZQ%3D%3D?line=0'>1</a>\u001b[0m notes\u001b[39m.\u001b[39;49mkeys()\n",
            "\u001b[1;31mAttributeError\u001b[0m: 'list' object has no attribute 'keys'"
          ]
        }
      ],
      "source": [
        "notes.keys()"
      ]
    },
    {
      "cell_type": "code",
      "execution_count": 7,
      "metadata": {},
      "outputs": [
        {
          "ename": "AttributeError",
          "evalue": "'list' object has no attribute 'values'",
          "output_type": "error",
          "traceback": [
            "\u001b[1;31m---------------------------------------------------------------------------\u001b[0m",
            "\u001b[1;31mAttributeError\u001b[0m                            Traceback (most recent call last)",
            "\u001b[1;32mc:\\Users\\msi\\Downloads\\seance_07_09_22_partie_1.ipynb Cell 48\u001b[0m in \u001b[0;36m<cell line: 1>\u001b[1;34m()\u001b[0m\n\u001b[1;32m----> <a href='vscode-notebook-cell:/c%3A/Users/msi/Downloads/seance_07_09_22_partie_1.ipynb#Y104sZmlsZQ%3D%3D?line=0'>1</a>\u001b[0m notes\u001b[39m.\u001b[39;49mvalues()\n",
            "\u001b[1;31mAttributeError\u001b[0m: 'list' object has no attribute 'values'"
          ]
        }
      ],
      "source": [
        "notes.values()"
      ]
    },
    {
      "cell_type": "code",
      "execution_count": 8,
      "metadata": {},
      "outputs": [
        {
          "ename": "AttributeError",
          "evalue": "'list' object has no attribute 'items'",
          "output_type": "error",
          "traceback": [
            "\u001b[1;31m---------------------------------------------------------------------------\u001b[0m",
            "\u001b[1;31mAttributeError\u001b[0m                            Traceback (most recent call last)",
            "\u001b[1;32mc:\\Users\\msi\\Downloads\\seance_07_09_22_partie_1.ipynb Cell 49\u001b[0m in \u001b[0;36m<cell line: 1>\u001b[1;34m()\u001b[0m\n\u001b[1;32m----> <a href='vscode-notebook-cell:/c%3A/Users/msi/Downloads/seance_07_09_22_partie_1.ipynb#Y105sZmlsZQ%3D%3D?line=0'>1</a>\u001b[0m notes\u001b[39m.\u001b[39;49mitems()\n",
            "\u001b[1;31mAttributeError\u001b[0m: 'list' object has no attribute 'items'"
          ]
        }
      ],
      "source": [
        "notes.items()"
      ]
    },
    {
      "cell_type": "code",
      "execution_count": 10,
      "metadata": {},
      "outputs": [
        {
          "name": "stdout",
          "output_type": "stream",
          "text": [
            "TV 1500.5156\n"
          ]
        }
      ],
      "source": [
        "products = {'TV':1500.5156, 'Laptop':2000.789, 'Mobile':700.59, 'Tablet':1000.875}\n",
        "\n",
        "product = input(\"Enter product name:\")\n",
        "if product in products:\n",
        "    for key, value in products.items():\n",
        "        if key == product:\n",
        "            print(key, value)\n",
        "            break\n",
        "else:\n",
        "    print(\"Product not found\")"
      ]
    },
    {
      "cell_type": "code",
      "execution_count": 12,
      "metadata": {},
      "outputs": [],
      "source": [
        "tva=0.1\n",
        "noms=[]\n",
        "puhts=[]\n",
        "quantities=[]\n",
        "def saisie_produit()\n",
        "  saisie=True\n",
        "  while  saisie :\n",
        "    nom=input('Entrer votre nom:')\n",
        "    if nom=='quit':\n",
        "      saisie=False\n",
        "    else: # nom!='quit'\n",
        "      noms.append(nom)\n",
        "\n",
        "  while  saisie :\n",
        "    puht=floatinput('Entrer votre puht:')\n",
        "    if puht=='quit':\n",
        "      saisie=False\n",
        "    else: # puht!='quit'\n",
        "      puhts.append(puht)\n",
        "\n",
        "  while  saisie :\n",
        "    quantitie=intinput('Entrer votre quantitie:')\n",
        "    if quantitie=='quit':\n",
        "      saisie=False\n",
        "    else: # quantitie!='quit'\n",
        "      quantities.append(quantitie)\n",
        "  return nom,puht,quantitie\n",
        "\n"
      ]
    },
    {
      "cell_type": "code",
      "execution_count": 16,
      "metadata": {},
      "outputs": [
        {
          "name": "stdout",
          "output_type": "stream",
          "text": [
            "nom       |puht      |quantite  \n"
          ]
        },
        {
          "ename": "NameError",
          "evalue": "name 'puhts' is not defined",
          "output_type": "error",
          "traceback": [
            "\u001b[1;31m---------------------------------------------------------------------------\u001b[0m",
            "\u001b[1;31mNameError\u001b[0m                                 Traceback (most recent call last)",
            "\u001b[1;32mc:\\Users\\msi\\Downloads\\seance_07_09_22_partie_1.ipynb Cell 52\u001b[0m in \u001b[0;36m<cell line: 2>\u001b[1;34m()\u001b[0m\n\u001b[0;32m      <a href='vscode-notebook-cell:/c%3A/Users/msi/Downloads/seance_07_09_22_partie_1.ipynb#Y111sZmlsZQ%3D%3D?line=0'>1</a>\u001b[0m \u001b[39mprint\u001b[39m(\u001b[39m'\u001b[39m\u001b[39m%-10s\u001b[39;00m\u001b[39m|\u001b[39m\u001b[39m%-10s\u001b[39;00m\u001b[39m|\u001b[39m\u001b[39m%-10s\u001b[39;00m\u001b[39m'\u001b[39m \u001b[39m%\u001b[39m (\u001b[39m'\u001b[39m\u001b[39mnom\u001b[39m\u001b[39m'\u001b[39m,\u001b[39m'\u001b[39m\u001b[39mpuht\u001b[39m\u001b[39m'\u001b[39m,\u001b[39m'\u001b[39m\u001b[39mquantite\u001b[39m\u001b[39m'\u001b[39m))\n\u001b[0;32m      <a href='vscode-notebook-cell:/c%3A/Users/msi/Downloads/seance_07_09_22_partie_1.ipynb#Y111sZmlsZQ%3D%3D?line=1'>2</a>\u001b[0m \u001b[39mfor\u001b[39;00m i \u001b[39min\u001b[39;00m \u001b[39mrange\u001b[39m(\u001b[39mlen\u001b[39m(noms)) :\n\u001b[1;32m----> <a href='vscode-notebook-cell:/c%3A/Users/msi/Downloads/seance_07_09_22_partie_1.ipynb#Y111sZmlsZQ%3D%3D?line=2'>3</a>\u001b[0m   \u001b[39mprint\u001b[39m(\u001b[39m'\u001b[39m\u001b[39m%-10s\u001b[39;00m\u001b[39m|\u001b[39m\u001b[39m%-10.2f\u001b[39;00m\u001b[39m|\u001b[39m\u001b[39m%-10d\u001b[39;00m\u001b[39m'\u001b[39m \u001b[39m%\u001b[39m (noms[i],puhts[i],quantites[i]))\n",
            "\u001b[1;31mNameError\u001b[0m: name 'puhts' is not defined"
          ]
        }
      ],
      "source": [
        "print('%-10s|%-10s|%-10s' % ('nom','puht','quantite'))\n",
        "for i in range(len(noms)) :\n",
        "  print('%-10s|%-10.2f|%-10d' % (noms[i],puhts[i],quantites[i]))"
      ]
    },
    {
      "cell_type": "code",
      "execution_count": null,
      "metadata": {},
      "outputs": [],
      "source": [
        "def calculate_puttc(puht):\n",
        "    global tva # global variable\n",
        "    tva = 0.1 # tva is a global variable\n",
        "    puttc=puht*(1+tva) # tva is a global variable\n",
        "    return puttc\n",
        "    # a global variable is accessible from anywhere in the program\n",
        "\n"
      ]
    },
    {
      "cell_type": "code",
      "execution_count": null,
      "metadata": {},
      "outputs": [],
      "source": [
        "def calculate_montant_produit(puttc,quantitierayen):\n",
        "    return puttc*quantitie"
      ]
    },
    {
      "cell_type": "code",
      "execution_count": null,
      "metadata": {},
      "outputs": [],
      "source": [
        "product = input(\"Enter product name:\")\n",
        "if product in products:\n",
        "    for key, value in products.items():\n",
        "        if key == product:\n",
        "            print(key, value)\n",
        "            break\n",
        "else:\n",
        "    print(\"Product not found\")"
      ]
    },
    {
      "cell_type": "code",
      "execution_count": 6,
      "metadata": {},
      "outputs": [
        {
          "name": "stdout",
          "output_type": "stream",
          "text": [
            "2022-09-11 13:27:51.553775\n",
            "11/09/2022 13:27:51\n",
            "11/09/2022 13:27\n",
            "11/09/2022\n",
            "13:27:51\n",
            "13:27\n"
          ]
        }
      ],
      "source": [
        "# Date manipulation in python\n",
        "from datetime import datetime\n",
        "\n",
        "# Get current date and time\n",
        "now = datetime.now()\n",
        "print(now)\n",
        "\n",
        "# application of strftime() method\n",
        "now = datetime.now()\n",
        "\n",
        "# different format of date \n",
        "print(now.strftime(\"%d/%m/%Y %H:%M:%S\"))\n",
        "print(now.strftime(\"%d/%m/%Y %H:%M\"))\n",
        "print(now.strftime(\"%d/%m/%Y\"))\n",
        "print(now.strftime(\"%H:%M:%S\"))\n",
        "print(now.strftime(\"%H:%M\"))\n",
        "\n"
      ]
    }
  ],
  "metadata": {
    "colab": {
      "collapsed_sections": [],
      "provenance": []
    },
    "kernelspec": {
      "display_name": "Python 3.10.7 64-bit (microsoft store)",
      "language": "python",
      "name": "python3"
    },
    "language_info": {
      "codemirror_mode": {
        "name": "ipython",
        "version": 3
      },
      "file_extension": ".py",
      "mimetype": "text/x-python",
      "name": "python",
      "nbconvert_exporter": "python",
      "pygments_lexer": "ipython3",
      "version": "3.10.7"
    },
    "vscode": {
      "interpreter": {
        "hash": "171002ca0d6c473a5ff791bbb5aa7a877aeef24b277cda4853af5f38e9943e22"
      }
    }
  },
  "nbformat": 4,
  "nbformat_minor": 0
}
