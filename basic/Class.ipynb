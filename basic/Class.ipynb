{
  "cells": [
    {
      "cell_type": "markdown",
      "metadata": {
        "id": "Fvm8TkLWUQjZ"
      },
      "source": [
        "**Notion de classe**"
      ]
    },
    {
      "cell_type": "code",
      "execution_count": 2,
      "metadata": {
        "id": "Hlc8-5hjS5lr"
      },
      "outputs": [],
      "source": [
        "# definition de la classe\n",
        "class Point:\n",
        "  # definition du constructeur par defaut de la classe\n",
        "  def __init__(self):\n",
        "    pass "
      ]
    },
    {
      "cell_type": "code",
      "execution_count": 3,
      "metadata": {
        "id": "sg9XJM1_Us8P"
      },
      "outputs": [],
      "source": [
        "# Instantiation d'objet à partir de la classe Point\n",
        "p1=Point()"
      ]
    },
    {
      "cell_type": "code",
      "execution_count": 5,
      "metadata": {
        "id": "DGsNR2BXVbKR"
      },
      "outputs": [],
      "source": [
        "class Point:\n",
        "  def __init__(self,nom,x,y):\n",
        "    self.nom=nom\n",
        "    self.x=x\n",
        "    self.y=y"
      ]
    },
    {
      "cell_type": "code",
      "execution_count": 7,
      "metadata": {
        "id": "gx16F9aQWgd5"
      },
      "outputs": [],
      "source": [
        "p1=Point('P1',2,3)"
      ]
    },
    {
      "cell_type": "code",
      "execution_count": 8,
      "metadata": {
        "colab": {
          "base_uri": "https://localhost:8080/",
          "height": 36
        },
        "id": "nvW120XXXK2Q",
        "outputId": "d5d0f595-a73d-413a-c131-111793f76f39"
      },
      "outputs": [
        {
          "data": {
            "application/vnd.google.colaboratory.intrinsic+json": {
              "type": "string"
            },
            "text/plain": [
              "'P1'"
            ]
          },
          "execution_count": 8,
          "metadata": {},
          "output_type": "execute_result"
        }
      ],
      "source": [
        "p1.nom"
      ]
    },
    {
      "cell_type": "code",
      "execution_count": 24,
      "metadata": {
        "id": "h7CeCD96XdBO"
      },
      "outputs": [],
      "source": [
        "class Point:\n",
        "  def __init__(self,nom='P',x=0,y=0):\n",
        "    self.nom=nom\n",
        "    self.x=x\n",
        "    self.y=y"
      ]
    },
    {
      "cell_type": "code",
      "execution_count": 25,
      "metadata": {
        "id": "C3xDEYXNXjmk"
      },
      "outputs": [],
      "source": [
        "p1=Point()"
      ]
    },
    {
      "cell_type": "code",
      "execution_count": 26,
      "metadata": {
        "colab": {
          "base_uri": "https://localhost:8080/",
          "height": 36
        },
        "id": "EibCiEDcXoZK",
        "outputId": "ed368bcc-43e1-48cf-88e1-3ee000c45423"
      },
      "outputs": [
        {
          "data": {
            "application/vnd.google.colaboratory.intrinsic+json": {
              "type": "string"
            },
            "text/plain": [
              "'P'"
            ]
          },
          "execution_count": 26,
          "metadata": {},
          "output_type": "execute_result"
        }
      ],
      "source": [
        "p1.nom"
      ]
    },
    {
      "cell_type": "code",
      "execution_count": 27,
      "metadata": {
        "colab": {
          "base_uri": "https://localhost:8080/"
        },
        "id": "xD0vlz9BXxXu",
        "outputId": "6cb9f8d3-0b45-437e-9920-0b2428e31464"
      },
      "outputs": [
        {
          "data": {
            "text/plain": [
              "0"
            ]
          },
          "execution_count": 27,
          "metadata": {},
          "output_type": "execute_result"
        }
      ],
      "source": [
        "p1.x"
      ]
    },
    {
      "cell_type": "code",
      "execution_count": 28,
      "metadata": {
        "id": "9CAPbcVxXyBa"
      },
      "outputs": [],
      "source": [
        "p2=Point('P2')"
      ]
    },
    {
      "cell_type": "code",
      "execution_count": 29,
      "metadata": {
        "colab": {
          "base_uri": "https://localhost:8080/",
          "height": 36
        },
        "id": "afsSWh7RYI1i",
        "outputId": "bb382004-bfc3-4d08-9797-8489eaf27be7"
      },
      "outputs": [
        {
          "data": {
            "application/vnd.google.colaboratory.intrinsic+json": {
              "type": "string"
            },
            "text/plain": [
              "'P2'"
            ]
          },
          "execution_count": 29,
          "metadata": {},
          "output_type": "execute_result"
        }
      ],
      "source": [
        "p2.nom"
      ]
    },
    {
      "cell_type": "code",
      "execution_count": 30,
      "metadata": {
        "colab": {
          "base_uri": "https://localhost:8080/"
        },
        "id": "TdO6BCKhYJsQ",
        "outputId": "222a451f-620c-47a1-c9ea-93e8d443e3dc"
      },
      "outputs": [
        {
          "data": {
            "text/plain": [
              "0"
            ]
          },
          "execution_count": 30,
          "metadata": {},
          "output_type": "execute_result"
        }
      ],
      "source": [
        "p2.x"
      ]
    },
    {
      "cell_type": "code",
      "execution_count": 31,
      "metadata": {
        "id": "JAtXlg8hYKk_"
      },
      "outputs": [],
      "source": [
        "p2=Point(x=10,nom='P2')"
      ]
    },
    {
      "cell_type": "code",
      "execution_count": 32,
      "metadata": {
        "colab": {
          "base_uri": "https://localhost:8080/",
          "height": 36
        },
        "id": "Dp9SeY84YSSz",
        "outputId": "06f2e198-1209-40fd-e380-4af0e96189a2"
      },
      "outputs": [
        {
          "data": {
            "application/vnd.google.colaboratory.intrinsic+json": {
              "type": "string"
            },
            "text/plain": [
              "'P2'"
            ]
          },
          "execution_count": 32,
          "metadata": {},
          "output_type": "execute_result"
        }
      ],
      "source": [
        "p2.nom"
      ]
    },
    {
      "cell_type": "code",
      "execution_count": 33,
      "metadata": {
        "colab": {
          "base_uri": "https://localhost:8080/"
        },
        "id": "Pc2-fP6tYWZ8",
        "outputId": "6d4cb373-6c6c-4ca9-c462-c4e8513552f4"
      },
      "outputs": [
        {
          "data": {
            "text/plain": [
              "10"
            ]
          },
          "execution_count": 33,
          "metadata": {},
          "output_type": "execute_result"
        }
      ],
      "source": [
        "p2.x"
      ]
    },
    {
      "cell_type": "code",
      "execution_count": 34,
      "metadata": {
        "colab": {
          "base_uri": "https://localhost:8080/"
        },
        "id": "pVRjD5J0YXqF",
        "outputId": "71e686c2-7b5b-496f-9744-6f917fc7795c"
      },
      "outputs": [
        {
          "data": {
            "text/plain": [
              "0"
            ]
          },
          "execution_count": 34,
          "metadata": {},
          "output_type": "execute_result"
        }
      ],
      "source": [
        "p2.y"
      ]
    },
    {
      "cell_type": "code",
      "execution_count": 39,
      "metadata": {
        "id": "u2Gtz88jYYf5"
      },
      "outputs": [],
      "source": [
        "class Point:\n",
        "  def __init__(self,nom='P',x=0,y=0):\n",
        "    self.nom=nom\n",
        "    self.x=x\n",
        "    self.y=y\n",
        "  def get(self):\n",
        "    return '%s(%.2f,%.2f)'%(self.nom,self.x,self.y)\n",
        "  def afficher(self):\n",
        "    print(self.get())"
      ]
    },
    {
      "cell_type": "code",
      "execution_count": 40,
      "metadata": {
        "id": "1aMRzxE5Y2FY"
      },
      "outputs": [],
      "source": [
        "p1=Point(nom='P1',x=3,y=5)"
      ]
    },
    {
      "cell_type": "code",
      "execution_count": 41,
      "metadata": {
        "colab": {
          "base_uri": "https://localhost:8080/"
        },
        "id": "POxO-xuNY7Fw",
        "outputId": "2a28d6e2-7903-48a5-e186-d8d0d0e6b931"
      },
      "outputs": [
        {
          "name": "stdout",
          "output_type": "stream",
          "text": [
            "P1(3.00,5.00)\n"
          ]
        }
      ],
      "source": [
        "p1.afficher()"
      ]
    },
    {
      "cell_type": "code",
      "execution_count": 43,
      "metadata": {
        "colab": {
          "base_uri": "https://localhost:8080/",
          "height": 36
        },
        "id": "-RAHhd3zZ7in",
        "outputId": "8fe68640-50e9-4c29-b97d-0e295223c71a"
      },
      "outputs": [
        {
          "data": {
            "application/vnd.google.colaboratory.intrinsic+json": {
              "type": "string"
            },
            "text/plain": [
              "'P1(3.00,5.00)'"
            ]
          },
          "execution_count": 43,
          "metadata": {},
          "output_type": "execute_result"
        }
      ],
      "source": [
        "s=p1.get()\n",
        "s"
      ]
    }
  ],
  "metadata": {
    "colab": {
      "provenance": []
    },
    "kernelspec": {
      "display_name": "Python 3.10.7 64-bit (microsoft store)",
      "language": "python",
      "name": "python3"
    },
    "language_info": {
      "name": "python",
      "version": "3.10.7"
    },
    "vscode": {
      "interpreter": {
        "hash": "171002ca0d6c473a5ff791bbb5aa7a877aeef24b277cda4853af5f38e9943e22"
      }
    }
  },
  "nbformat": 4,
  "nbformat_minor": 0
}
