{
  "cells": [
    {
      "cell_type": "markdown",
      "metadata": {
        "id": "DnAHeymRpgW6"
      },
      "source": [
        "**Description**"
      ]
    },
    {
      "cell_type": "markdown",
      "metadata": {
        "id": "mnI4YC-Xp1d9"
      },
      "source": [
        "Kmeans est une technique de Machine Learning qui est utilisée pour le regroupement des données (clustering) en groupes (clusters).\n",
        "\n",
        "*Modèle:*\n",
        "\n",
        "Le modèle de Kmeans est l'ensemble des centres des clusters.\n",
        "\n",
        "*Hyperparamètre:*\n",
        "\n",
        "Kmeans a un hyperparamètre appelé K qui représente le nombre de clusters.\n",
        "\n",
        "*Apprentissage:*\n",
        "\n",
        "L'algorithme d'apprentissage de Kmeans est non supervisé : il apprend avec des données non étiquetées. Cet algorithme essaie de trouver les centres des clusters optimales. \n",
        "\n",
        "*Prédiction:*\n",
        "\n",
        "Une fois l'apprentissage est fini, Kmeans permet de prédire pour un point donné à quel groupe il appartient."
      ]
    },
    {
      "cell_type": "markdown",
      "metadata": {
        "id": "6m5N15rERu7c"
      },
      "source": [
        "**Données d'apprentissage**\n",
        "\n",
        "Soit une population ds employés qu'on veut regrouper en clusters.\n",
        "\n",
        "Créer une matrice des données d'employés X (comme étant des points de même dimension).\n",
        "\n",
        "              X=[1100.67 31\n",
        "                 3500.98 58\n",
        "                 1300.58 35\n",
        "                 3100.98 55\n",
        "                 1200.77 32]\n"
      ]
    },
    {
      "cell_type": "code",
      "execution_count": 2,
      "metadata": {
        "id": "BXWkHu53Rujj"
      },
      "outputs": [],
      "source": [
        "# cree une matrice de donnée d'employés X avec 3 clusters\n",
        "import numpy as np\n",
        "X=np.array([[1100.67, 31],\n",
        "            [1300.58, 35],\n",
        "            [3500.98, 58],\n",
        "            [3100.98, 55],\n",
        "            [1200.77, 32]])"
      ]
    },
    {
      "cell_type": "markdown",
      "metadata": {
        "id": "Jf2lQtSHt5ha"
      },
      "source": [
        "**Hyperparamètre**\n",
        "\n",
        "Choisir le nombre des clusters K"
      ]
    },
    {
      "cell_type": "code",
      "execution_count": 3,
      "metadata": {
        "id": "QmZLC8Fft-11"
      },
      "outputs": [],
      "source": [
        "K=2"
      ]
    },
    {
      "cell_type": "markdown",
      "metadata": {
        "id": "BLSrONc9rXLY"
      },
      "source": [
        "**Modèle**"
      ]
    },
    {
      "cell_type": "markdown",
      "metadata": {
        "id": "E40gTT0Kpq26"
      },
      "source": [
        "Initialiser les centres des clusters\n",
        "\n",
        "Choisir d'une façon aléatoire K points des données comme centres des clusters.\n",
        "\n",
        "Notes:\n",
        "- Mettre les centres intiales dans une matrice M\n",
        "- Utiliser la fonction random.choice()"
      ]
    },
    {
      "cell_type": "code",
      "execution_count": 6,
      "metadata": {},
      "outputs": [
        {
          "name": "stdout",
          "output_type": "stream",
          "text": [
            "[[1300.58   35.  ]\n",
            " [3100.98   55.  ]]\n"
          ]
        }
      ],
      "source": [
        "# 1. Initialisation des centres using random selection of K points from X \n",
        "M=X[np.random.choice(X.shape[0], K, replace=False),:] # M est la matrice des centres de clusters \n",
        "print(M)"
      ]
    },
    {
      "cell_type": "markdown",
      "metadata": {
        "id": "2jdvBY3JuDOQ"
      },
      "source": [
        "**Apprentissage**"
      ]
    },
    {
      "cell_type": "markdown",
      "metadata": {
        "id": "huyacmnbunBt"
      },
      "source": [
        "L'algorithme est comme suit :\n",
        "\n",
        "          Pour chaque t de 0 jusqu'à T-1 faire\n",
        "            Pour chaque point p des données faire\n",
        "              Pour chaque centre m_i des clusters M faire\n",
        "                d=distance euclidienne(p,m_i)\n",
        "                Ajouter d dans distances\n",
        "              label de p = argmin(distances) \n",
        "              Ajouter label à labels\n",
        "            Pour chaque centre m_i des clusters faire\n",
        "              c=moyenne arithmétique des points ayant label egale à i"
      ]
    },
    {
      "cell_type": "markdown",
      "metadata": {
        "id": "deqlYW8ax1CP"
      },
      "source": [
        "Etape 1: Implémenter la fonction predire_label() qui prend un point p et qui retourne le label de cluster auquel p appartient.\n",
        "\n",
        "        Pour chaque centre m_i des clusters M faire\n",
        "            d=distance euclidienne(p,m_i)\n",
        "            Ajouter d dans distances\n",
        "        label de p = argmin(distances)\n",
        "\n",
        "Notes:\n",
        "- Utiliser M comme variable globale.\n",
        "- Utiliser la fonction np.argmin()"
      ]
    },
    {
      "cell_type": "code",
      "execution_count": 7,
      "metadata": {
        "id": "642iRH6UulwM"
      },
      "outputs": [],
      "source": [
        "def predict_label(p):\n",
        "    distance=np.empty(K) # distance est un vecteur de taille K\n",
        "    for m in M: # pour chaque centre de cluster\n",
        "        d=np.linalg.norm(p-m) # calculer la distance euclidienne entre p et m\n",
        "        distance= np.append(distance,d) # ajouter la distance au vecteur distance\n",
        "    return np.argmin(distance) # retourner l'indice du minimum de distance\n"
      ]
    },
    {
      "cell_type": "markdown",
      "metadata": {
        "id": "6pIRrZP_yoaF"
      },
      "source": [
        "Etape 2: Définir la fonction determiner_labels() qui prend un ensemble des points X et qui retourne les labels de tous les points.\n",
        "\n",
        "Cette fonction impélmente la partie de l'algorithme d'apprentissage suivante:\n",
        "\n",
        "          Pour chaque point p des données faire\n",
        "              Pour chaque centre m_i des clusters M faire\n",
        "                d=distance euclidienne(p,m_i)\n",
        "                Ajouter d dans distances\n",
        "              label de p = argmin(distances) \n",
        "              Ajouter label à labels\n",
        "Note:\n",
        "- Un label designe l'indice de groupe auquel apparetient un point.\n",
        "- Utiliser la fonction predire_label()\n",
        "- Utiliser M comme variable globale."
      ]
    },
    {
      "cell_type": "code",
      "execution_count": 9,
      "metadata": {
        "id": "Nnzb5g-50p6C"
      },
      "outputs": [],
      "source": [
        "def determine_label(X):\n",
        "    labels=np.empty(X.shape[0]) # labels est un vecteur de taille X.shape[0]\n",
        "    for x in X: \n",
        "        labed=predict_label(x) # pour chaque point x, prédire son label\n",
        "        labels=np.append(labels,labed) # ajouter le label au vecteur labels\n",
        "    return labels"
      ]
    },
    {
      "cell_type": "markdown",
      "metadata": {
        "id": "JPXmfBbd0u7F"
      },
      "source": [
        "Etape 3: Définir une fonction mettre_a_jour_centres() qui prend les points et leurs labels d'appartenance aux clusters.\n",
        "\n",
        "          Pour chaque centre m_i des clusters faire\n",
        "              m_i=moyenne arithmétique des points ayant label egale à i\n",
        "\n",
        "Note:\n",
        "- Utiliser np.mean()"
      ]
    },
    {
      "cell_type": "code",
      "execution_count": 12,
      "metadata": {
        "id": "0gYvX6QK1yM2"
      },
      "outputs": [],
      "source": [
        "def maj_centres(X,labels):\n",
        "    for m in M:\n",
        "        m=np.mean(X[labels==m],axis=0) # pour chaque centre de cluster, calculer la moyenne des points qui lui sont associés\n",
        "    return M"
      ]
    },
    {
      "cell_type": "markdown",
      "metadata": {
        "id": "R11nasb52BqU"
      },
      "source": [
        "Etape 4:\n",
        "\n",
        "Définir la fonction fit() qui implémente tout l'algorithme d'apprentissage. Elle prend l'ensemble des points X et elle met à jour M (les centres des clusters).\n",
        "\n",
        "Notes:\n",
        "- Utiliser M comme une variable globale.\n",
        "- Utiliser les fonctions determiner_labels() et les fonctions mettre_a_jour()"
      ]
    },
    {
      "cell_type": "code",
      "execution_count": 26,
      "metadata": {
        "id": "q3HBBokt4Fo1"
      },
      "outputs": [],
      "source": [
        "def fit(X):\n",
        "    for i in range(10):\n",
        "        labels=determine_label(X) # prédire les labels de chaque point\n",
        "        M=maj_centres(X,labels) # mettre à jour les centres de clusters\n",
        "    return M,labels"
      ]
    },
    {
      "cell_type": "markdown",
      "metadata": {
        "id": "tUFCmV-u7jaF"
      },
      "source": [
        "**Prédiction**\n",
        "\n",
        "Définir une fonction predict() qui prend une matrice des points d'employés X. Elle retourne les labels de ces points.\n",
        "\n",
        "Note:\n",
        "- Utiliser la fonction predire_label\n",
        "- Utiliser M comme variable globale."
      ]
    },
    {
      "cell_type": "code",
      "execution_count": 15,
      "metadata": {
        "id": "EgkuTmPT8GGp"
      },
      "outputs": [],
      "source": [
        "def predict(X):\n",
        "    result = np.empty(X.shape[0])\n",
        "    for x in X:\n",
        "        result=np.append(result,predict_label(x))\n",
        "    return result"
      ]
    },
    {
      "cell_type": "markdown",
      "metadata": {
        "id": "b4qWcMnO8HdF"
      },
      "source": [
        "**Recap**\n",
        "\n",
        "Nous allons définir Kmeans sous la forme d'une classe que vous appelez Kmeans.\n",
        "\n",
        "Elle contient les fonctions suivantes:\n",
        "- un constructeur dans lequel:\n",
        "  - L'hyperparamètre K est considéré comme attribut d'objet. Il permet de l'initialiser.\n",
        "  - Le modèle M (les centres de clusters) est initialisé aléatoirement\n",
        "- la fonction fit() définie ci-dessus\n",
        "- la fonction predict() définie ci-dessus"
      ]
    },
    {
      "cell_type": "code",
      "execution_count": 34,
      "metadata": {
        "id": "7x7LgAoG8ppV"
      },
      "outputs": [],
      "source": [
        "class Kmeans:\n",
        "    def __init__(self, K=2, max_iter=10):\n",
        "        self.K = K\n",
        "        self.max_iter = max_iter\n",
        "\n",
        "    def fit(self, X):\n",
        "        self.M=X[np.random.choice(X.shape[0], self.K, replace=False),:]\n",
        "        for i in range(self.max_iter):\n",
        "            self.labels=self.determine_label(X)\n",
        "            self.M=self.maj_centres(X,self.labels)\n",
        "        \n",
        "    def predict(self, X):\n",
        "        result =[]\n",
        "        for x in X:\n",
        "            result=np.append(result,predict_label(x))\n",
        "        return result"
      ]
    },
    {
      "cell_type": "code",
      "execution_count": 17,
      "metadata": {},
      "outputs": [],
      "source": [
        "import numpy as np\n",
        "X=np.array([[1100.67, 31],[1300.58, 35],[3500.98, 58],[3100.98, 55],[1200.77, 32]])"
      ]
    },
    {
      "cell_type": "code",
      "execution_count": 18,
      "metadata": {},
      "outputs": [],
      "source": [
        "km=Kmeans(K=2) # instancier un objet de la classe Kmeans"
      ]
    },
    {
      "cell_type": "code",
      "execution_count": 35,
      "metadata": {},
      "outputs": [
        {
          "name": "stderr",
          "output_type": "stream",
          "text": [
            "C:\\Users\\msi\\AppData\\Local\\Temp\\ipykernel_3492\\3714762891.py:3: DeprecationWarning: elementwise comparison failed; this will raise an error in the future.\n",
            "  m=np.mean(X[labels==m],axis=0) # pour chaque centre de cluster, calculer la moyenne des points qui lui sont associés\n",
            "C:\\Users\\msi\\AppData\\Local\\Packages\\PythonSoftwareFoundation.Python.3.10_qbz5n2kfra8p0\\LocalCache\\local-packages\\Python310\\site-packages\\numpy\\core\\fromnumeric.py:3432: RuntimeWarning: Mean of empty slice.\n",
            "  return _methods._mean(a, axis=axis, dtype=dtype,\n",
            "C:\\Users\\msi\\AppData\\Local\\Packages\\PythonSoftwareFoundation.Python.3.10_qbz5n2kfra8p0\\LocalCache\\local-packages\\Python310\\site-packages\\numpy\\core\\_methods.py:182: RuntimeWarning: invalid value encountered in divide\n",
            "  ret = um.true_divide(\n"
          ]
        },
        {
          "data": {
            "text/plain": [
              "(array([[nan, nan],\n",
              "        [nan, nan],\n",
              "        [nan, nan],\n",
              "        [nan, nan],\n",
              "        [nan, nan]]),\n",
              " array([0., 0., 0., 0., 0., 0., 0., 0., 3., 0.]))"
            ]
          },
          "execution_count": 35,
          "metadata": {},
          "output_type": "execute_result"
        }
      ],
      "source": [
        "km.fit(X) # appeler la méthode fit de l'objet km"
      ]
    },
    {
      "cell_type": "code",
      "execution_count": 38,
      "metadata": {},
      "outputs": [
        {
          "data": {
            "text/plain": [
              "array([0., 0., 0., 0., 0., 0., 0., 0., 3., 0.])"
            ]
          },
          "execution_count": 38,
          "metadata": {},
          "output_type": "execute_result"
        }
      ],
      "source": [
        "km.predict(X)  # appeler la méthode predict de l'objet km"
      ]
    },
    {
      "cell_type": "code",
      "execution_count": 66,
      "metadata": {},
      "outputs": [
        {
          "data": {
            "image/png": "[encoded data removed]",
            "text/plain": [
              "<Figure size 640x480 with 1 Axes>"
            ]
          },
          "metadata": {},
          "output_type": "display_data"
        }
      ],
      "source": [
        "#example of kmeans clustering\n",
        "#test data consists of 2 clusters of seniors and juniors with 2 features each (salary and age)\n",
        "#we want to predict the cluster of a new employee \n",
        "test_data = np.array([[1100.67, 31],[1300.58, 35],[3500.98, 58],[3100.98, 55],[1200.77, 32]])\n",
        "#visualize the data\n",
        "import matplotlib.pyplot as plt\n",
        "plt.scatter(test_data[:,0], test_data[:,1])\n",
        "plt.show()"
      ]
    },
    {
      "cell_type": "code",
      "execution_count": 67,
      "metadata": {},
      "outputs": [
        {
          "ename": "IndexError",
          "evalue": "boolean index did not match indexed array along dimension 0; dimension is 5 but corresponding boolean dimension is 10",
          "output_type": "error",
          "traceback": [
            "\u001b[1;31m---------------------------------------------------------------------------\u001b[0m",
            "\u001b[1;31mIndexError\u001b[0m                                Traceback (most recent call last)",
            "\u001b[1;32mc:\\Users\\msi\\Downloads\\clustering_kmeans (1) (1).ipynb Cellule 29\u001b[0m in \u001b[0;36m<cell line: 5>\u001b[1;34m()\u001b[0m\n\u001b[0;32m      <a href='vscode-notebook-cell:/c%3A/Users/msi/Downloads/clustering_kmeans%20%281%29%20%281%29.ipynb#X41sZmlsZQ%3D%3D?line=2'>3</a>\u001b[0m clusters\u001b[39m=\u001b[39mkm\u001b[39m.\u001b[39mpredict(test_data)\n\u001b[0;32m      <a href='vscode-notebook-cell:/c%3A/Users/msi/Downloads/clustering_kmeans%20%281%29%20%281%29.ipynb#X41sZmlsZQ%3D%3D?line=3'>4</a>\u001b[0m \u001b[39m#show first cluster in red and second in blue\u001b[39;00m\n\u001b[1;32m----> <a href='vscode-notebook-cell:/c%3A/Users/msi/Downloads/clustering_kmeans%20%281%29%20%281%29.ipynb#X41sZmlsZQ%3D%3D?line=4'>5</a>\u001b[0m plt\u001b[39m.\u001b[39mscatter(test_data[clusters\u001b[39m==\u001b[39;49m\u001b[39m0\u001b[39;49m,\u001b[39m0\u001b[39;49m], test_data[clusters\u001b[39m==\u001b[39m\u001b[39m0\u001b[39m,\u001b[39m1\u001b[39m], c\u001b[39m=\u001b[39m\u001b[39m'\u001b[39m\u001b[39mr\u001b[39m\u001b[39m'\u001b[39m) \n\u001b[0;32m      <a href='vscode-notebook-cell:/c%3A/Users/msi/Downloads/clustering_kmeans%20%281%29%20%281%29.ipynb#X41sZmlsZQ%3D%3D?line=5'>6</a>\u001b[0m plt\u001b[39m.\u001b[39mscatter(test_data[clusters\u001b[39m==\u001b[39m\u001b[39m1\u001b[39m,\u001b[39m0\u001b[39m], test_data[clusters\u001b[39m==\u001b[39m\u001b[39m1\u001b[39m,\u001b[39m1\u001b[39m], c\u001b[39m=\u001b[39m\u001b[39m'\u001b[39m\u001b[39mb\u001b[39m\u001b[39m'\u001b[39m) \n\u001b[0;32m      <a href='vscode-notebook-cell:/c%3A/Users/msi/Downloads/clustering_kmeans%20%281%29%20%281%29.ipynb#X41sZmlsZQ%3D%3D?line=6'>7</a>\u001b[0m plt\u001b[39m.\u001b[39mshow()\n",
            "\u001b[1;31mIndexError\u001b[0m: boolean index did not match indexed array along dimension 0; dimension is 5 but corresponding boolean dimension is 10"
          ]
        }
      ],
      "source": [
        "#instanciate a Kmeans object with 2 clusters\n",
        "K=2\n",
        "clusters=km.predict(test_data)\n",
        "#show first cluster in red and second in blue\n",
        "plt.scatter(test_data[clusters==0,0], test_data[clusters==0,1], c='r') \n",
        "plt.scatter(test_data[clusters==1,0], test_data[clusters==1,1], c='b') \n",
        "plt.show()"
      ]
    }
  ],
  "metadata": {
    "colab": {
      "collapsed_sections": [],
      "provenance": []
    },
    "kernelspec": {
      "display_name": "Python 3.10.7 64-bit (microsoft store)",
      "language": "python",
      "name": "python3"
    },
    "language_info": {
      "codemirror_mode": {
        "name": "ipython",
        "version": 3
      },
      "file_extension": ".py",
      "mimetype": "text/x-python",
      "name": "python",
      "nbconvert_exporter": "python",
      "pygments_lexer": "ipython3",
      "version": "3.10.7"
    },
    "vscode": {
      "interpreter": {
        "hash": "171002ca0d6c473a5ff791bbb5aa7a877aeef24b277cda4853af5f38e9943e22"
      }
    }
  },
  "nbformat": 4,
  "nbformat_minor": 0
}
