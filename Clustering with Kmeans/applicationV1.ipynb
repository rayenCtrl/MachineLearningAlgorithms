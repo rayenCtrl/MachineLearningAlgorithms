{
 "cells": [
  {
   "cell_type": "code",
   "execution_count": 27,
   "metadata": {},
   "outputs": [],
   "source": [
    "import matplotlib.pyplot as plt\n",
    "import numpy as np\n",
    "from numpy.random import standard_normal, normal, multivariate_normal"
   ]
  },
  {
   "cell_type": "code",
   "execution_count": 4,
   "metadata": {},
   "outputs": [],
   "source": [
    "# les juniors\n",
    "mu1=np.array([1000,28])\n",
    "sigma1=np.array([[5,0],[0,10]])\n",
    "juniors=multivariate_normal(mean=mu1,cov=sigma1,size=500)"
   ]
  },
  {
   "cell_type": "code",
   "execution_count": 5,
   "metadata": {},
   "outputs": [],
   "source": [
    "# les seniors\n",
    "mu2=np.array([5000,55])\n",
    "sigma2=np.array([[100,0],[0,2]])\n",
    "seniors=multivariate_normal(mean=mu2,cov=sigma2,size=50) "
   ]
  },
  {
   "cell_type": "code",
   "execution_count": 6,
   "metadata": {},
   "outputs": [
    {
     "data": {
      "text/plain": [
       "Text(0.5, 1.0, 'Population des employés')"
      ]
     },
     "execution_count": 6,
     "metadata": {},
     "output_type": "execute_result"
    },
    {
     "data": {
      "image/png": "[encoded data removed]",
      "text/plain": [
       "<Figure size 640x480 with 1 Axes>"
      ]
     },
     "metadata": {},
     "output_type": "display_data"
    }
   ],
   "source": [
    "plt.plot(juniors[:,0],juniors[:,1],'r+', label='juniors')\n",
    "plt.plot(seniors[:,0],seniors[:,1],'b+', label='seniors')\n",
    "plt.xlabel('salaire')\n",
    "plt.ylabel('age')\n",
    "plt.xlim([0,7000])\n",
    "plt.ylim([0,100])\n",
    "plt.legend()\n",
    "plt.title('Population des employés')"
   ]
  },
  {
   "cell_type": "markdown",
   "metadata": {},
   "source": [
    "Kmeans"
   ]
  },
  {
   "cell_type": "code",
   "execution_count": 7,
   "metadata": {},
   "outputs": [
    {
     "name": "stdout",
     "output_type": "stream",
     "text": [
      "moyenne salaire seniors 4999.135837094275\n",
      "moyenne salaire juniors 999.9577200095268\n"
     ]
    }
   ],
   "source": [
    "#calculer la moyenne arithmétique des salaires des juniors et des seniors \n",
    "#et la moyenne arithmétique des âges des juniors et des seniors\n",
    "mu_seniors=np.mean(seniors,axis=0)\n",
    "mu_juniors=np.mean(juniors,axis=0) #axis=0 pour calculer la moyenne sur les lignes\n",
    "print('moyenne salaire seniors',mu_seniors[0])\n",
    "print('moyenne salaire juniors',mu_juniors[0])"
   ]
  },
  {
   "cell_type": "code",
   "execution_count": 8,
   "metadata": {},
   "outputs": [
    {
     "name": "stdout",
     "output_type": "stream",
     "text": [
      "distance seniors 499.2181539412301\n",
      "distance juniors 3500.0879564632055\n"
     ]
    }
   ],
   "source": [
    "requete=np.array([4500,46])\n",
    "#calculer la distance euclidienne entre la requête et les juniors et les seniors\n",
    "dist_seniors=np.linalg.norm(requete-mu_seniors) # norme euclidienne\n",
    "dist_juniors=np.linalg.norm(requete-mu_juniors)\n",
    "print('distance seniors',dist_seniors)\n",
    "print('distance juniors',dist_juniors)"
   ]
  },
  {
   "cell_type": "markdown",
   "metadata": {},
   "source": [
    "---"
   ]
  },
  {
   "cell_type": "markdown",
   "metadata": {},
   "source": [
    "Knn"
   ]
  },
  {
   "cell_type": "code",
   "execution_count": 10,
   "metadata": {},
   "outputs": [
    {
     "data": {
      "text/plain": [
       "array([[ 997.98926334,   30.56955208],\n",
       "       [ 999.73882696,   28.64793435],\n",
       "       [ 997.67426558,   26.74922021],\n",
       "       ...,\n",
       "       [4987.72410742,   55.99539716],\n",
       "       [4999.2246031 ,   56.42636553],\n",
       "       [4984.00426944,   53.56015245]])"
      ]
     },
     "execution_count": 10,
     "metadata": {},
     "output_type": "execute_result"
    }
   ],
   "source": [
    "#concatiner les juniors et les seniors dans une matrice X \n",
    "X=np.vstack((juniors,seniors))\n",
    "X"
   ]
  },
  {
   "cell_type": "code",
   "execution_count": 12,
   "metadata": {},
   "outputs": [],
   "source": [
    "#génerer un vecteur labels de taille égalent à la taille de X\n",
    "#contenant des 1 pour les juniors et des 2 pour les seniors \n",
    "labels=np.hstack((np.ones(juniors.shape[0]),2*np.ones(seniors.shape[0])))\n"
   ]
  },
  {
   "cell_type": "code",
   "execution_count": 15,
   "metadata": {},
   "outputs": [],
   "source": [
    "#calculer la distance euclidienne entre la requête et les individus de X\n",
    "dist=np.linalg.norm(X-requete,axis=1) #axis=1 pour calculer la norme sur les colonnes\n",
    "dist\n"
   ]
  },
  {
   "cell_type": "code",
   "execution_count": 21,
   "metadata": {},
   "outputs": [
    {
     "data": {
      "text/plain": [
       "(array([3500.30418302, 3501.95824662, 3502.04473107, 3502.37864065,\n",
       "        3502.62997414]),\n",
       " array([2., 2., 2., 2., 2.]))"
      ]
     },
     "execution_count": 21,
     "metadata": {},
     "output_type": "execute_result"
    }
   ],
   "source": [
    "#trier les distances et les labels en fonction des distances\n",
    "dist,labels=zip(*sorted(zip(dist,labels)))\n",
    "dist,labels=np.array(dist),np.array(labels)\n",
    "dist,labels\n"
   ]
  },
  {
   "cell_type": "code",
   "execution_count": 23,
   "metadata": {},
   "outputs": [
    {
     "data": {
      "text/plain": [
       "array([2., 2., 2., 2., 2.])"
      ]
     },
     "execution_count": 23,
     "metadata": {},
     "output_type": "execute_result"
    }
   ],
   "source": [
    "#trouver les 5 plus proches voisins\n",
    "labels=np.array(labels[:5])\n",
    "labels"
   ]
  },
  {
   "cell_type": "code",
   "execution_count": 25,
   "metadata": {},
   "outputs": [
    {
     "data": {
      "text/plain": [
       "2.0"
      ]
     },
     "execution_count": 25,
     "metadata": {},
     "output_type": "execute_result"
    }
   ],
   "source": [
    "#trouver le plus grand nombre de labels\n",
    "from collections import Counter\n",
    "Counter(labels).most_common(1)[0][0] \n"
   ]
  },
  {
   "cell_type": "markdown",
   "metadata": {},
   "source": [
    "---"
   ]
  },
  {
   "cell_type": "markdown",
   "metadata": {},
   "source": [
    "gmm Sol°3"
   ]
  },
  {
   "cell_type": "code",
   "execution_count": 89,
   "metadata": {},
   "outputs": [],
   "source": [
    "#estimer la loi gaussienne(mu,sigma) de chaque classe à partir des données d'entrainement\n",
    "from scipy.stats import multivariate_normal\n",
    "G_juniors=multivariate_normal(mean=mu_juniors,cov=sigma1)\n",
    "G_seniors=multivariate_normal(mean=mu_seniors,cov=sigma2)\n",
    "\n",
    "#calculer la probabilité de la requête pour chaque classe\n",
    "p_juniors=G_juniors.pdf(requete)\n",
    "p_seniors=G_seniors.pdf(requete)\n"
   ]
  },
  {
   "cell_type": "code",
   "execution_count": 94,
   "metadata": {},
   "outputs": [
    {
     "data": {
      "text/plain": [
       "array([3.08275109e-05, 4.14664801e-05, 3.82823451e-05, 3.32703887e-05,\n",
       "       6.19771843e-06, 2.65720277e-05, 4.63233848e-06, 4.20043889e-05,\n",
       "       3.51694351e-05, 4.10270004e-05, 3.96949433e-05, 4.02197110e-05,\n",
       "       4.16470341e-05, 2.34696444e-05, 3.47629265e-05, 2.62993191e-05,\n",
       "       1.95476293e-05, 2.46182977e-05, 4.05370301e-05, 1.36763859e-05,\n",
       "       1.91781752e-05, 1.04469529e-05, 4.20429147e-05, 1.73309356e-05,\n",
       "       3.48398540e-05, 3.90609288e-05, 2.24464461e-05, 2.11716180e-05,\n",
       "       3.43686835e-05, 3.89197012e-05, 1.38962348e-06, 4.12263073e-05,\n",
       "       3.73506665e-05, 3.12718525e-05, 2.51451064e-05, 3.70490085e-05,\n",
       "       4.17872566e-05, 3.67376565e-05, 2.50304392e-05, 2.57062988e-06,\n",
       "       1.40567322e-05, 3.85886323e-05, 1.37224792e-05, 3.77799871e-05,\n",
       "       1.78241591e-05, 3.61436853e-05, 3.86787155e-05, 1.93551447e-05,\n",
       "       2.27048866e-05, 1.97961268e-05, 2.62020999e-05, 4.20648693e-05,\n",
       "       3.60655016e-05, 4.02503108e-05, 3.79061038e-05, 1.30543772e-06,\n",
       "       3.51015793e-05, 3.13562627e-05, 4.84564783e-06, 4.20669048e-05,\n",
       "       3.05611655e-05, 3.25962585e-05, 2.60495968e-05, 1.48775350e-05,\n",
       "       7.80855053e-06, 1.91931487e-05, 1.99137733e-05, 5.63928990e-06,\n",
       "       1.41749833e-05, 4.10078536e-05, 3.79138042e-05, 1.79506877e-05,\n",
       "       4.19438867e-05, 4.20883503e-05, 2.74025712e-05, 2.82382358e-05,\n",
       "       4.15602559e-05, 3.95463631e-05, 4.13592218e-05, 2.59977546e-05,\n",
       "       3.57415030e-05, 4.19905401e-05, 2.62939873e-05, 7.95782177e-06,\n",
       "       1.05403532e-05, 3.61054739e-05, 1.98357787e-05, 3.79463160e-05,\n",
       "       3.71552834e-05, 1.86461697e-05, 3.15891155e-05, 3.64109870e-05,\n",
       "       4.20723556e-05, 2.80575896e-05, 2.69111298e-05, 3.28760531e-05,\n",
       "       2.80951984e-06, 3.29066119e-06, 2.63232008e-05, 3.46363614e-05,\n",
       "       2.14036668e-06, 2.64731418e-05, 3.76232740e-05, 3.05594464e-05,\n",
       "       2.61308960e-05, 3.54606655e-05, 3.85348449e-05, 4.19846885e-05,\n",
       "       3.67566025e-06, 3.18937446e-05, 3.63208373e-05, 3.84719339e-05,\n",
       "       7.40340874e-06, 2.89561293e-05, 2.82632854e-05, 3.56003837e-05,\n",
       "       4.11096181e-05, 2.10576950e-05, 3.91002415e-05, 4.01347557e-05,\n",
       "       2.26187182e-05, 8.06626936e-06, 3.02158624e-05, 3.97256742e-05,\n",
       "       2.35320916e-05, 2.94058488e-05, 8.36969128e-06, 3.99281302e-05,\n",
       "       4.19317401e-05, 4.02055082e-05, 4.08386324e-05, 2.72230639e-06,\n",
       "       4.18796673e-05, 2.18257485e-05, 3.71488693e-05, 4.20589237e-05,\n",
       "       3.60458703e-05, 4.19981710e-05, 3.51521178e-05, 1.84598042e-05,\n",
       "       2.90846616e-05, 2.44544766e-05, 4.16696675e-05, 2.58848539e-05,\n",
       "       3.86393728e-05, 2.13148578e-05, 3.99555841e-05, 4.03961927e-05,\n",
       "       1.44603001e-05, 1.79665487e-05, 2.91173405e-05, 4.50338344e-06,\n",
       "       8.80723448e-06, 2.63843885e-05, 3.93947000e-05, 2.66095706e-05,\n",
       "       2.95765240e-05, 1.54759275e-05, 3.31059921e-05, 3.29340828e-05,\n",
       "       4.18918238e-05, 3.08522729e-05, 3.73655859e-05, 4.07903225e-05,\n",
       "       3.05252390e-05, 2.97497139e-05, 4.13066976e-05, 2.08608036e-05,\n",
       "       4.19618564e-05, 3.31123387e-05, 2.20736652e-05, 4.20296674e-05,\n",
       "       3.11353195e-05, 4.16442042e-05, 3.50054663e-05, 3.93551645e-06,\n",
       "       1.90021017e-05, 3.84058240e-05, 1.69460437e-05, 3.73546852e-05,\n",
       "       3.81841437e-05, 3.20647686e-05, 4.13475467e-05, 1.24844204e-06,\n",
       "       4.19237820e-05, 2.65247424e-05, 4.20128334e-05, 3.98774521e-05,\n",
       "       2.32672221e-05, 2.56142183e-05, 4.20150377e-05, 3.08705981e-05,\n",
       "       3.97391392e-05, 3.35785596e-05, 1.86417096e-05, 4.16776288e-05,\n",
       "       3.81656251e-05, 3.00859362e-05, 4.17210009e-05, 3.52564683e-05,\n",
       "       3.76895017e-05, 3.85283067e-05, 4.10999222e-05, 1.17242824e-05,\n",
       "       4.18746930e-05, 4.12585753e-05, 3.03455631e-05, 3.96943635e-05,\n",
       "       2.44620890e-05, 4.19003032e-05, 3.98523200e-05, 3.97742383e-05,\n",
       "       2.82178856e-05, 3.69387736e-05, 4.16766996e-05, 2.41567709e-05,\n",
       "       3.14001836e-05, 8.63623366e-06, 2.45420723e-05, 1.75518364e-05,\n",
       "       3.49508728e-05, 4.15689171e-05, 1.98405268e-05, 4.00052809e-05,\n",
       "       1.55345548e-05, 3.83680031e-05, 4.16093375e-05, 1.17489835e-05,\n",
       "       3.22731931e-05, 6.57891729e-06, 1.56151002e-05, 3.15102254e-05,\n",
       "       3.27152513e-05, 4.15822065e-05, 3.94649203e-05, 3.37997667e-05,\n",
       "       3.78504840e-05, 8.90258786e-06, 4.13756388e-05, 3.60013541e-05,\n",
       "       3.13703283e-05, 2.84495679e-05, 1.45700237e-05, 3.29568922e-05,\n",
       "       1.40312318e-06, 2.00323544e-05, 3.85686627e-05, 1.60669750e-05,\n",
       "       4.12590990e-05, 1.15777151e-05, 3.40570955e-05, 3.66116642e-05,\n",
       "       2.57572934e-05, 3.81288279e-05, 4.17313787e-05, 1.48637730e-05,\n",
       "       4.12463757e-05, 1.16111648e-05, 1.60493366e-05, 2.37679757e-05,\n",
       "       4.13010442e-05, 3.87142524e-05, 6.45041854e-06, 8.17199951e-06,\n",
       "       4.21239773e-05, 2.16947034e-05, 3.78977800e-05, 8.11703021e-06,\n",
       "       5.22168517e-06, 3.62647317e-05, 4.20363133e-05, 4.10105628e-05,\n",
       "       4.09389465e-05, 1.14579930e-05, 4.08899566e-05, 3.34301658e-05,\n",
       "       3.83799677e-05, 1.03182011e-06, 3.33627548e-05, 1.28871599e-06,\n",
       "       4.06522361e-05, 2.36185495e-05, 4.20321967e-05, 1.12455639e-05,\n",
       "       3.38463877e-05, 3.92530327e-05, 4.06068081e-05, 3.29519318e-05,\n",
       "       1.71874494e-05, 1.37624741e-05, 2.97732334e-05, 2.60461219e-05,\n",
       "       4.19991094e-05, 3.22558486e-05, 3.94348597e-05, 4.19944631e-05,\n",
       "       4.20400819e-05, 4.01982876e-05, 4.08192093e-05, 3.42801895e-05,\n",
       "       2.74546736e-05, 2.16395495e-05, 4.20262549e-05, 3.34996930e-05,\n",
       "       4.58188312e-06, 4.20410476e-05, 2.25113951e-05, 2.51371650e-05,\n",
       "       2.91578493e-05, 4.14654573e-06, 4.19767748e-05, 8.58737743e-06,\n",
       "       4.10499481e-05, 3.73979259e-05, 3.82658973e-05, 1.87543214e-05,\n",
       "       1.86265612e-05, 3.92850348e-05, 9.98378816e-06, 4.09373254e-05,\n",
       "       2.26127747e-05, 3.28709406e-05, 3.23107491e-05, 2.61446696e-05,\n",
       "       1.45337851e-05, 1.53892513e-05, 2.77240670e-05, 5.90505001e-06,\n",
       "       2.46660762e-05, 4.15975449e-05, 2.89399878e-05, 3.73028255e-05,\n",
       "       2.83934826e-05, 2.28035853e-05, 4.27102826e-06, 3.61215489e-05,\n",
       "       1.30258271e-05, 4.06242133e-05, 6.04671356e-06, 2.32869622e-05,\n",
       "       8.44217268e-06, 3.02151306e-05, 2.84192394e-05, 2.79766591e-05,\n",
       "       3.31285067e-05, 1.85603678e-05, 9.38576950e-06, 4.09392397e-05,\n",
       "       4.17256257e-05, 7.51325116e-06, 3.85489508e-05, 3.20345127e-07,\n",
       "       3.97513733e-05, 1.99205654e-05, 3.92438772e-05, 2.75681815e-05,\n",
       "       3.53094111e-05, 3.76020077e-05, 1.67798298e-05, 3.74796499e-05,\n",
       "       3.58308072e-05, 1.38993385e-05, 4.18202068e-05, 1.72889627e-05,\n",
       "       4.12664848e-06, 3.36765003e-05, 2.72030791e-05, 3.72123922e-05,\n",
       "       3.16180309e-05, 3.08106794e-05, 3.88863751e-05, 2.24930741e-06,\n",
       "       3.61364757e-05, 2.54312629e-05, 1.92463125e-05, 4.05732289e-05,\n",
       "       2.54262173e-05, 3.91738308e-05, 4.08198234e-05, 2.59208615e-05,\n",
       "       4.00567745e-05, 3.56559643e-05, 3.53550975e-05, 3.98178436e-05,\n",
       "       4.15795458e-05, 3.63454524e-05, 3.57566765e-05, 2.73966531e-05,\n",
       "       4.03018528e-05, 2.87655913e-05, 1.98659889e-05, 3.79977935e-05,\n",
       "       3.24910678e-05, 2.38048839e-05, 4.17933966e-05, 2.19442023e-05,\n",
       "       4.19032183e-05, 1.36300590e-05, 2.32739182e-05, 3.34431502e-05,\n",
       "       3.67080041e-05, 3.08713727e-05, 2.96172031e-06, 4.18881906e-05,\n",
       "       4.17422888e-05, 4.10202421e-05, 4.07539701e-05, 3.37814481e-05,\n",
       "       1.72178995e-05, 3.51501708e-05, 1.92786178e-05, 3.46003662e-05,\n",
       "       4.01426504e-05, 3.63554092e-05, 3.99169971e-05, 4.20163172e-05,\n",
       "       3.20029680e-05, 3.70323352e-05, 4.14239914e-05, 3.17886819e-05,\n",
       "       2.05824161e-05, 1.75659126e-05, 1.07451714e-05, 4.14051112e-05,\n",
       "       1.82946259e-05, 3.88403469e-05, 3.90744904e-05, 9.83061032e-06,\n",
       "       4.20585089e-05, 3.34043302e-05, 3.14476135e-05, 1.20189804e-06,\n",
       "       3.86848365e-05, 7.08395950e-06, 6.85695227e-06, 2.64842775e-05,\n",
       "       3.74282734e-05, 3.51539529e-05, 4.10142442e-05, 3.31919599e-05,\n",
       "       5.57917054e-06, 3.01446733e-05, 3.24340315e-05, 1.03673701e-05,\n",
       "       3.73871199e-05, 3.42345433e-05, 3.36072497e-05, 3.92112839e-05,\n",
       "       3.84472907e-05, 4.20866029e-05, 3.43490044e-05, 2.59758538e-05,\n",
       "       4.17065978e-05, 4.14202849e-05, 2.66191212e-05, 3.78618005e-05,\n",
       "       4.17237331e-05, 2.96525294e-05, 4.14997672e-05, 3.31396664e-05,\n",
       "       2.92450845e-05, 1.68547005e-05, 2.96172544e-05, 4.18409657e-05,\n",
       "       2.28795297e-05, 1.59642176e-05, 7.49630201e-06, 3.00513534e-05,\n",
       "       2.40493069e-06, 3.66438326e-05, 4.18802227e-05, 3.44187700e-05,\n",
       "       2.43697978e-05, 3.63020775e-05, 3.22117744e-05, 4.10049610e-05,\n",
       "       4.11129394e-05, 4.18264927e-05, 4.19274924e-05, 1.37564326e-05,\n",
       "       2.30751049e-05, 3.02394570e-05, 3.14669159e-05, 4.97664298e-06,\n",
       "       4.20216441e-05, 3.14484621e-05, 1.61275656e-05, 1.25273929e-05,\n",
       "       1.46432516e-05, 1.50706541e-05, 3.66249623e-05, 4.08061579e-05,\n",
       "       4.09833122e-05, 2.96567646e-05, 4.18403896e-05, 2.97709013e-05,\n",
       "       2.05503637e-05, 3.89896701e-05, 2.04794151e-05, 3.60373676e-05,\n",
       "       3.05071251e-07, 2.94864242e-07, 2.82288549e-07, 1.78192000e-07,\n",
       "       2.84499350e-07, 2.46381385e-07, 3.05495579e-07, 2.24659321e-07,\n",
       "       2.42170415e-07, 1.86634788e-07, 2.83328335e-07, 2.76272653e-07,\n",
       "       2.27594682e-07, 2.39859140e-07, 2.72474410e-07, 2.92009384e-07,\n",
       "       2.67814279e-07, 2.80566543e-07, 2.97697991e-07, 2.86096073e-07,\n",
       "       2.40007859e-07, 1.70689525e-07, 2.23766249e-07, 2.71781179e-07,\n",
       "       2.73726091e-07, 2.94072336e-07, 7.57172612e-08, 2.79333007e-07,\n",
       "       2.95651758e-07, 1.87942168e-07, 2.72147558e-07, 3.09681929e-07,\n",
       "       2.79930148e-07, 2.58437270e-07, 2.90201966e-07, 1.77913140e-07,\n",
       "       3.03475804e-07, 1.62788624e-07, 2.03015996e-07, 2.61403804e-07,\n",
       "       2.90141161e-07, 2.66034626e-07, 2.24127673e-07, 2.62401010e-07,\n",
       "       2.94619292e-07, 2.68340864e-07, 2.90870530e-07, 2.94599606e-07,\n",
       "       2.73505455e-07, 2.83416512e-07])"
      ]
     },
     "execution_count": 94,
     "metadata": {},
     "output_type": "execute_result"
    }
   ],
   "source": [
    "#calcule de moyenne arithmétique \n",
    "mu=np.mean(X,axis=0)\n",
    "#calcule de la matrice de covariance\n",
    "sigma=np.cov(X.T)\n",
    "\n",
    "#estimation de la loi gaussienne\n",
    "G=multivariate_normal(mean=mu,cov=sigma)\n",
    "G.pdf(X)\n",
    "\n",
    "\n"
   ]
  },
  {
   "cell_type": "code",
   "execution_count": 99,
   "metadata": {},
   "outputs": [
    {
     "name": "stdout",
     "output_type": "stream",
     "text": [
      "p_juniors 0.0\n",
      "p_seniors 0.0\n"
     ]
    }
   ],
   "source": [
    "#calculer la vraisemblance de la requête dans chaque classe\n",
    "p_juniors=G_juniors.pdf(requete)\n",
    "p_seniors=G_seniors.pdf(requete)\n",
    "print('p_juniors',p_juniors)\n",
    "print('p_seniors',p_seniors)"
   ]
  },
  {
   "cell_type": "code",
   "execution_count": 77,
   "metadata": {},
   "outputs": [
    {
     "name": "stdout",
     "output_type": "stream",
     "text": [
      "probabilité a priori seniors 0.09090909090909091\n",
      "probabilité a priori juniors 0.9090909090909091\n"
     ]
    }
   ],
   "source": [
    "#calculer la probabilité a priori de chaque classe \n",
    "#probabilité a priori des seniors\n",
    "p_priori_seniors=seniors.shape[0]/X.shape[0] #shape[0] pour avoir le nombre de lignes\n",
    "#probabilité a priori des juniors\n",
    "p_priori_juniors=juniors.shape[0]/X.shape[0]\n",
    "print('probabilité a priori seniors',p_priori_seniors)\n",
    "print('probabilité a priori juniors',p_priori_juniors)"
   ]
  },
  {
   "cell_type": "code",
   "execution_count": 101,
   "metadata": {},
   "outputs": [
    {
     "name": "stdout",
     "output_type": "stream",
     "text": [
      "probabilité a posteriori seniors 0.0\n",
      "probabilité a posteriori juniors 0.0\n",
      "juniors\n"
     ]
    }
   ],
   "source": [
    "#selon la théoreme de bayes calculer la probabilité a posteriori de la requête pour chaque classe \n",
    "#probabilité a posteriori des seniors\n",
    "p_posteriori_seniors=p_seniors*p_priori_seniors\n",
    "#probabilité a posteriori des juniorsa\n",
    "p_posteriori_juniors=p_juniors*p_priori_juniors\n",
    "print('probabilité a posteriori seniors',p_posteriori_seniors)\n",
    "print('probabilité a posteriori juniors',p_posteriori_juniors)\n",
    "\n",
    "    \n",
    "\n"
   ]
  }
 ],
 "metadata": {
  "kernelspec": {
   "display_name": "Python 3.10.7 64-bit (microsoft store)",
   "language": "python",
   "name": "python3"
  },
  "language_info": {
   "codemirror_mode": {
    "name": "ipython",
    "version": 3
   },
   "file_extension": ".py",
   "mimetype": "text/x-python",
   "name": "python",
   "nbconvert_exporter": "python",
   "pygments_lexer": "ipython3",
   "version": "3.10.8"
  },
  "orig_nbformat": 4,
  "vscode": {
   "interpreter": {
    "hash": "171002ca0d6c473a5ff791bbb5aa7a877aeef24b277cda4853af5f38e9943e22"
   }
  }
 },
 "nbformat": 4,
 "nbformat_minor": 2
}
